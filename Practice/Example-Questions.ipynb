{
 "cells": [
  {
   "cell_type": "raw",
   "metadata": {
    "vscode": {
     "languageId": "raw"
    }
   },
   "source": [
    "---\n",
    "title: \"Example Questions\"\n",
    "author: \"Chloe Feehan\"\n",
    "format: \n",
    "  html:\n",
    "    code-fold: true\n",
    "    embed-resources: true\n",
    "    toc: true\n",
    "theme: flatly\n",
    "---"
   ]
  },
  {
   "cell_type": "code",
   "execution_count": 2,
   "metadata": {},
   "outputs": [],
   "source": [
    "import pandas as pd"
   ]
  },
  {
   "cell_type": "code",
   "execution_count": 3,
   "metadata": {},
   "outputs": [],
   "source": [
    "parks = pd.read_csv(\"national_park_trails.csv\")"
   ]
  },
  {
   "cell_type": "markdown",
   "metadata": {},
   "source": [
    "# Question 1\n",
    "What is the average elevation gain of all trails in Alaska with a difficulty rating of 4 or higher?"
   ]
  },
  {
   "cell_type": "code",
   "execution_count": 7,
   "metadata": {},
   "outputs": [
    {
     "data": {
      "text/plain": [
       "elevation_gain    1027.306629\n",
       "dtype: float64"
      ]
     },
     "execution_count": null,
     "metadata": {},
     "output_type": "execute_result"
    }
   ],
   "source": [
    "parks[(parks[\"state_name\"] == \"Alaska\") & (parks[\"difficulty_rating\"] >= 4)][[\"elevation_gain\"]].mean()"
   ]
  },
  {
   "cell_type": "markdown",
   "metadata": {},
   "source": [
    "# Question 2\n",
    "Which state has the most trails that are loop-type?"
   ]
  },
  {
   "cell_type": "code",
   "execution_count": 107,
   "metadata": {},
   "outputs": [
    {
     "data": {
      "text/plain": [
       "name    California\n",
       "dtype: object"
      ]
     },
     "execution_count": null,
     "metadata": {},
     "output_type": "execute_result"
    }
   ],
   "source": [
    "# loop trails is not in the correct df format, which is why idxmax() is producing \"California\"\n",
    "# if you want it to convert to an actual df, do commented code\n",
    "# the indexes in this are the states\n",
    "loop_trails = parks[parks[\"route_type\"] == \"loop\"].groupby(\"state_name\")[[\"name\"]].count()\n",
    "loop_trails.idxmax()\n",
    "\n",
    "# loop_trails = parks[parks[\"route_type\"] == \"loop\"].groupby(\"state_name\")[[\"name\"]].count().reset_index()\n",
    "# index = loop_trails[\"name\"].idxmax()\n",
    "# loop_trails[\"state_name\"].iloc[index]"
   ]
  },
  {
   "cell_type": "markdown",
   "metadata": {},
   "source": [
    "# Question 3\n",
    "What is the total number of reviews for trails with the birding feature in their description?\n"
   ]
  },
  {
   "cell_type": "code",
   "execution_count": 108,
   "metadata": {},
   "outputs": [
    {
     "data": {
      "text/plain": [
       "num_reviews    160501\n",
       "dtype: int64"
      ]
     },
     "execution_count": null,
     "metadata": {},
     "output_type": "execute_result"
    }
   ],
   "source": [
    "parks[parks[\"activities\"].apply(lambda x: \"birding\" in x)][[\"num_reviews\"]].sum()\n"
   ]
  },
  {
   "cell_type": "markdown",
   "metadata": {},
   "source": [
    "# Question 4\n",
    "What is the average trail popularity for all trails in Yosemite National Park?\n"
   ]
  },
  {
   "cell_type": "code",
   "execution_count": 109,
   "metadata": {},
   "outputs": [
    {
     "data": {
      "text/plain": [
       "popularity    9.235686\n",
       "dtype: float64"
      ]
     },
     "execution_count": null,
     "metadata": {},
     "output_type": "execute_result"
    }
   ],
   "source": [
    "parks[parks[\"area_name\"] == \"Yosemite National Park\"][[\"popularity\"]].mean()"
   ]
  },
  {
   "cell_type": "markdown",
   "metadata": {},
   "source": [
    "# Question 5\n",
    "How many trails are categorized as both “hiking” and “birding” activities in California?\n"
   ]
  },
  {
   "cell_type": "code",
   "execution_count": 111,
   "metadata": {},
   "outputs": [
    {
     "data": {
      "text/plain": [
       "trail_id             410\n",
       "name                 410\n",
       "area_name            410\n",
       "city_name            410\n",
       "state_name           410\n",
       "country_name         410\n",
       "_geoloc              410\n",
       "popularity           410\n",
       "length               410\n",
       "elevation_gain       410\n",
       "difficulty_rating    410\n",
       "route_type           410\n",
       "visitor_usage        394\n",
       "avg_rating           410\n",
       "num_reviews          410\n",
       "features             410\n",
       "activities           410\n",
       "units                410\n",
       "dtype: int64"
      ]
     },
     "execution_count": null,
     "metadata": {},
     "output_type": "execute_result"
    }
   ],
   "source": [
    "ca = parks[parks[\"state_name\"] == \"California\"]\n",
    "ca[ca[\"activities\"].apply(lambda x: \"birding\" in x and \"hiking\" in x)].count()"
   ]
  },
  {
   "cell_type": "markdown",
   "metadata": {},
   "source": [
    "# Question 6\n",
    "What percentage of trails in the United States have a 5-star average rating?\n"
   ]
  },
  {
   "cell_type": "code",
   "execution_count": 80,
   "metadata": {},
   "outputs": [
    {
     "data": {
      "text/plain": [
       "trail_id    16.269242\n",
       "dtype: float64"
      ]
     },
     "execution_count": null,
     "metadata": {},
     "output_type": "execute_result"
    }
   ],
   "source": [
    "trails_5 = parks[parks[\"avg_rating\"] == 5][[\"trail_id\"]].count()\n",
    "trails_5\n",
    "trails_total = parks[\"trail_id\"].count()\n",
    "trails_total\n",
    "(trails_5/trails_total) *100"
   ]
  },
  {
   "cell_type": "markdown",
   "metadata": {},
   "source": [
    "# Question 7\n",
    "Which city has the highest number of trails with the ‘waterfall’ feature?"
   ]
  },
  {
   "cell_type": "code",
   "execution_count": 87,
   "metadata": {},
   "outputs": [
    {
     "data": {
      "text/plain": [
       "trail_id    Yosemite Valley\n",
       "dtype: object"
      ]
     },
     "execution_count": null,
     "metadata": {},
     "output_type": "execute_result"
    }
   ],
   "source": [
    "waterfall = parks[parks[\"features\"].apply(lambda x: \"waterfall\" in x)].groupby(\"city_name\")[[\"trail_id\"]].count()\n",
    "waterfall.idxmax()"
   ]
  },
  {
   "cell_type": "markdown",
   "metadata": {},
   "source": [
    "# Question 8\n",
    "Find the trail with the highest difficulty rating in Denali National Park that also has a length shorter than 8 kilometers."
   ]
  },
  {
   "cell_type": "code",
   "execution_count": 105,
   "metadata": {},
   "outputs": [
    {
     "data": {
      "text/html": [
       "<div>\n",
       "<style scoped>\n",
       "    .dataframe tbody tr th:only-of-type {\n",
       "        vertical-align: middle;\n",
       "    }\n",
       "\n",
       "    .dataframe tbody tr th {\n",
       "        vertical-align: top;\n",
       "    }\n",
       "\n",
       "    .dataframe thead th {\n",
       "        text-align: right;\n",
       "    }\n",
       "</style>\n",
       "<table border=\"1\" class=\"dataframe\">\n",
       "  <thead>\n",
       "    <tr style=\"text-align: right;\">\n",
       "      <th></th>\n",
       "      <th>trail_id</th>\n",
       "      <th>name</th>\n",
       "      <th>area_name</th>\n",
       "      <th>city_name</th>\n",
       "      <th>state_name</th>\n",
       "      <th>country_name</th>\n",
       "      <th>_geoloc</th>\n",
       "      <th>popularity</th>\n",
       "      <th>length</th>\n",
       "      <th>elevation_gain</th>\n",
       "      <th>difficulty_rating</th>\n",
       "      <th>route_type</th>\n",
       "      <th>visitor_usage</th>\n",
       "      <th>avg_rating</th>\n",
       "      <th>num_reviews</th>\n",
       "      <th>features</th>\n",
       "      <th>activities</th>\n",
       "      <th>units</th>\n",
       "    </tr>\n",
       "  </thead>\n",
       "  <tbody>\n",
       "    <tr>\n",
       "      <th>9</th>\n",
       "      <td>10327620</td>\n",
       "      <td>Mount Thorofare Ridge Loop</td>\n",
       "      <td>Denali National Park</td>\n",
       "      <td>Cantwell</td>\n",
       "      <td>Alaska</td>\n",
       "      <td>United States</td>\n",
       "      <td>{'lat': 63.43108, 'lng': -150.31096}</td>\n",
       "      <td>5.7990</td>\n",
       "      <td>6598.294</td>\n",
       "      <td>507.7968</td>\n",
       "      <td>5</td>\n",
       "      <td>loop</td>\n",
       "      <td>1.0</td>\n",
       "      <td>4.5</td>\n",
       "      <td>5</td>\n",
       "      <td>['forest', 'views', 'wild-flowers', 'wildlife']</td>\n",
       "      <td>['hiking']</td>\n",
       "      <td>i</td>\n",
       "    </tr>\n",
       "    <tr>\n",
       "      <th>15</th>\n",
       "      <td>10358126</td>\n",
       "      <td>Camp Ridge Trail</td>\n",
       "      <td>Denali National Park</td>\n",
       "      <td>Denali National Park</td>\n",
       "      <td>Alaska</td>\n",
       "      <td>United States</td>\n",
       "      <td>{'lat': 63.52451, 'lng': -150.96072}</td>\n",
       "      <td>3.6654</td>\n",
       "      <td>6759.228</td>\n",
       "      <td>538.8864</td>\n",
       "      <td>5</td>\n",
       "      <td>out and back</td>\n",
       "      <td>1.0</td>\n",
       "      <td>5.0</td>\n",
       "      <td>8</td>\n",
       "      <td>['dogs-no', 'forest', 'views', 'wildlife']</td>\n",
       "      <td>['hiking', 'trail-running']</td>\n",
       "      <td>i</td>\n",
       "    </tr>\n",
       "    <tr>\n",
       "      <th>1</th>\n",
       "      <td>10236086</td>\n",
       "      <td>Mount Healy Overlook Trail</td>\n",
       "      <td>Denali National Park</td>\n",
       "      <td>Denali National Park</td>\n",
       "      <td>Alaska</td>\n",
       "      <td>United States</td>\n",
       "      <td>{'lat': 63.73049, 'lng': -148.91968}</td>\n",
       "      <td>18.0311</td>\n",
       "      <td>6920.162</td>\n",
       "      <td>507.7968</td>\n",
       "      <td>3</td>\n",
       "      <td>out and back</td>\n",
       "      <td>1.0</td>\n",
       "      <td>4.5</td>\n",
       "      <td>260</td>\n",
       "      <td>['dogs-no', 'forest', 'views', 'wild-flowers',...</td>\n",
       "      <td>['birding', 'camping', 'hiking', 'nature-trips...</td>\n",
       "      <td>i</td>\n",
       "    </tr>\n",
       "    <tr>\n",
       "      <th>6</th>\n",
       "      <td>10236080</td>\n",
       "      <td>Rock Creek Trail</td>\n",
       "      <td>Denali National Park</td>\n",
       "      <td>Denali National Park</td>\n",
       "      <td>Alaska</td>\n",
       "      <td>United States</td>\n",
       "      <td>{'lat': 63.73056, 'lng': -148.91955}</td>\n",
       "      <td>7.6876</td>\n",
       "      <td>7081.096</td>\n",
       "      <td>287.7312</td>\n",
       "      <td>3</td>\n",
       "      <td>out and back</td>\n",
       "      <td>1.0</td>\n",
       "      <td>4.0</td>\n",
       "      <td>39</td>\n",
       "      <td>['dogs-no', 'forest', 'views', 'wild-flowers',...</td>\n",
       "      <td>['birding', 'hiking', 'nature-trips', 'trail-r...</td>\n",
       "      <td>i</td>\n",
       "    </tr>\n",
       "    <tr>\n",
       "      <th>7</th>\n",
       "      <td>10236075</td>\n",
       "      <td>Taiga Trail</td>\n",
       "      <td>Denali National Park</td>\n",
       "      <td>Denali National Park</td>\n",
       "      <td>Alaska</td>\n",
       "      <td>United States</td>\n",
       "      <td>{'lat': 63.73043, 'lng': -148.91922}</td>\n",
       "      <td>5.9038</td>\n",
       "      <td>2574.944</td>\n",
       "      <td>62.7888</td>\n",
       "      <td>3</td>\n",
       "      <td>loop</td>\n",
       "      <td>1.0</td>\n",
       "      <td>4.0</td>\n",
       "      <td>27</td>\n",
       "      <td>['dogs-no', 'forest', 'views', 'wild-flowers',...</td>\n",
       "      <td>['birding', 'hiking', 'nature-trips', 'trail-r...</td>\n",
       "      <td>i</td>\n",
       "    </tr>\n",
       "    <tr>\n",
       "      <th>11</th>\n",
       "      <td>10333556</td>\n",
       "      <td>Tiaga Loop and Horseshoe Lake Trail to Beaver Dam</td>\n",
       "      <td>Denali National Park</td>\n",
       "      <td>Denali National Park</td>\n",
       "      <td>Alaska</td>\n",
       "      <td>United States</td>\n",
       "      <td>{'lat': 63.73128, 'lng': -148.9171}</td>\n",
       "      <td>4.6043</td>\n",
       "      <td>4828.020</td>\n",
       "      <td>158.8008</td>\n",
       "      <td>3</td>\n",
       "      <td>loop</td>\n",
       "      <td>2.0</td>\n",
       "      <td>4.5</td>\n",
       "      <td>15</td>\n",
       "      <td>['dogs-no', 'forest', 'lake', 'views']</td>\n",
       "      <td>['birding', 'hiking', 'nature-trips', 'walking']</td>\n",
       "      <td>i</td>\n",
       "    </tr>\n",
       "    <tr>\n",
       "      <th>12</th>\n",
       "      <td>10265251</td>\n",
       "      <td>Blueberry Hill Trail</td>\n",
       "      <td>Denali National Park</td>\n",
       "      <td>Denali National Park</td>\n",
       "      <td>Alaska</td>\n",
       "      <td>United States</td>\n",
       "      <td>{'lat': 63.49541, 'lng': -150.88137}</td>\n",
       "      <td>4.1956</td>\n",
       "      <td>1448.406</td>\n",
       "      <td>46.9392</td>\n",
       "      <td>3</td>\n",
       "      <td>out and back</td>\n",
       "      <td>2.0</td>\n",
       "      <td>4.5</td>\n",
       "      <td>6</td>\n",
       "      <td>['dogs-no', 'lake', 'views', 'wildlife']</td>\n",
       "      <td>['hiking']</td>\n",
       "      <td>i</td>\n",
       "    </tr>\n",
       "    <tr>\n",
       "      <th>22</th>\n",
       "      <td>10333558</td>\n",
       "      <td>McKinley Station and Morino Loop Trail</td>\n",
       "      <td>Denali National Park</td>\n",
       "      <td>Denali National Park</td>\n",
       "      <td>Alaska</td>\n",
       "      <td>United States</td>\n",
       "      <td>{'lat': 63.7315, 'lng': -148.91785}</td>\n",
       "      <td>2.0877</td>\n",
       "      <td>1448.406</td>\n",
       "      <td>33.8328</td>\n",
       "      <td>3</td>\n",
       "      <td>loop</td>\n",
       "      <td>2.0</td>\n",
       "      <td>3.0</td>\n",
       "      <td>4</td>\n",
       "      <td>['dogs-no', 'views', 'wild-flowers']</td>\n",
       "      <td>['hiking', 'nature-trips', 'walking']</td>\n",
       "      <td>i</td>\n",
       "    </tr>\n",
       "    <tr>\n",
       "      <th>3</th>\n",
       "      <td>10236076</td>\n",
       "      <td>Horseshoe Lake Trail</td>\n",
       "      <td>Denali National Park</td>\n",
       "      <td>Denali National Park</td>\n",
       "      <td>Alaska</td>\n",
       "      <td>United States</td>\n",
       "      <td>{'lat': 63.73661, 'lng': -148.915}</td>\n",
       "      <td>16.2674</td>\n",
       "      <td>3379.614</td>\n",
       "      <td>119.7864</td>\n",
       "      <td>1</td>\n",
       "      <td>loop</td>\n",
       "      <td>2.0</td>\n",
       "      <td>4.5</td>\n",
       "      <td>237</td>\n",
       "      <td>['dogs-no', 'forest', 'lake', 'kids', 'views',...</td>\n",
       "      <td>['birding', 'hiking', 'nature-trips', 'trail-r...</td>\n",
       "      <td>i</td>\n",
       "    </tr>\n",
       "    <tr>\n",
       "      <th>8</th>\n",
       "      <td>10236084</td>\n",
       "      <td>McKinley Station Trail</td>\n",
       "      <td>Denali National Park</td>\n",
       "      <td>Denali National Park</td>\n",
       "      <td>Alaska</td>\n",
       "      <td>United States</td>\n",
       "      <td>{'lat': 63.73324, 'lng': -148.89659}</td>\n",
       "      <td>5.8885</td>\n",
       "      <td>4667.086</td>\n",
       "      <td>113.9952</td>\n",
       "      <td>1</td>\n",
       "      <td>loop</td>\n",
       "      <td>1.0</td>\n",
       "      <td>4.5</td>\n",
       "      <td>21</td>\n",
       "      <td>['dogs-no', 'forest', 'kids', 'views', 'wild-f...</td>\n",
       "      <td>['birding', 'hiking', 'nature-trips', 'trail-r...</td>\n",
       "      <td>i</td>\n",
       "    </tr>\n",
       "    <tr>\n",
       "      <th>10</th>\n",
       "      <td>10265252</td>\n",
       "      <td>McKinley Bar Trail</td>\n",
       "      <td>Denali National Park</td>\n",
       "      <td>Denali National Park</td>\n",
       "      <td>Alaska</td>\n",
       "      <td>United States</td>\n",
       "      <td>{'lat': 63.45799, 'lng': -150.85}</td>\n",
       "      <td>5.6536</td>\n",
       "      <td>7402.964</td>\n",
       "      <td>295.9608</td>\n",
       "      <td>1</td>\n",
       "      <td>out and back</td>\n",
       "      <td>2.0</td>\n",
       "      <td>4.0</td>\n",
       "      <td>17</td>\n",
       "      <td>['dogs-no', 'lake', 'kids', 'river', 'views', ...</td>\n",
       "      <td>['birding', 'hiking', 'nature-trips', 'walking']</td>\n",
       "      <td>i</td>\n",
       "    </tr>\n",
       "    <tr>\n",
       "      <th>16</th>\n",
       "      <td>10236078</td>\n",
       "      <td>Jonesville Trail</td>\n",
       "      <td>Denali National Park</td>\n",
       "      <td>Denali National Park</td>\n",
       "      <td>Alaska</td>\n",
       "      <td>United States</td>\n",
       "      <td>{'lat': 63.73334, 'lng': -148.89618}</td>\n",
       "      <td>3.4891</td>\n",
       "      <td>1448.406</td>\n",
       "      <td>52.7304</td>\n",
       "      <td>1</td>\n",
       "      <td>out and back</td>\n",
       "      <td>1.0</td>\n",
       "      <td>4.0</td>\n",
       "      <td>11</td>\n",
       "      <td>['dogs-no', 'forest', 'kids', 'views', 'wild-f...</td>\n",
       "      <td>['birding', 'hiking', 'nature-trips', 'walking']</td>\n",
       "      <td>i</td>\n",
       "    </tr>\n",
       "    <tr>\n",
       "      <th>17</th>\n",
       "      <td>10343441</td>\n",
       "      <td>Roadside Trail</td>\n",
       "      <td>Denali National Park</td>\n",
       "      <td>Denali National Park</td>\n",
       "      <td>Alaska</td>\n",
       "      <td>United States</td>\n",
       "      <td>{'lat': 63.73034, 'lng': -148.91945}</td>\n",
       "      <td>3.3846</td>\n",
       "      <td>5471.756</td>\n",
       "      <td>214.8840</td>\n",
       "      <td>1</td>\n",
       "      <td>out and back</td>\n",
       "      <td>2.0</td>\n",
       "      <td>4.0</td>\n",
       "      <td>13</td>\n",
       "      <td>['forest', 'kids', 'wildlife']</td>\n",
       "      <td>['hiking', 'trail-running']</td>\n",
       "      <td>i</td>\n",
       "    </tr>\n",
       "    <tr>\n",
       "      <th>24</th>\n",
       "      <td>10333557</td>\n",
       "      <td>Spruce Tree Trail</td>\n",
       "      <td>Denali National Park</td>\n",
       "      <td>Denali National Park</td>\n",
       "      <td>Alaska</td>\n",
       "      <td>United States</td>\n",
       "      <td>{'lat': 63.73136, 'lng': -148.91762}</td>\n",
       "      <td>1.8986</td>\n",
       "      <td>643.736</td>\n",
       "      <td>23.7744</td>\n",
       "      <td>1</td>\n",
       "      <td>loop</td>\n",
       "      <td>2.0</td>\n",
       "      <td>3.0</td>\n",
       "      <td>6</td>\n",
       "      <td>['kids', 'views', 'wildlife']</td>\n",
       "      <td>['hiking', 'nature-trips', 'walking']</td>\n",
       "      <td>i</td>\n",
       "    </tr>\n",
       "  </tbody>\n",
       "</table>\n",
       "</div>"
      ],
      "text/plain": [
       "    trail_id  ... units\n",
       "9   10327620  ...     i\n",
       "15  10358126  ...     i\n",
       "1   10236086  ...     i\n",
       "6   10236080  ...     i\n",
       "7   10236075  ...     i\n",
       "11  10333556  ...     i\n",
       "12  10265251  ...     i\n",
       "22  10333558  ...     i\n",
       "3   10236076  ...     i\n",
       "8   10236084  ...     i\n",
       "10  10265252  ...     i\n",
       "16  10236078  ...     i\n",
       "17  10343441  ...     i\n",
       "24  10333557  ...     i\n",
       "\n",
       "[14 rows x 18 columns]"
      ]
     },
     "execution_count": null,
     "metadata": {},
     "output_type": "execute_result"
    }
   ],
   "source": [
    "denali = parks[(parks[\"area_name\"] == \"Denali National Park\") & (parks[\"length\"] < 8000)]\n",
    "denali.sort_values(by = \"difficulty_rating\", ascending = False)\n",
    "\n",
    "#denali.groupby(\"name\")[\"difficulty_rating\"].max()"
   ]
  },
  {
   "cell_type": "markdown",
   "metadata": {},
   "source": [
    "# Question 9\n",
    "How many trails have more than 50 reviews but a popularity score of less than 4?\n"
   ]
  },
  {
   "cell_type": "code",
   "execution_count": 99,
   "metadata": {},
   "outputs": [
    {
     "data": {
      "text/plain": [
       "trail_id             5\n",
       "name                 5\n",
       "area_name            5\n",
       "city_name            5\n",
       "state_name           5\n",
       "country_name         5\n",
       "_geoloc              5\n",
       "popularity           5\n",
       "length               5\n",
       "elevation_gain       5\n",
       "difficulty_rating    5\n",
       "route_type           5\n",
       "visitor_usage        5\n",
       "avg_rating           5\n",
       "num_reviews          5\n",
       "features             5\n",
       "activities           5\n",
       "units                5\n",
       "dtype: int64"
      ]
     },
     "execution_count": null,
     "metadata": {},
     "output_type": "execute_result"
    }
   ],
   "source": [
    "parks[(parks[\"num_reviews\"]> 50) & (parks[\"popularity\"] < 4)].count()"
   ]
  },
  {
   "cell_type": "markdown",
   "metadata": {},
   "source": [
    "# More Questions"
   ]
  },
  {
   "cell_type": "markdown",
   "metadata": {},
   "source": [
    "Reshape the dataset so that instead of having the columns popularity, length, and elevation_gain, these values appear in a single \"metric\" column with a corresponding \"value\" column. Keep the trail_id, name, and state_name as identifier columns."
   ]
  },
  {
   "cell_type": "code",
   "execution_count": 114,
   "metadata": {},
   "outputs": [
    {
     "data": {
      "text/html": [
       "<div>\n",
       "<style scoped>\n",
       "    .dataframe tbody tr th:only-of-type {\n",
       "        vertical-align: middle;\n",
       "    }\n",
       "\n",
       "    .dataframe tbody tr th {\n",
       "        vertical-align: top;\n",
       "    }\n",
       "\n",
       "    .dataframe thead th {\n",
       "        text-align: right;\n",
       "    }\n",
       "</style>\n",
       "<table border=\"1\" class=\"dataframe\">\n",
       "  <thead>\n",
       "    <tr style=\"text-align: right;\">\n",
       "      <th></th>\n",
       "      <th>trail_id</th>\n",
       "      <th>name</th>\n",
       "      <th>state_name</th>\n",
       "      <th>metric</th>\n",
       "      <th>value</th>\n",
       "    </tr>\n",
       "  </thead>\n",
       "  <tbody>\n",
       "    <tr>\n",
       "      <th>0</th>\n",
       "      <td>10020048</td>\n",
       "      <td>Harding Ice Field Trail</td>\n",
       "      <td>Alaska</td>\n",
       "      <td>popularity</td>\n",
       "      <td>24.8931</td>\n",
       "    </tr>\n",
       "    <tr>\n",
       "      <th>1</th>\n",
       "      <td>10236086</td>\n",
       "      <td>Mount Healy Overlook Trail</td>\n",
       "      <td>Alaska</td>\n",
       "      <td>popularity</td>\n",
       "      <td>18.0311</td>\n",
       "    </tr>\n",
       "    <tr>\n",
       "      <th>2</th>\n",
       "      <td>10267857</td>\n",
       "      <td>Exit Glacier Trail</td>\n",
       "      <td>Alaska</td>\n",
       "      <td>popularity</td>\n",
       "      <td>17.7821</td>\n",
       "    </tr>\n",
       "    <tr>\n",
       "      <th>3</th>\n",
       "      <td>10236076</td>\n",
       "      <td>Horseshoe Lake Trail</td>\n",
       "      <td>Alaska</td>\n",
       "      <td>popularity</td>\n",
       "      <td>16.2674</td>\n",
       "    </tr>\n",
       "    <tr>\n",
       "      <th>4</th>\n",
       "      <td>10236082</td>\n",
       "      <td>Triple Lakes Trail</td>\n",
       "      <td>Alaska</td>\n",
       "      <td>popularity</td>\n",
       "      <td>12.5935</td>\n",
       "    </tr>\n",
       "  </tbody>\n",
       "</table>\n",
       "</div>"
      ],
      "text/plain": [
       "   trail_id                        name state_name      metric    value\n",
       "0  10020048     Harding Ice Field Trail     Alaska  popularity  24.8931\n",
       "1  10236086  Mount Healy Overlook Trail     Alaska  popularity  18.0311\n",
       "2  10267857          Exit Glacier Trail     Alaska  popularity  17.7821\n",
       "3  10236076        Horseshoe Lake Trail     Alaska  popularity  16.2674\n",
       "4  10236082          Triple Lakes Trail     Alaska  popularity  12.5935"
      ]
     },
     "execution_count": null,
     "metadata": {},
     "output_type": "execute_result"
    }
   ],
   "source": [
    "metric_data = parks.melt(id_vars = [\"trail_id\", \"name\", \"state_name\"],\n",
    "                         var_name = \"metric\",\n",
    "                         value_vars = [\"popularity\", \"length\", \"elevation_gain\"],\n",
    "                         value_name = \"value\")\n",
    "metric_data.head()"
   ]
  }
 ],
 "metadata": {
  "language_info": {
   "name": "python"
  }
 },
 "nbformat": 4,
 "nbformat_minor": 2
}
