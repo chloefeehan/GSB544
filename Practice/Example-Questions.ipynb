{
 "cells": [
  {
   "cell_type": "raw",
   "metadata": {
    "vscode": {
     "languageId": "raw"
    }
   },
   "source": [
    "---\n",
    "title: \"Example Questions\"\n",
    "author: \"Chloe Feehan\"\n",
    "format: \n",
    "  html:\n",
    "    code-fold: true\n",
    "    embed-resources: true\n",
    "    toc: true\n",
    "theme: flatly\n",
    "---"
   ]
  },
  {
   "cell_type": "code",
   "execution_count": 2,
   "metadata": {},
   "outputs": [],
   "source": [
    "import pandas as pd"
   ]
  },
  {
   "cell_type": "code",
   "execution_count": 3,
   "metadata": {},
   "outputs": [],
   "source": [
    "parks = pd.read_csv(\"national_park_trails.csv\")"
   ]
  },
  {
   "cell_type": "markdown",
   "metadata": {},
   "source": [
    "# Question 1\n",
    "What is the average elevation gain of all trails in Alaska with a difficulty rating of 4 or higher?"
   ]
  },
  {
   "cell_type": "code",
   "execution_count": 7,
   "metadata": {},
   "outputs": [
    {
     "data": {
      "text/plain": [
       "elevation_gain    1027.306629\n",
       "dtype: float64"
      ]
     },
     "execution_count": null,
     "metadata": {},
     "output_type": "execute_result"
    }
   ],
   "source": [
    "parks[(parks[\"state_name\"] == \"Alaska\") & (parks[\"difficulty_rating\"] >= 4)][[\"elevation_gain\"]].mean()"
   ]
  },
  {
   "cell_type": "markdown",
   "metadata": {},
   "source": [
    "# Question 2\n",
    "Which state has the most trails that are loop-type?"
   ]
  },
  {
   "cell_type": "code",
   "execution_count": 37,
   "metadata": {},
   "outputs": [
    {
     "data": {
      "text/plain": [
       "name    California\n",
       "dtype: object"
      ]
     },
     "execution_count": null,
     "metadata": {},
     "output_type": "execute_result"
    }
   ],
   "source": [
    "# loop trails is not in the correct df format, which is why idxmax() is producing \"California\"\n",
    "# if you want it to convert to an actual df, do commented code\n",
    "# the indexes in this are the states\n",
    "loop_trails = parks[parks[\"route_type\"] == \"loop\"].groupby(\"state_name\")[[\"name\"]].count()\n",
    "loop_trails.idxmax()\n",
    "\n",
    "# loop_trails = parks[parks[\"route_type\"] == \"loop\"].groupby(\"state_name\")[[\"name\"]].count().reset_index()\n",
    "# index = loop_trails[\"name\"].idxmax()\n",
    "# loop_trails[\"state_name\"].iloc[index]"
   ]
  },
  {
   "cell_type": "markdown",
   "metadata": {},
   "source": [
    "# Question 3\n",
    "What is the total number of reviews for trails with the birding feature in their description?\n"
   ]
  },
  {
   "cell_type": "code",
   "execution_count": 60,
   "metadata": {},
   "outputs": [
    {
     "data": {
      "text/plain": [
       "num_reviews    160501\n",
       "dtype: int64"
      ]
     },
     "execution_count": null,
     "metadata": {},
     "output_type": "execute_result"
    }
   ],
   "source": [
    "parks[parks[\"activities\"].apply(lambda x: \"birding\" in x)][[\"num_reviews\"]].sum()\n"
   ]
  },
  {
   "cell_type": "markdown",
   "metadata": {},
   "source": [
    "# Question 4\n",
    "What is the average trail popularity for all trails in Yosemite National Park?\n"
   ]
  },
  {
   "cell_type": "code",
   "execution_count": 46,
   "metadata": {},
   "outputs": [
    {
     "data": {
      "text/plain": [
       "popularity    9.235686\n",
       "dtype: float64"
      ]
     },
     "execution_count": null,
     "metadata": {},
     "output_type": "execute_result"
    }
   ],
   "source": [
    "parks[parks[\"area_name\"] == \"Yosemite National Park\"][[\"popularity\"]].mean()"
   ]
  },
  {
   "cell_type": "markdown",
   "metadata": {},
   "source": [
    "# Question 5\n",
    "How many trails are categorized as both “hiking” and “birding” activities in California?\n"
   ]
  },
  {
   "cell_type": "code",
   "execution_count": 73,
   "metadata": {},
   "outputs": [
    {
     "data": {
      "text/plain": [
       "trail_id             410\n",
       "name                 410\n",
       "area_name            410\n",
       "city_name            410\n",
       "state_name           410\n",
       "country_name         410\n",
       "_geoloc              410\n",
       "popularity           410\n",
       "length               410\n",
       "elevation_gain       410\n",
       "difficulty_rating    410\n",
       "route_type           410\n",
       "visitor_usage        394\n",
       "avg_rating           410\n",
       "num_reviews          410\n",
       "features             410\n",
       "activities           410\n",
       "units                410\n",
       "dtype: int64"
      ]
     },
     "execution_count": null,
     "metadata": {},
     "output_type": "execute_result"
    }
   ],
   "source": [
    "ca = parks[parks[\"state_name\"] == \"California\"]\n",
    "ca[ca[\"activities\"].apply(lambda x: \"birding\" in x and \"hiking\" in x)].count()"
   ]
  },
  {
   "cell_type": "markdown",
   "metadata": {},
   "source": [
    "# Question 6\n",
    "What percentage of trails in the United States have a 5-star average rating?\n"
   ]
  },
  {
   "cell_type": "code",
   "execution_count": 80,
   "metadata": {},
   "outputs": [
    {
     "data": {
      "text/plain": [
       "trail_id    16.269242\n",
       "dtype: float64"
      ]
     },
     "execution_count": null,
     "metadata": {},
     "output_type": "execute_result"
    }
   ],
   "source": [
    "trails_5 = parks[parks[\"avg_rating\"] == 5][[\"trail_id\"]].count()\n",
    "trails_5\n",
    "trails_total = parks[\"trail_id\"].count()\n",
    "trails_total\n",
    "(trails_5/trails_total) *100"
   ]
  },
  {
   "cell_type": "markdown",
   "metadata": {},
   "source": [
    "# Question 7\n",
    "Which city has the highest number of trails with the ‘waterfall’ feature?"
   ]
  },
  {
   "cell_type": "code",
   "execution_count": 87,
   "metadata": {},
   "outputs": [
    {
     "data": {
      "text/plain": [
       "trail_id    Yosemite Valley\n",
       "dtype: object"
      ]
     },
     "execution_count": null,
     "metadata": {},
     "output_type": "execute_result"
    }
   ],
   "source": [
    "waterfall = parks[parks[\"features\"].apply(lambda x: \"waterfall\" in x)].groupby(\"city_name\")[[\"trail_id\"]].count()\n",
    "waterfall.idxmax()"
   ]
  },
  {
   "cell_type": "markdown",
   "metadata": {},
   "source": [
    "# Question 8\n",
    "Find the trail with the highest difficulty rating in Denali National Park that also has a length shorter than 8 kilometers."
   ]
  },
  {
   "cell_type": "code",
   "execution_count": 95,
   "metadata": {},
   "outputs": [
    {
     "data": {
      "text/plain": [
       "trail_id                                                    10327620\n",
       "name                                      Mount Thorofare Ridge Loop\n",
       "area_name                                       Denali National Park\n",
       "city_name                                                   Cantwell\n",
       "state_name                                                    Alaska\n",
       "country_name                                           United States\n",
       "_geoloc                         {'lat': 63.43108, 'lng': -150.31096}\n",
       "popularity                                                     5.799\n",
       "length                                                      6598.294\n",
       "elevation_gain                                              507.7968\n",
       "difficulty_rating                                                  5\n",
       "route_type                                                      loop\n",
       "visitor_usage                                                    1.0\n",
       "avg_rating                                                       4.5\n",
       "num_reviews                                                        5\n",
       "features             ['forest', 'views', 'wild-flowers', 'wildlife']\n",
       "activities                                                ['hiking']\n",
       "units                                                              i\n",
       "Name: 9, dtype: object"
      ]
     },
     "execution_count": null,
     "metadata": {},
     "output_type": "execute_result"
    }
   ],
   "source": [
    "denali = parks[(parks[\"area_name\"] == \"Denali National Park\") & (parks[\"length\"] < 8000)]\n",
    "denali.sort_values(by = \"difficulty_rating\", ascending = False).iloc[0]"
   ]
  },
  {
   "cell_type": "markdown",
   "metadata": {},
   "source": [
    "# Question 9\n",
    "How many trails have more than 50 reviews but a popularity score of less than 4?\n"
   ]
  },
  {
   "cell_type": "code",
   "execution_count": 98,
   "metadata": {},
   "outputs": [
    {
     "data": {
      "text/plain": [
       "trail_id             5\n",
       "name                 5\n",
       "area_name            5\n",
       "city_name            5\n",
       "state_name           5\n",
       "country_name         5\n",
       "_geoloc              5\n",
       "popularity           5\n",
       "length               5\n",
       "elevation_gain       5\n",
       "difficulty_rating    5\n",
       "route_type           5\n",
       "visitor_usage        5\n",
       "avg_rating           5\n",
       "num_reviews          5\n",
       "features             5\n",
       "activities           5\n",
       "units                5\n",
       "dtype: int64"
      ]
     },
     "execution_count": null,
     "metadata": {},
     "output_type": "execute_result"
    }
   ],
   "source": [
    "parks[(parks[\"num_reviews\"]> 50) & (parks[\"popularity\"] < 4)].count()"
   ]
  }
 ],
 "metadata": {
  "language_info": {
   "name": "python"
  }
 },
 "nbformat": 4,
 "nbformat_minor": 2
}
