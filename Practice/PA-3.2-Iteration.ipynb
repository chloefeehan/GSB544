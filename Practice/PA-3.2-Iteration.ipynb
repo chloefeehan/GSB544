{
 "cells": [
  {
   "cell_type": "raw",
   "metadata": {
    "vscode": {
     "languageId": "raw"
    }
   },
   "source": [
    "---\n",
    "title: \"PA 3.2\"\n",
    "author: \"Chloe Feehan\"\n",
    "format: \n",
    "  html:\n",
    "    embed-resources: true\n",
    "    toc: true\n",
    "theme: flatly\n",
    "---"
   ]
  },
  {
   "cell_type": "code",
   "execution_count": 2,
   "metadata": {},
   "outputs": [],
   "source": [
    "import numpy as np\n",
    "import pandas as pd\n",
    "from sys import exit\n",
    "from palmerpenguins import load_penguins\n",
    "from plotnine import ggplot, aes, geom_point, geom_bar"
   ]
  },
  {
   "cell_type": "markdown",
   "metadata": {},
   "source": [
    "Write a function that takes in information about a penguin, and returns one of the following definitions:\n",
    "\n",
    "\"Big Mouth Billy\": Male penguins with bill length times bill depth greater than 800.\n",
    "\n",
    "\"Dainty Daisy\": Female penguins with flipper length less than 5% of body mass.\n",
    "\n",
    "\"Average Adelie:\" Any Adelie penguins that do not fall into either category.\n",
    "\n",
    "\"Other\": Any penguins that do not fall into any of the categories."
   ]
  },
  {
   "cell_type": "code",
   "execution_count": 3,
   "metadata": {},
   "outputs": [],
   "source": [
    "penguins = load_penguins()\n",
    "\n",
    "def classify_penguins(sex, bill_length, bill_depth, flipper_length, species, body_mass):\n",
    "    if (sex == \"male\") and ((bill_length * bill_depth) > 800):\n",
    "        return \"Big Mouth Billy\"\n",
    "    elif (sex == \"female\") and (flipper_length < 0.05*body_mass):\n",
    "        return \"Dainty Daisy\"\n",
    "    elif (species == \"Adelie\"):\n",
    "        return \"Average Adelie\"\n",
    "    else:\n",
    "        return \"Other\""
   ]
  },
  {
   "cell_type": "code",
   "execution_count": 5,
   "metadata": {},
   "outputs": [],
   "source": [
    "# Use an iterable function to create a new variable called category_name that adds these labels.\n",
    "penguins[\"category_name\"] = penguins.apply(lambda x: classify_penguins(\n",
    "    x[\"sex\"], x[\"bill_length_mm\"], x[\"bill_depth_mm\"], x[\"flipper_length_mm\"], \n",
    "    x[\"species\"], x[\"body_mass_g\"]), axis = 1)"
   ]
  },
  {
   "cell_type": "code",
   "execution_count": 10,
   "metadata": {},
   "outputs": [
    {
     "data": {
      "text/plain": [
       "category_name\n",
       "Average Adelie     127\n",
       "Other               84\n",
       "Big Mouth Billy     71\n",
       "Dainty Daisy        62\n",
       "Name: count, dtype: int64"
      ]
     },
     "execution_count": null,
     "metadata": {},
     "output_type": "execute_result"
    }
   ],
   "source": [
    "# get category counts\n",
    "penguins.value_counts(\"category_name\")"
   ]
  }
 ],
 "metadata": {
  "language_info": {
   "name": "python"
  }
 },
 "nbformat": 4,
 "nbformat_minor": 2
}
