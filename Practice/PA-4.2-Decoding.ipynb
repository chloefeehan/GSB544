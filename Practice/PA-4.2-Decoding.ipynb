{
 "cells": [
  {
   "cell_type": "raw",
   "metadata": {
    "vscode": {
     "languageId": "raw"
    }
   },
   "source": [
    "---\n",
    "title: \"PA 4.2 Practice\"\n",
    "author: \"Chloe Feehan\"\n",
    "format: \n",
    "  html:\n",
    "    embed-resources: true\n",
    "    toc: true\n",
    "theme: flatly\n",
    "---"
   ]
  },
  {
   "cell_type": "code",
   "execution_count": 117,
   "metadata": {},
   "outputs": [],
   "source": [
    "import pandas as pd\n",
    "import re\n",
    "\n",
    "message = pd.read_csv(\"https://www.dropbox.com/s/lgpn3vmksk3ssdo/scrambled_message.txt?dl=1\")['Word']"
   ]
  },
  {
   "cell_type": "markdown",
   "metadata": {},
   "source": [
    "How many characters are in the scrambled message?\n",
    "\n",
    "How many of these characters are white space?\n",
    "\n",
    "How many words are in the scrambled message?\n",
    "\n",
    "Show all the punctuation marks in the scrambled message.\n",
    "\n",
    "Print out, in all capitals, the longest word in the scrambled message.\n",
    "\n",
    "Print out every piece of a word that starts with the letter \"m\" and ends with the letter \"z\" in the scrambled message."
   ]
  },
  {
   "cell_type": "code",
   "execution_count": 66,
   "metadata": {},
   "outputs": [
    {
     "name": "stdout",
     "output_type": "stream",
     "text": [
      "2544\n",
      "892\n",
      "127\n",
      "['!', ',', '?', ',', '!', '!', '.', '!', ',', '!', '?', '?', '?', '?', '?', ',', '?', '!', ',', '.', '?', ',', ',', '!', '.', '!', '?', '!', '!', ',', '.', '?', '?', '?', '.', '?', '?', '.', '.', '?', ',', '!', '!', ',', '.', '?', '.', '?', '.', '!', '!', '.', '!', '!', '?', ',', '!', '?', '.', '!', '!', '!', '.', '?', '.', '!', '.']\n",
      "KAUDEVILLIANUGH?AOGHAJDBN\n",
      "2544\n",
      "892\n",
      "127\n",
      "['!', ',', '?', ',', '!', '!', '.', '!', ',', '!', '?', '?', '?', '?', '?', ',', '?', '!', ',', '.', '?', ',', ',', '!', '.', '!', '?', '!', '!', ',', '.', '?', '?', '?', '.', '?', '?', '.', '.', '?', ',', '!', '!', ',', '.', '?', '.', '?', '.', '!', '!', '.', '!', '!', '?', ',', '!', '?', '.', '!', '!', '!', '.', '?', '.', '!', '.']\n",
      "KAUDEVILLIANUGH?AOGHAJDBN\n"
     ]
    },
    {
     "data": {
      "text/plain": [
       "0            []\n",
       "1            []\n",
       "2            []\n",
       "3            []\n",
       "4            []\n",
       "         ...   \n",
       "122          []\n",
       "123    [mabugh]\n",
       "124          []\n",
       "125     [meugh]\n",
       "126          []\n",
       "Name: Word, Length: 127, dtype: object"
      ]
     },
     "execution_count": null,
     "metadata": {},
     "output_type": "execute_result"
    }
   ],
   "source": [
    "# how many characters are in the scrambled message\n",
    "total_chars = message.apply(len).sum()\n",
    "print(total_chars)\n",
    "\n",
    "# How many of these characters are white space?\n",
    "stripped_chars = message.apply(lambda x: len(x.strip())).sum()\n",
    "print(stripped_chars)\n",
    "\n",
    "#How many words are in the scrambled message?\n",
    "print(len(message))\n",
    "\n",
    "# Show all the punctuation marks in the scrambled message.\n",
    "punctuation = message.apply(lambda x: re.findall(r\"[!?.,\\'\\\"]\", x)).sum()\n",
    "print(punctuation)\n",
    "\n",
    "# Print out, in all capitals, the longest word in the scrambled message.\n",
    "longest = message.apply(lambda x: len(x.strip())).idxmax()\n",
    "print(message[longest].upper())\n",
    "\n",
    "# Print out every piece of a word that starts with the letter \n",
    "# \"m\" and ends with the letter \"z\" in the scrambled message.\n",
    "\n",
    "# don't know how\n",
    "message.apply(lambda x: re.findall(r\"^m\\w+\", x.strip()))\n",
    "\n"
   ]
  },
  {
   "cell_type": "markdown",
   "metadata": {},
   "source": [
    "Remove any spaces before or after each word.\n",
    "\n",
    "Any time you see the word \"ugh\", with any number of h's, followed by a punctuation mark, delete this.\n",
    "\n",
    "No word should be longer than 16 characters. Drop all extra characters beyond 13 off the end of each word.\n",
    "\n",
    "Replace all instances of exactly 2 a's with exactly 2 e's.\n",
    "\n",
    "Replace all z's with t's.\n",
    "\n",
    "Every word that ends in b, change that to a y. Hint: look out for punctuation!\n",
    "\n",
    "Every word that starts with k, change that to a v. Hint: look out for capitalization!\n",
    "\n",
    "Use .join() to recombine all your words into a message.\n",
    "\n",
    "Find the movie this quote is from."
   ]
  },
  {
   "cell_type": "code",
   "execution_count": 119,
   "metadata": {},
   "outputs": [
    {
     "data": {
      "text/plain": [
       "'voila! In view, a humble vaudevillian veteran, cast vicariously as both victim and villain by the vicissitudes of fate. This visage, no mere veneer of vanity, is a vestige of the vox populi now vacant, vanished. However, this valorous visitation of a bygone vexation stands vivified, and has vowed to vanquish these venal and virulent vermin, van guarding vice and vouchsafing the violently vicious and voracious violation of volition. The only verdict is vengeance; a vendetta, held as a votive not in vain, for the value and veracity of such shall one day vindicate the vigilant and the virtuous. verily this vichyssoise of verbiage veers most verbose, so let me simply add that its my very good honour to meet you and you may call me v.'"
      ]
     },
     "execution_count": null,
     "metadata": {},
     "output_type": "execute_result"
    }
   ],
   "source": [
    "# Remove any spaces before or after each word.\n",
    "message = message.apply(lambda x: x.strip())\n",
    "\n",
    "# Any time you see the word \"ugh\", \n",
    "# with any number of h's, followed by a punctuation mark, delete this.\n",
    "message = message.str.replace(r\"ugh*[,.?!;\\'\\\"]\", \"\", regex=True)\n",
    "\n",
    "# No word should be longer than 16 characters. \n",
    "# Drop all extra characters beyond 13 off the end of each word.\n",
    "message = message.apply(lambda x: x[:12] if len(x) > 16 else x)\n",
    "\n",
    "# Replace all instances of exactly 2 a's with exactly 2 e's.\n",
    "message = message.str.replace(\"aa\", \"ee\")\n",
    "\n",
    "# Replace all z's with t's.\n",
    "message = message.str.replace(\"z\", \"t\")\n",
    "\n",
    "# Every word that ends in b, change that to a y. Hint: look out for punctuation!\n",
    "message = message.str.replace(r\"b[.,;:!?\\']?$\", \"y\", regex=True)\n",
    "\n",
    "# Every word that starts with k, change that to a v. Hint: look out for capitalization!\n",
    "message = message.str.replace(r\"^[Kk]\", \"v\", regex=True)\n",
    "\n",
    "# Use .join() to recombine all your words into a message.\n",
    "\" \".join(message)"
   ]
  }
 ],
 "metadata": {
  "language_info": {
   "name": "python"
  }
 },
 "nbformat": 4,
 "nbformat_minor": 2
}
