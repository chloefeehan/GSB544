{
 "cells": [
  {
   "cell_type": "raw",
   "metadata": {
    "vscode": {
     "languageId": "raw"
    }
   },
   "source": [
    "---\n",
    "title: \"PA 3.1\"\n",
    "author: \"Chloe Feehan\"\n",
    "format: \n",
    "  html:\n",
    "    code-fold: true\n",
    "    embed-resources: true\n",
    "    toc: true\n",
    "theme: flatly\n",
    "---"
   ]
  },
  {
   "cell_type": "code",
   "execution_count": 1,
   "metadata": {},
   "outputs": [],
   "source": [
    "import numpy as np\n",
    "import pandas as pd\n",
    "from sys import exit\n",
    "from palmerpenguins import load_penguins\n",
    "from plotnine import ggplot, aes, geom_point, geom_bar"
   ]
  },
  {
   "cell_type": "markdown",
   "metadata": {},
   "source": [
    "Fill in the necessary code to write a function called times_seven(). The function should take a single argument (x) and multiply the input by 7.\n",
    "\n",
    "This function should check that the argument is numeric.\n",
    "\n",
    "This function should also excitedly announce (print) “I love sevens!” if the argument to the function is a 7."
   ]
  },
  {
   "cell_type": "code",
   "execution_count": 2,
   "metadata": {},
   "outputs": [],
   "source": [
    "def times_seven(x):\n",
    "  if not isinstance(x, int):\n",
    "    exit(\"Please input a numeric value\")\n",
    "  if x == 7:\n",
    "    print(\"I love sevens!\")\n",
    "  return x * 7"
   ]
  },
  {
   "cell_type": "code",
   "execution_count": 10,
   "metadata": {},
   "outputs": [
    {
     "name": "stdout",
     "output_type": "stream",
     "text": [
      "21\n",
      "I love sevens!\n",
      "49\n",
      "21\n",
      "I love sevens!\n",
      "49\n"
     ]
    },
    {
     "ename": "SystemExit",
     "evalue": "Please input a numeric value",
     "output_type": "error",
     "traceback": [
      "An exception has occurred, use %tb to see the full traceback.\n",
      "\n",
      "\u001b[0;31mSystemExit\u001b[0m\u001b[0;31m:\u001b[0m Please input a numeric value\n"
     ]
    }
   ],
   "source": [
    "# unit tests\n",
    "print(times_seven(3))\n",
    "print(times_seven(7))\n",
    "print(times_seven(\"hi\"))\n",
    "print(times_seven([1, 3, 5, 7]))\n"
   ]
  },
  {
   "cell_type": "markdown",
   "metadata": {},
   "source": [
    "Consider the following function:"
   ]
  },
  {
   "cell_type": "code",
   "execution_count": 19,
   "metadata": {},
   "outputs": [],
   "source": [
    "def add_or_subtract(first_num, second_num = 2, type = \"add\"):\n",
    "\n",
    "  if (type == \"add\"):\n",
    "    res = first_num + second_num\n",
    "  elif (type == \"subtract\"):\n",
    "    res = first_num - second_num\n",
    "  else:\n",
    "    exit(\"Please choose `add` or `subtract` as the type.\")\n",
    "\n",
    "  return res"
   ]
  },
  {
   "cell_type": "markdown",
   "metadata": {},
   "source": [
    "Without running the code, predict if the following will produce:\n",
    "\n",
    "a. 1\n",
    "\n",
    "b. -1\n",
    "\n",
    "c. 30\n",
    "\n",
    "d. An error defined by the function add_or_subtract()\n",
    "\n",
    "e. An error defined in a different function, which is called inside the add_or_subtract() function"
   ]
  },
  {
   "cell_type": "code",
   "execution_count": 21,
   "metadata": {},
   "outputs": [
    {
     "data": {
      "text/plain": [
       "-1"
      ]
     },
     "execution_count": null,
     "metadata": {},
     "output_type": "execute_result"
    }
   ],
   "source": [
    "# this will produce -1\n",
    "add_or_subtract(5, 6, type = \"subtract\")"
   ]
  },
  {
   "cell_type": "code",
   "execution_count": 22,
   "metadata": {},
   "outputs": [
    {
     "ename": "TypeError",
     "evalue": "can only concatenate str (not \"int\") to str",
     "output_type": "error",
     "traceback": [
      "\u001b[0;31m---------------------------------------------------------------------------\u001b[0m\n",
      "\u001b[0;31mTypeError\u001b[0m                                 Traceback (most recent call last)\n",
      "Cell \u001b[0;32mIn[22], line 2\u001b[0m\n",
      "\u001b[1;32m      1\u001b[0m \u001b[38;5;66;03m# this will be e\u001b[39;00m\n",
      "\u001b[0;32m----> 2\u001b[0m \u001b[43madd_or_subtract\u001b[49m\u001b[43m(\u001b[49m\u001b[38;5;124;43m\"\u001b[39;49m\u001b[38;5;124;43morange\u001b[39;49m\u001b[38;5;124;43m\"\u001b[39;49m\u001b[43m)\u001b[49m\n",
      "\n",
      "Cell \u001b[0;32mIn[19], line 4\u001b[0m, in \u001b[0;36madd_or_subtract\u001b[0;34m(first_num, second_num, type)\u001b[0m\n",
      "\u001b[1;32m      1\u001b[0m \u001b[38;5;28;01mdef\u001b[39;00m \u001b[38;5;21madd_or_subtract\u001b[39m(first_num, second_num \u001b[38;5;241m=\u001b[39m \u001b[38;5;241m2\u001b[39m, \u001b[38;5;28mtype\u001b[39m \u001b[38;5;241m=\u001b[39m \u001b[38;5;124m\"\u001b[39m\u001b[38;5;124madd\u001b[39m\u001b[38;5;124m\"\u001b[39m):\n",
      "\u001b[1;32m      3\u001b[0m   \u001b[38;5;28;01mif\u001b[39;00m (\u001b[38;5;28mtype\u001b[39m \u001b[38;5;241m==\u001b[39m \u001b[38;5;124m\"\u001b[39m\u001b[38;5;124madd\u001b[39m\u001b[38;5;124m\"\u001b[39m):\n",
      "\u001b[0;32m----> 4\u001b[0m     res \u001b[38;5;241m=\u001b[39m \u001b[43mfirst_num\u001b[49m\u001b[43m \u001b[49m\u001b[38;5;241;43m+\u001b[39;49m\u001b[43m \u001b[49m\u001b[43msecond_num\u001b[49m\n",
      "\u001b[1;32m      5\u001b[0m   \u001b[38;5;28;01melif\u001b[39;00m (\u001b[38;5;28mtype\u001b[39m \u001b[38;5;241m==\u001b[39m \u001b[38;5;124m\"\u001b[39m\u001b[38;5;124msubtract\u001b[39m\u001b[38;5;124m\"\u001b[39m):\n",
      "\u001b[1;32m      6\u001b[0m     res \u001b[38;5;241m=\u001b[39m first_num \u001b[38;5;241m-\u001b[39m second_num\n",
      "\n",
      "\u001b[0;31mTypeError\u001b[0m: can only concatenate str (not \"int\") to str"
     ]
    }
   ],
   "source": [
    "# this will be e\n",
    "add_or_subtract(\"orange\")\n"
   ]
  },
  {
   "cell_type": "code",
   "execution_count": 23,
   "metadata": {},
   "outputs": [
    {
     "ename": "SystemExit",
     "evalue": "Please choose `add` or `subtract` as the type.",
     "output_type": "error",
     "traceback": [
      "An exception has occurred, use %tb to see the full traceback.\n",
      "\n",
      "\u001b[0;31mSystemExit\u001b[0m\u001b[0;31m:\u001b[0m Please choose `add` or `subtract` as the type.\n"
     ]
    }
   ],
   "source": [
    "# this will be d\n",
    "add_or_subtract(5, 6, type = \"multiply\")"
   ]
  },
  {
   "cell_type": "markdown",
   "metadata": {},
   "source": [
    "Consider the following code:"
   ]
  },
  {
   "cell_type": "code",
   "execution_count": null,
   "metadata": {},
   "outputs": [],
   "source": [
    "first_num  = 5\n",
    "second_num = 3\n",
    "\n",
    "result = 8\n",
    "\n",
    "result = add_or_subtract(first_num, second_num = 4)\n",
    "\n",
    "result_2 = add_or_subtract(first_num)"
   ]
  },
  {
   "cell_type": "markdown",
   "metadata": {},
   "source": [
    "In your Global Environment, what is the value of...\n",
    "\n",
    "a. first_num : 5\n",
    "\n",
    "b. second_num : 3\n",
    "\n",
    "c. result: 9\n",
    "\n",
    "d. result_2: 7"
   ]
  }
 ],
 "metadata": {
  "language_info": {
   "name": "python"
  }
 },
 "nbformat": 4,
 "nbformat_minor": 2
}
