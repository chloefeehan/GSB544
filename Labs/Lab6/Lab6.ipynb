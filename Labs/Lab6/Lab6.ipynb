{
 "cells": [
  {
   "cell_type": "raw",
   "metadata": {},
   "source": [
    "---\n",
    "title: \"Lab 6\"\n",
    "author: \"Chloe Feehan\"\n",
    "format: \n",
    "  html:\n",
    "    code-fold: true\n",
    "    embed-resources: true\n",
    "    toc: true\n",
    "theme: flatly\n",
    "---"
   ]
  },
  {
   "cell_type": "markdown",
   "metadata": {},
   "source": [
    "# Dataset: Baseball Players\n",
    "\n",
    "In this lab, we will use predictive modeling to design a model that predicts a baseball player’s salary in a given year.\n",
    "\n",
    "This dataset was originally taken from the StatLib library which is maintained at Carnegie Mellon University. This is part of the data that was used in the 1988 ASA Graphics Section Poster Session. The salary data were originally from Sports Illustrated, April 20, 1987. The 1986 and career statistics were obtained from The 1987 Baseball Encyclopedia Update published by Collier Books, Macmillan Publishing Company, New York.\n",
    "\n",
    "\n"
   ]
  },
  {
   "cell_type": "code",
   "execution_count": 312,
   "metadata": {
    "vscode": {
     "languageId": "python"
    }
   },
   "outputs": [],
   "source": [
    "# import libraries\n",
    "import pandas as pd\n",
    "import numpy as np\n",
    "from sklearn.pipeline import Pipeline\n",
    "from sklearn.compose import make_column_selector, ColumnTransformer\n",
    "from sklearn.preprocessing import StandardScaler, OneHotEncoder, PolynomialFeatures\n",
    "from sklearn.linear_model import LinearRegression, Ridge, Lasso, ElasticNet \n",
    "from sklearn.model_selection import train_test_split, cross_val_score, GridSearchCV\n",
    "from sklearn.metrics import r2_score, mean_squared_error\n",
    "from plotnine import *\n",
    "import warnings\n",
    "from sklearn.exceptions import ConvergenceWarning\n",
    "\n",
    "#suppress convergence warnings\n",
    "warnings.simplefilter(\"ignore\", ConvergenceWarning)\n",
    "pd.options.mode.chained_assignment = None"
   ]
  },
  {
   "cell_type": "code",
   "execution_count": 313,
   "metadata": {
    "vscode": {
     "languageId": "python"
    }
   },
   "outputs": [],
   "source": [
    "# import data\n",
    "hitters = pd.read_csv(\"Hitters.csv\")\n",
    "\n",
    "# drop na values\n",
    "hitters.dropna(inplace=True)"
   ]
  },
  {
   "cell_type": "markdown",
   "metadata": {},
   "source": [
    "# Part 1: Different Model Specs\n",
    "\n",
    "## Part A: Regression without Regularization"
   ]
  },
  {
   "cell_type": "code",
   "execution_count": 314,
   "metadata": {
    "vscode": {
     "languageId": "python"
    }
   },
   "outputs": [],
   "source": [
    "# write function that tunes regression\n",
    "\n",
    "def tune_regression(X, y, model_type = \"linear\", alpha_values = [0.001, 0.01, 0.1, 1, 10], l1_ratio_values = [0.0, 0.25, 0.5, 0.75, 1.0], cv = 5, interaction = False):\n",
    "\n",
    "    # create criteria for model specification\n",
    "    if model_type  == \"linear\":\n",
    "        model = LinearRegression()\n",
    "        alpha = {}\n",
    "        l1_ratio = {}\n",
    "    elif model_type == \"ridge\":\n",
    "        model = Ridge()\n",
    "        alpha = {\"regression__alpha\": alpha_values}\n",
    "        l1_ratio = {}\n",
    "    elif model_type == \"lasso\":\n",
    "        model = Lasso()\n",
    "        alpha = {\"regression__alpha\": alpha_values}\n",
    "        l1_ratio = {}\n",
    "    elif model_type == \"elasticnet\":\n",
    "        model = ElasticNet()\n",
    "        alpha = {\"regression__alpha\": alpha_values, \"regression__l1_ratio\": l1_ratio_values}\n",
    "    else:\n",
    "        raise ValueError(\"Unsupported model_type. Choose from 'lasso', 'ridge', 'elasticnet', or 'linear'.\")\n",
    "\n",
    "    # create pipeline\n",
    "    ct = ColumnTransformer([(\"dummify\", OneHotEncoder(sparse_output = False, handle_unknown='ignore'),\n",
    "                                        make_column_selector(dtype_include=object)),\n",
    "                            (\"standardize\", StandardScaler(), \n",
    "                                        make_column_selector(dtype_include=np.number))],\n",
    "                                        remainder = \"passthrough\")\n",
    "\n",
    "    pipeline = Pipeline([\n",
    "        (\"preprocessing\", ct), \n",
    "        (\"regression\", model)\n",
    "    ])\n",
    "    \n",
    "    # do grid search\n",
    "    grid_search = GridSearchCV(pipeline, alpha, cv=cv, scoring='neg_mean_squared_error')\n",
    "    grid_search_fitted = grid_search.fit(X, y)\n",
    "\n",
    "    # get best model\n",
    "    best_model = grid_search.best_estimator_\n",
    "    best_model_fitted = best_model.fit(X, y)\n",
    "\n",
    "    # get coefs and var names\n",
    "    coefs = best_model.named_steps['regression'].coef_\n",
    "    feature_names = best_model_fitted.named_steps['preprocessing'].get_feature_names_out()\n",
    "\n",
    "    # create df to store coefs\n",
    "    coefs_df = pd.DataFrame({\n",
    "        \"Feature Name\": feature_names,\n",
    "        \"Coefficients\": coefs})\n",
    "\n",
    "    print(\"Cross-validated MSE scores:\", -grid_search_fitted.cv_results_['mean_test_score'])\n",
    "\n",
    "    # extract best model values\n",
    "    best_alpha = grid_search.best_params_.get(\"regression__alpha\", None)\n",
    "    best_l1_ratio = grid_search.best_params_.get(\"regression__l1_ratio\", None)\n",
    "    best_score = grid_search.best_score_\n",
    "    \n",
    "    # print best alpha and l1_ratio scores if applicable\n",
    "    if best_alpha is not None:\n",
    "        print(f\"Best alpha: {best_alpha}\")\n",
    "    if best_l1_ratio is not None:\n",
    "        print(f\"Best l1 ratio: {best_l1_ratio}\")\n",
    "    print(f\"Best cross-validated MSE score: {-best_score}\")\n",
    "    sorted_coefs_df = coefs_df.sort_values(by='Coefficients', key = abs, ascending=False)\n",
    "\n",
    "    \n",
    "    return sorted_coefs_df"
   ]
  },
  {
   "cell_type": "markdown",
   "metadata": {
    "vscode": {
     "languageId": "python"
    }
   },
   "source": [
    "1. Create a pipeline that includes all the columns as predictors for Salary, and performs ordinary linear regression\n",
    "2. Fit this pipeline to the full dataset, and interpret a few of the most important coefficients.\n",
    "3. Use cross-validation to estimate the MSE you would expect if you used this pipeline to predict 1989 salaries."
   ]
  },
  {
   "cell_type": "code",
   "execution_count": 315,
   "metadata": {
    "vscode": {
     "languageId": "python"
    }
   },
   "outputs": [
    {
     "name": "stdout",
     "output_type": "stream",
     "text": [
      "Cross-validated MSE scores: [121136.31031817]\n",
      "Best cross-validated MSE score: 121136.3103181688\n",
      "Cross-validated MSE scores: [121136.31031817]\n",
      "Best cross-validated MSE score: 121136.3103181688\n"
     ]
    },
    {
     "data": {
      "text/html": [
       "<div>\n",
       "<style scoped>\n",
       "    .dataframe tbody tr th:only-of-type {\n",
       "        vertical-align: middle;\n",
       "    }\n",
       "\n",
       "    .dataframe tbody tr th {\n",
       "        vertical-align: top;\n",
       "    }\n",
       "\n",
       "    .dataframe thead th {\n",
       "        text-align: right;\n",
       "    }\n",
       "</style>\n",
       "<table border=\"1\" class=\"dataframe\">\n",
       "  <thead>\n",
       "    <tr style=\"text-align: right;\">\n",
       "      <th></th>\n",
       "      <th>Feature Name</th>\n",
       "      <th>Coefficients</th>\n",
       "    </tr>\n",
       "  </thead>\n",
       "  <tbody>\n",
       "    <tr>\n",
       "      <th>16</th>\n",
       "      <td>standardize__CRuns</td>\n",
       "      <td>480.747135</td>\n",
       "    </tr>\n",
       "    <tr>\n",
       "      <th>13</th>\n",
       "      <td>standardize__CAtBat</td>\n",
       "      <td>-391.038655</td>\n",
       "    </tr>\n",
       "    <tr>\n",
       "      <th>7</th>\n",
       "      <td>standardize__Hits</td>\n",
       "      <td>337.830479</td>\n",
       "    </tr>\n",
       "    <tr>\n",
       "      <th>6</th>\n",
       "      <td>standardize__AtBat</td>\n",
       "      <td>-291.094556</td>\n",
       "    </tr>\n",
       "    <tr>\n",
       "      <th>17</th>\n",
       "      <td>standardize__CRBI</td>\n",
       "      <td>260.689886</td>\n",
       "    </tr>\n",
       "    <tr>\n",
       "      <th>18</th>\n",
       "      <td>standardize__CWalks</td>\n",
       "      <td>-213.892259</td>\n",
       "    </tr>\n",
       "    <tr>\n",
       "      <th>11</th>\n",
       "      <td>standardize__Walks</td>\n",
       "      <td>135.073897</td>\n",
       "    </tr>\n",
       "    <tr>\n",
       "      <th>14</th>\n",
       "      <td>standardize__CHits</td>\n",
       "      <td>86.687617</td>\n",
       "    </tr>\n",
       "    <tr>\n",
       "      <th>19</th>\n",
       "      <td>standardize__PutOuts</td>\n",
       "      <td>78.761296</td>\n",
       "    </tr>\n",
       "    <tr>\n",
       "      <th>9</th>\n",
       "      <td>standardize__Runs</td>\n",
       "      <td>-60.572479</td>\n",
       "    </tr>\n",
       "    <tr>\n",
       "      <th>3</th>\n",
       "      <td>dummify__Division_W</td>\n",
       "      <td>-58.424623</td>\n",
       "    </tr>\n",
       "    <tr>\n",
       "      <th>2</th>\n",
       "      <td>dummify__Division_E</td>\n",
       "      <td>58.424623</td>\n",
       "    </tr>\n",
       "    <tr>\n",
       "      <th>20</th>\n",
       "      <td>standardize__Assists</td>\n",
       "      <td>53.732490</td>\n",
       "    </tr>\n",
       "    <tr>\n",
       "      <th>8</th>\n",
       "      <td>standardize__HmRun</td>\n",
       "      <td>37.853837</td>\n",
       "    </tr>\n",
       "    <tr>\n",
       "      <th>0</th>\n",
       "      <td>dummify__League_A</td>\n",
       "      <td>-31.299712</td>\n",
       "    </tr>\n",
       "    <tr>\n",
       "      <th>1</th>\n",
       "      <td>dummify__League_N</td>\n",
       "      <td>31.299712</td>\n",
       "    </tr>\n",
       "    <tr>\n",
       "      <th>10</th>\n",
       "      <td>standardize__RBI</td>\n",
       "      <td>-26.994984</td>\n",
       "    </tr>\n",
       "    <tr>\n",
       "      <th>21</th>\n",
       "      <td>standardize__Errors</td>\n",
       "      <td>-22.160862</td>\n",
       "    </tr>\n",
       "    <tr>\n",
       "      <th>12</th>\n",
       "      <td>standardize__Years</td>\n",
       "      <td>-16.693359</td>\n",
       "    </tr>\n",
       "    <tr>\n",
       "      <th>15</th>\n",
       "      <td>standardize__CHmRun</td>\n",
       "      <td>-14.181723</td>\n",
       "    </tr>\n",
       "    <tr>\n",
       "      <th>5</th>\n",
       "      <td>dummify__NewLeague_N</td>\n",
       "      <td>-12.381163</td>\n",
       "    </tr>\n",
       "    <tr>\n",
       "      <th>4</th>\n",
       "      <td>dummify__NewLeague_A</td>\n",
       "      <td>12.381163</td>\n",
       "    </tr>\n",
       "  </tbody>\n",
       "</table>\n",
       "</div>"
      ],
      "text/plain": [
       "            Feature Name  Coefficients\n",
       "16    standardize__CRuns    480.747135\n",
       "13   standardize__CAtBat   -391.038655\n",
       "7      standardize__Hits    337.830479\n",
       "6     standardize__AtBat   -291.094556\n",
       "17     standardize__CRBI    260.689886\n",
       "18   standardize__CWalks   -213.892259\n",
       "11    standardize__Walks    135.073897\n",
       "14    standardize__CHits     86.687617\n",
       "19  standardize__PutOuts     78.761296\n",
       "9      standardize__Runs    -60.572479\n",
       "3    dummify__Division_W    -58.424623\n",
       "2    dummify__Division_E     58.424623\n",
       "20  standardize__Assists     53.732490\n",
       "8     standardize__HmRun     37.853837\n",
       "0      dummify__League_A    -31.299712\n",
       "1      dummify__League_N     31.299712\n",
       "10      standardize__RBI    -26.994984\n",
       "21   standardize__Errors    -22.160862\n",
       "12    standardize__Years    -16.693359\n",
       "15   standardize__CHmRun    -14.181723\n",
       "5   dummify__NewLeague_N    -12.381163\n",
       "4   dummify__NewLeague_A     12.381163"
      ]
     },
     "execution_count": null,
     "metadata": {},
     "output_type": "execute_result"
    }
   ],
   "source": [
    "# create variables\n",
    "X = hitters.drop([\"Salary\"], axis = 1)\n",
    "y = hitters[\"Salary\"]\n",
    "\n",
    "tune_regression(X, y, model_type = \"linear\")"
   ]
  },
  {
   "cell_type": "markdown",
   "metadata": {},
   "source": [
    "### Interpretations:\n",
    "* For each additional career run, a player's salary is expected to increase by $480,750.\n",
    "* For each additional career at-bat, a player's salary is expected to decrease by $391,040\n",
    "* For each additional hit a player made in 1986, their salary is expected to increase by $337,830.\n",
    "* For each additional at-bat in 1986, a player's salary is expected to decrease by $291,090.\n",
    "*  For each additional career RBI, a player's salary is expected to increase by $260,690."
   ]
  },
  {
   "cell_type": "markdown",
   "metadata": {},
   "source": [
    "## Part B: Ridge Regression\n",
    "\n",
    "1. Create a pipeline that includes all the columns as predictors for Salary, and performs ordinary ridge regression\n",
    "\n",
    "2. Use cross-validation to tune the lambda hyperparameter.\n",
    "\n",
    "3. Fit the pipeline with your chosen lambda to the full dataset, and interpret a few of the most important coefficients.\n",
    "\n",
    "4. Report the MSE you would expect if you used this pipeline to predict 1989 salaries."
   ]
  },
  {
   "cell_type": "code",
   "execution_count": 316,
   "metadata": {
    "vscode": {
     "languageId": "python"
    }
   },
   "outputs": [
    {
     "name": "stdout",
     "output_type": "stream",
     "text": [
      "Cross-validated MSE scores: [121124.45859214 121022.90328584 120343.62106698 119144.43267692 119348.9847757 ]\n",
      "Best alpha: 1\n",
      "Best cross-validated MSE score: 119144.43267691587\n",
      "Cross-validated MSE scores: [121124.45859214 121022.90328584 120343.62106698 119144.43267692 119348.9847757 ]\n",
      "Best alpha: 1\n",
      "Best cross-validated MSE score: 119144.43267691587\n"
     ]
    },
    {
     "data": {
      "text/html": [
       "<div>\n",
       "<style scoped>\n",
       "    .dataframe tbody tr th:only-of-type {\n",
       "        vertical-align: middle;\n",
       "    }\n",
       "\n",
       "    .dataframe tbody tr th {\n",
       "        vertical-align: top;\n",
       "    }\n",
       "\n",
       "    .dataframe thead th {\n",
       "        text-align: right;\n",
       "    }\n",
       "</style>\n",
       "<table border=\"1\" class=\"dataframe\">\n",
       "  <thead>\n",
       "    <tr style=\"text-align: right;\">\n",
       "      <th></th>\n",
       "      <th>Feature Name</th>\n",
       "      <th>Coefficients</th>\n",
       "    </tr>\n",
       "  </thead>\n",
       "  <tbody>\n",
       "    <tr>\n",
       "      <th>16</th>\n",
       "      <td>standardize__CRuns</td>\n",
       "      <td>320.412169</td>\n",
       "    </tr>\n",
       "    <tr>\n",
       "      <th>7</th>\n",
       "      <td>standardize__Hits</td>\n",
       "      <td>296.645050</td>\n",
       "    </tr>\n",
       "    <tr>\n",
       "      <th>6</th>\n",
       "      <td>standardize__AtBat</td>\n",
       "      <td>-270.686441</td>\n",
       "    </tr>\n",
       "    <tr>\n",
       "      <th>13</th>\n",
       "      <td>standardize__CAtBat</td>\n",
       "      <td>-225.406548</td>\n",
       "    </tr>\n",
       "    <tr>\n",
       "      <th>18</th>\n",
       "      <td>standardize__CWalks</td>\n",
       "      <td>-184.423611</td>\n",
       "    </tr>\n",
       "    <tr>\n",
       "      <th>17</th>\n",
       "      <td>standardize__CRBI</td>\n",
       "      <td>160.386784</td>\n",
       "    </tr>\n",
       "    <tr>\n",
       "      <th>14</th>\n",
       "      <td>standardize__CHits</td>\n",
       "      <td>126.659607</td>\n",
       "    </tr>\n",
       "    <tr>\n",
       "      <th>11</th>\n",
       "      <td>standardize__Walks</td>\n",
       "      <td>124.407173</td>\n",
       "    </tr>\n",
       "    <tr>\n",
       "      <th>19</th>\n",
       "      <td>standardize__PutOuts</td>\n",
       "      <td>78.623656</td>\n",
       "    </tr>\n",
       "    <tr>\n",
       "      <th>3</th>\n",
       "      <td>dummify__Division_W</td>\n",
       "      <td>-60.015595</td>\n",
       "    </tr>\n",
       "    <tr>\n",
       "      <th>2</th>\n",
       "      <td>dummify__Division_E</td>\n",
       "      <td>60.015595</td>\n",
       "    </tr>\n",
       "    <tr>\n",
       "      <th>20</th>\n",
       "      <td>standardize__Assists</td>\n",
       "      <td>47.462597</td>\n",
       "    </tr>\n",
       "    <tr>\n",
       "      <th>15</th>\n",
       "      <td>standardize__CHmRun</td>\n",
       "      <td>39.070924</td>\n",
       "    </tr>\n",
       "    <tr>\n",
       "      <th>12</th>\n",
       "      <td>standardize__Years</td>\n",
       "      <td>-38.667748</td>\n",
       "    </tr>\n",
       "    <tr>\n",
       "      <th>1</th>\n",
       "      <td>dummify__League_N</td>\n",
       "      <td>30.438855</td>\n",
       "    </tr>\n",
       "    <tr>\n",
       "      <th>0</th>\n",
       "      <td>dummify__League_A</td>\n",
       "      <td>-30.438855</td>\n",
       "    </tr>\n",
       "    <tr>\n",
       "      <th>9</th>\n",
       "      <td>standardize__Runs</td>\n",
       "      <td>-29.339406</td>\n",
       "    </tr>\n",
       "    <tr>\n",
       "      <th>21</th>\n",
       "      <td>standardize__Errors</td>\n",
       "      <td>-23.724190</td>\n",
       "    </tr>\n",
       "    <tr>\n",
       "      <th>8</th>\n",
       "      <td>standardize__HmRun</td>\n",
       "      <td>18.100592</td>\n",
       "    </tr>\n",
       "    <tr>\n",
       "      <th>4</th>\n",
       "      <td>dummify__NewLeague_A</td>\n",
       "      <td>13.111282</td>\n",
       "    </tr>\n",
       "    <tr>\n",
       "      <th>5</th>\n",
       "      <td>dummify__NewLeague_N</td>\n",
       "      <td>-13.111282</td>\n",
       "    </tr>\n",
       "    <tr>\n",
       "      <th>10</th>\n",
       "      <td>standardize__RBI</td>\n",
       "      <td>-9.113295</td>\n",
       "    </tr>\n",
       "  </tbody>\n",
       "</table>\n",
       "</div>"
      ],
      "text/plain": [
       "            Feature Name  Coefficients\n",
       "16    standardize__CRuns    320.412169\n",
       "7      standardize__Hits    296.645050\n",
       "6     standardize__AtBat   -270.686441\n",
       "13   standardize__CAtBat   -225.406548\n",
       "18   standardize__CWalks   -184.423611\n",
       "17     standardize__CRBI    160.386784\n",
       "14    standardize__CHits    126.659607\n",
       "11    standardize__Walks    124.407173\n",
       "19  standardize__PutOuts     78.623656\n",
       "3    dummify__Division_W    -60.015595\n",
       "2    dummify__Division_E     60.015595\n",
       "20  standardize__Assists     47.462597\n",
       "15   standardize__CHmRun     39.070924\n",
       "12    standardize__Years    -38.667748\n",
       "1      dummify__League_N     30.438855\n",
       "0      dummify__League_A    -30.438855\n",
       "9      standardize__Runs    -29.339406\n",
       "21   standardize__Errors    -23.724190\n",
       "8     standardize__HmRun     18.100592\n",
       "4   dummify__NewLeague_A     13.111282\n",
       "5   dummify__NewLeague_N    -13.111282\n",
       "10      standardize__RBI     -9.113295"
      ]
     },
     "execution_count": null,
     "metadata": {},
     "output_type": "execute_result"
    }
   ],
   "source": [
    "tune_regression(X, y, model_type = \"ridge\")"
   ]
  },
  {
   "cell_type": "markdown",
   "metadata": {},
   "source": [
    "### Interpretations:\n",
    "* For each additional career run, a player's salary is expected to increase by $320,412.\n",
    "* For each additional hit a player made in 1986, their salary is expected to increase by $296,645\n",
    "* For each additional at-bat in 1986, a player's salary is expected to decrease by $270,686\n",
    "* For each additional career at-bat, a player's salary is expected to decrease by $225,407\n",
    "* For each additional career walk, a player's salary is expected to decrease by $184,424"
   ]
  },
  {
   "cell_type": "markdown",
   "metadata": {},
   "source": [
    "## Part C: Lasso Regression\n",
    "\n",
    "1. Create a pipeline that includes all the columns as predictors for Salary, and performs ordinary ridge regression\n",
    "\n",
    "2. Use cross-validation to tune the lambda hyperparameter.\n",
    "\n",
    "3. Fit the pipeline with your chosen lambda to the full dataset, and interpret a few of the most important coefficients.\n",
    "\n",
    "4. Report the MSE you would expect if you used this pipeline to predict 1989 salaries."
   ]
  },
  {
   "cell_type": "code",
   "execution_count": 317,
   "metadata": {
    "vscode": {
     "languageId": "python"
    }
   },
   "outputs": [
    {
     "name": "stdout",
     "output_type": "stream",
     "text": [
      "Cross-validated MSE scores: [120994.17981481 120964.76468618 120682.25263745 119761.58740741 121828.14133339]\n",
      "Best alpha: 1\n",
      "Best cross-validated MSE score: 119761.58740741298\n",
      "Cross-validated MSE scores: [120994.17981481 120964.76468618 120682.25263745 119761.58740741 121828.14133339]\n",
      "Best alpha: 1\n",
      "Best cross-validated MSE score: 119761.58740741298\n"
     ]
    },
    {
     "data": {
      "text/html": [
       "<div>\n",
       "<style scoped>\n",
       "    .dataframe tbody tr th:only-of-type {\n",
       "        vertical-align: middle;\n",
       "    }\n",
       "\n",
       "    .dataframe tbody tr th {\n",
       "        vertical-align: top;\n",
       "    }\n",
       "\n",
       "    .dataframe thead th {\n",
       "        text-align: right;\n",
       "    }\n",
       "</style>\n",
       "<table border=\"1\" class=\"dataframe\">\n",
       "  <thead>\n",
       "    <tr style=\"text-align: right;\">\n",
       "      <th></th>\n",
       "      <th>Feature Name</th>\n",
       "      <th>Coefficients</th>\n",
       "    </tr>\n",
       "  </thead>\n",
       "  <tbody>\n",
       "    <tr>\n",
       "      <th>16</th>\n",
       "      <td>standardize__CRuns</td>\n",
       "      <td>3.755655e+02</td>\n",
       "    </tr>\n",
       "    <tr>\n",
       "      <th>7</th>\n",
       "      <td>standardize__Hits</td>\n",
       "      <td>3.043595e+02</td>\n",
       "    </tr>\n",
       "    <tr>\n",
       "      <th>6</th>\n",
       "      <td>standardize__AtBat</td>\n",
       "      <td>-2.823710e+02</td>\n",
       "    </tr>\n",
       "    <tr>\n",
       "      <th>17</th>\n",
       "      <td>standardize__CRBI</td>\n",
       "      <td>1.926109e+02</td>\n",
       "    </tr>\n",
       "    <tr>\n",
       "      <th>18</th>\n",
       "      <td>standardize__CWalks</td>\n",
       "      <td>-1.896446e+02</td>\n",
       "    </tr>\n",
       "    <tr>\n",
       "      <th>13</th>\n",
       "      <td>standardize__CAtBat</td>\n",
       "      <td>-1.626398e+02</td>\n",
       "    </tr>\n",
       "    <tr>\n",
       "      <th>11</th>\n",
       "      <td>standardize__Walks</td>\n",
       "      <td>1.206953e+02</td>\n",
       "    </tr>\n",
       "    <tr>\n",
       "      <th>2</th>\n",
       "      <td>dummify__Division_E</td>\n",
       "      <td>1.144130e+02</td>\n",
       "    </tr>\n",
       "    <tr>\n",
       "      <th>19</th>\n",
       "      <td>standardize__PutOuts</td>\n",
       "      <td>7.876037e+01</td>\n",
       "    </tr>\n",
       "    <tr>\n",
       "      <th>20</th>\n",
       "      <td>standardize__Assists</td>\n",
       "      <td>4.199668e+01</td>\n",
       "    </tr>\n",
       "    <tr>\n",
       "      <th>0</th>\n",
       "      <td>dummify__League_A</td>\n",
       "      <td>-3.582607e+01</td>\n",
       "    </tr>\n",
       "    <tr>\n",
       "      <th>12</th>\n",
       "      <td>standardize__Years</td>\n",
       "      <td>-3.494815e+01</td>\n",
       "    </tr>\n",
       "    <tr>\n",
       "      <th>9</th>\n",
       "      <td>standardize__Runs</td>\n",
       "      <td>-2.496651e+01</td>\n",
       "    </tr>\n",
       "    <tr>\n",
       "      <th>21</th>\n",
       "      <td>standardize__Errors</td>\n",
       "      <td>-1.847938e+01</td>\n",
       "    </tr>\n",
       "    <tr>\n",
       "      <th>15</th>\n",
       "      <td>standardize__CHmRun</td>\n",
       "      <td>1.422599e+01</td>\n",
       "    </tr>\n",
       "    <tr>\n",
       "      <th>8</th>\n",
       "      <td>standardize__HmRun</td>\n",
       "      <td>1.112702e+01</td>\n",
       "    </tr>\n",
       "    <tr>\n",
       "      <th>3</th>\n",
       "      <td>dummify__Division_W</td>\n",
       "      <td>-2.166971e-11</td>\n",
       "    </tr>\n",
       "    <tr>\n",
       "      <th>1</th>\n",
       "      <td>dummify__League_N</td>\n",
       "      <td>9.731781e-13</td>\n",
       "    </tr>\n",
       "    <tr>\n",
       "      <th>10</th>\n",
       "      <td>standardize__RBI</td>\n",
       "      <td>-0.000000e+00</td>\n",
       "    </tr>\n",
       "    <tr>\n",
       "      <th>14</th>\n",
       "      <td>standardize__CHits</td>\n",
       "      <td>0.000000e+00</td>\n",
       "    </tr>\n",
       "    <tr>\n",
       "      <th>5</th>\n",
       "      <td>dummify__NewLeague_N</td>\n",
       "      <td>-0.000000e+00</td>\n",
       "    </tr>\n",
       "    <tr>\n",
       "      <th>4</th>\n",
       "      <td>dummify__NewLeague_A</td>\n",
       "      <td>0.000000e+00</td>\n",
       "    </tr>\n",
       "  </tbody>\n",
       "</table>\n",
       "</div>"
      ],
      "text/plain": [
       "            Feature Name  Coefficients\n",
       "16    standardize__CRuns  3.755655e+02\n",
       "7      standardize__Hits  3.043595e+02\n",
       "6     standardize__AtBat -2.823710e+02\n",
       "17     standardize__CRBI  1.926109e+02\n",
       "18   standardize__CWalks -1.896446e+02\n",
       "13   standardize__CAtBat -1.626398e+02\n",
       "11    standardize__Walks  1.206953e+02\n",
       "2    dummify__Division_E  1.144130e+02\n",
       "19  standardize__PutOuts  7.876037e+01\n",
       "20  standardize__Assists  4.199668e+01\n",
       "0      dummify__League_A -3.582607e+01\n",
       "12    standardize__Years -3.494815e+01\n",
       "9      standardize__Runs -2.496651e+01\n",
       "21   standardize__Errors -1.847938e+01\n",
       "15   standardize__CHmRun  1.422599e+01\n",
       "8     standardize__HmRun  1.112702e+01\n",
       "3    dummify__Division_W -2.166971e-11\n",
       "1      dummify__League_N  9.731781e-13\n",
       "10      standardize__RBI -0.000000e+00\n",
       "14    standardize__CHits  0.000000e+00\n",
       "5   dummify__NewLeague_N -0.000000e+00\n",
       "4   dummify__NewLeague_A  0.000000e+00"
      ]
     },
     "execution_count": null,
     "metadata": {},
     "output_type": "execute_result"
    }
   ],
   "source": [
    "tune_regression(X, y, model_type = \"lasso\")"
   ]
  },
  {
   "cell_type": "markdown",
   "metadata": {},
   "source": [
    "### Interpretation\n",
    "\n",
    "* For each additional career run, a player's salary is expected to increase by $375,566\n",
    "* For each additional hit a player made in 1986, their salary is expected to increase by $304,360.\n",
    "* For each additional at-bat in 1986, a player's salary is expected to decrease by $282,371\n",
    "* For each additional career RBI, a player's salary is expected to increase by $192,611\n",
    "* For each additional career walk, a player's salary is expected to decrease by $189,645"
   ]
  },
  {
   "cell_type": "markdown",
   "metadata": {},
   "source": [
    "## Part D: Elastic Net\n",
    "\n",
    "1. Create a pipeline that includes all the columns as predictors for Salary, and performs ordinary ridge regression\n",
    "\n",
    "2. Use cross-validation to tune the lambda and alpha hyperparameters.\n",
    "\n",
    "3. Fit the pipeline with your chosen hyperparameters to the full dataset, and interpret a few of the most important coefficients.\n",
    "\n",
    "4. Report the MSE you would expect if you used this pipeline to predict 1989 salaries."
   ]
  },
  {
   "cell_type": "code",
   "execution_count": 318,
   "metadata": {
    "vscode": {
     "languageId": "python"
    }
   },
   "outputs": [
    {
     "name": "stdout",
     "output_type": "stream",
     "text": [
      "Cross-validated MSE scores: [119911.32888951 120077.76864311 120296.21077347 120590.44872106 120994.17981481 118957.96789175 119009.79955442 119123.79308625 119404.65600998 120964.76468618\n",
      " 119805.47261377 119636.17022676 119381.37557129 119036.41354271 120682.25263745 122029.76100625 121374.33374621 120775.68540067 120356.59599777 119761.58740741\n",
      " 150034.24612426 144021.73108229 136766.42534889 128407.50504979 121828.14133339]\n",
      "Best alpha: 0.01\n",
      "Best l1 ratio: 0.0\n",
      "Best cross-validated MSE score: 118957.9678917496\n",
      "Cross-validated MSE scores: [119911.32888951 120077.76864311 120296.21077347 120590.44872106 120994.17981481 118957.96789175 119009.79955442 119123.79308625 119404.65600998 120964.76468618\n",
      " 119805.47261377 119636.17022676 119381.37557129 119036.41354271 120682.25263745 122029.76100625 121374.33374621 120775.68540067 120356.59599777 119761.58740741\n",
      " 150034.24612426 144021.73108229 136766.42534889 128407.50504979 121828.14133339]\n",
      "Best alpha: 0.01\n",
      "Best l1 ratio: 0.0\n",
      "Best cross-validated MSE score: 118957.9678917496\n"
     ]
    },
    {
     "data": {
      "text/html": [
       "<div>\n",
       "<style scoped>\n",
       "    .dataframe tbody tr th:only-of-type {\n",
       "        vertical-align: middle;\n",
       "    }\n",
       "\n",
       "    .dataframe tbody tr th {\n",
       "        vertical-align: top;\n",
       "    }\n",
       "\n",
       "    .dataframe thead th {\n",
       "        text-align: right;\n",
       "    }\n",
       "</style>\n",
       "<table border=\"1\" class=\"dataframe\">\n",
       "  <thead>\n",
       "    <tr style=\"text-align: right;\">\n",
       "      <th></th>\n",
       "      <th>Feature Name</th>\n",
       "      <th>Coefficients</th>\n",
       "    </tr>\n",
       "  </thead>\n",
       "  <tbody>\n",
       "    <tr>\n",
       "      <th>7</th>\n",
       "      <td>standardize__Hits</td>\n",
       "      <td>249.932752</td>\n",
       "    </tr>\n",
       "    <tr>\n",
       "      <th>6</th>\n",
       "      <td>standardize__AtBat</td>\n",
       "      <td>-233.288530</td>\n",
       "    </tr>\n",
       "    <tr>\n",
       "      <th>16</th>\n",
       "      <td>standardize__CRuns</td>\n",
       "      <td>226.828966</td>\n",
       "    </tr>\n",
       "    <tr>\n",
       "      <th>18</th>\n",
       "      <td>standardize__CWalks</td>\n",
       "      <td>-156.494373</td>\n",
       "    </tr>\n",
       "    <tr>\n",
       "      <th>14</th>\n",
       "      <td>standardize__CHits</td>\n",
       "      <td>123.652433</td>\n",
       "    </tr>\n",
       "    <tr>\n",
       "      <th>17</th>\n",
       "      <td>standardize__CRBI</td>\n",
       "      <td>122.933345</td>\n",
       "    </tr>\n",
       "    <tr>\n",
       "      <th>13</th>\n",
       "      <td>standardize__CAtBat</td>\n",
       "      <td>-122.140608</td>\n",
       "    </tr>\n",
       "    <tr>\n",
       "      <th>11</th>\n",
       "      <td>standardize__Walks</td>\n",
       "      <td>111.867856</td>\n",
       "    </tr>\n",
       "    <tr>\n",
       "      <th>19</th>\n",
       "      <td>standardize__PutOuts</td>\n",
       "      <td>77.975918</td>\n",
       "    </tr>\n",
       "    <tr>\n",
       "      <th>2</th>\n",
       "      <td>dummify__Division_E</td>\n",
       "      <td>60.813166</td>\n",
       "    </tr>\n",
       "    <tr>\n",
       "      <th>3</th>\n",
       "      <td>dummify__Division_W</td>\n",
       "      <td>-60.813166</td>\n",
       "    </tr>\n",
       "    <tr>\n",
       "      <th>15</th>\n",
       "      <td>standardize__CHmRun</td>\n",
       "      <td>55.646471</td>\n",
       "    </tr>\n",
       "    <tr>\n",
       "      <th>12</th>\n",
       "      <td>standardize__Years</td>\n",
       "      <td>-49.514175</td>\n",
       "    </tr>\n",
       "    <tr>\n",
       "      <th>20</th>\n",
       "      <td>standardize__Assists</td>\n",
       "      <td>41.454945</td>\n",
       "    </tr>\n",
       "    <tr>\n",
       "      <th>1</th>\n",
       "      <td>dummify__League_N</td>\n",
       "      <td>29.055922</td>\n",
       "    </tr>\n",
       "    <tr>\n",
       "      <th>0</th>\n",
       "      <td>dummify__League_A</td>\n",
       "      <td>-29.055921</td>\n",
       "    </tr>\n",
       "    <tr>\n",
       "      <th>21</th>\n",
       "      <td>standardize__Errors</td>\n",
       "      <td>-24.753916</td>\n",
       "    </tr>\n",
       "    <tr>\n",
       "      <th>4</th>\n",
       "      <td>dummify__NewLeague_A</td>\n",
       "      <td>12.395109</td>\n",
       "    </tr>\n",
       "    <tr>\n",
       "      <th>5</th>\n",
       "      <td>dummify__NewLeague_N</td>\n",
       "      <td>-12.395109</td>\n",
       "    </tr>\n",
       "    <tr>\n",
       "      <th>9</th>\n",
       "      <td>standardize__Runs</td>\n",
       "      <td>-6.952571</td>\n",
       "    </tr>\n",
       "    <tr>\n",
       "      <th>8</th>\n",
       "      <td>standardize__HmRun</td>\n",
       "      <td>5.366905</td>\n",
       "    </tr>\n",
       "    <tr>\n",
       "      <th>10</th>\n",
       "      <td>standardize__RBI</td>\n",
       "      <td>1.909416</td>\n",
       "    </tr>\n",
       "  </tbody>\n",
       "</table>\n",
       "</div>"
      ],
      "text/plain": [
       "            Feature Name  Coefficients\n",
       "7      standardize__Hits    249.932752\n",
       "6     standardize__AtBat   -233.288530\n",
       "16    standardize__CRuns    226.828966\n",
       "18   standardize__CWalks   -156.494373\n",
       "14    standardize__CHits    123.652433\n",
       "17     standardize__CRBI    122.933345\n",
       "13   standardize__CAtBat   -122.140608\n",
       "11    standardize__Walks    111.867856\n",
       "19  standardize__PutOuts     77.975918\n",
       "2    dummify__Division_E     60.813166\n",
       "3    dummify__Division_W    -60.813166\n",
       "15   standardize__CHmRun     55.646471\n",
       "12    standardize__Years    -49.514175\n",
       "20  standardize__Assists     41.454945\n",
       "1      dummify__League_N     29.055922\n",
       "0      dummify__League_A    -29.055921\n",
       "21   standardize__Errors    -24.753916\n",
       "4   dummify__NewLeague_A     12.395109\n",
       "5   dummify__NewLeague_N    -12.395109\n",
       "9      standardize__Runs     -6.952571\n",
       "8     standardize__HmRun      5.366905\n",
       "10      standardize__RBI      1.909416"
      ]
     },
     "execution_count": null,
     "metadata": {},
     "output_type": "execute_result"
    }
   ],
   "source": [
    "tune_regression(X, y, model_type = \"elasticnet\")"
   ]
  },
  {
   "cell_type": "markdown",
   "metadata": {},
   "source": [
    "### Interpretations:\n",
    "* For each additional hit a player made in 1986, their salary is expected to increase by $249,933\n",
    "* For each additional at-bat in 1986, a player's salary is expected to decrease by $233,289.\n",
    "* For each additional career run, a player's salary is expected to increase by $226,829.\n",
    "* For each additional career walk, a player's salary is expected to decrease by $156,494.\n",
    "* For each additional career hit, a player's salary is expected to increase by $123,652."
   ]
  },
  {
   "cell_type": "markdown",
   "metadata": {},
   "source": [
    "# Part Two: Variable Selection\n",
    "\n",
    "Based on the above results, decide on:\n",
    "\n",
    "* Which numeric variable is most important.\n",
    "\n",
    "* Which five numeric variables are most important\n",
    "\n",
    "* Which categorical variable is most important\n",
    "\n",
    "For each of the four model specifications, compare the following possible feature sets:\n",
    "\n",
    "1. Using only the one best numeric variable.\n",
    "\n",
    "2. Using only the five best variables.\n",
    "\n",
    "3. Using the five best numeric variables and their interactions with the one best categorical variable.\n",
    "\n",
    "Report which combination of features and model performed best, based on the validation metric of MSE.\n",
    "\n",
    "(Note: lambda and alpha must be re-tuned for each feature set.)"
   ]
  },
  {
   "cell_type": "code",
   "execution_count": 319,
   "metadata": {
    "vscode": {
     "languageId": "python"
    }
   },
   "outputs": [
    {
     "name": "stdout",
     "output_type": "stream",
     "text": [
      "MSE for Linear: 121136.31\n",
      "MSE for Ridge: 119144.43\n",
      "MSE for Lasso: 119761.59\n",
      "MSE for Elastic Net: 118957.97\n",
      "MSE for Linear: 121136.31\n",
      "MSE for Ridge: 119144.43\n",
      "MSE for Lasso: 119761.59\n",
      "MSE for Elastic Net: 118957.97\n"
     ]
    }
   ],
   "source": [
    "# Print All MSE Values\n",
    "\n",
    "print(\"MSE for Linear: 121136.31\")\n",
    "print(\"MSE for Ridge: 119144.43\")\n",
    "print(\"MSE for Lasso: 119761.59\")\n",
    "print(\"MSE for Elastic Net: 118957.97\")"
   ]
  },
  {
   "cell_type": "markdown",
   "metadata": {},
   "source": [
    "Based on the coefficient outputs for the previous for models, the most important numeric variable is CRuns. Overall, the top five numeric variables include CRuns, Hits, AtBat, CAtBat, and CWalks, as they have the highest absolute value of the standardized coefficients across all four models. The highest categorical variable is Division. "
   ]
  },
  {
   "cell_type": "markdown",
   "metadata": {},
   "source": [
    "## Linear Models\n",
    "\n",
    "### Using only the one best numeric variable"
   ]
  },
  {
   "cell_type": "code",
   "execution_count": 320,
   "metadata": {
    "vscode": {
     "languageId": "python"
    }
   },
   "outputs": [
    {
     "name": "stdout",
     "output_type": "stream",
     "text": [
      "Cross-validated MSE scores: [143812.9359163]\n",
      "Best cross-validated MSE score: 143812.9359162973\n",
      "Cross-validated MSE scores: [143812.9359163]\n",
      "Best cross-validated MSE score: 143812.9359162973\n"
     ]
    },
    {
     "data": {
      "text/html": [
       "<div>\n",
       "<style scoped>\n",
       "    .dataframe tbody tr th:only-of-type {\n",
       "        vertical-align: middle;\n",
       "    }\n",
       "\n",
       "    .dataframe tbody tr th {\n",
       "        vertical-align: top;\n",
       "    }\n",
       "\n",
       "    .dataframe thead th {\n",
       "        text-align: right;\n",
       "    }\n",
       "</style>\n",
       "<table border=\"1\" class=\"dataframe\">\n",
       "  <thead>\n",
       "    <tr style=\"text-align: right;\">\n",
       "      <th></th>\n",
       "      <th>Feature Name</th>\n",
       "      <th>Coefficients</th>\n",
       "    </tr>\n",
       "  </thead>\n",
       "  <tbody>\n",
       "    <tr>\n",
       "      <th>0</th>\n",
       "      <td>standardize__CRuns</td>\n",
       "      <td>253.351392</td>\n",
       "    </tr>\n",
       "  </tbody>\n",
       "</table>\n",
       "</div>"
      ],
      "text/plain": [
       "         Feature Name  Coefficients\n",
       "0  standardize__CRuns    253.351392"
      ]
     },
     "execution_count": null,
     "metadata": {},
     "output_type": "execute_result"
    }
   ],
   "source": [
    "X = hitters[[\"CRuns\"]]\n",
    "y = hitters[\"Salary\"]\n",
    "\n",
    "tune_regression(X, y, model_type=\"linear\")"
   ]
  },
  {
   "cell_type": "markdown",
   "metadata": {},
   "source": [
    "### Using only the five best variables."
   ]
  },
  {
   "cell_type": "code",
   "execution_count": 321,
   "metadata": {
    "vscode": {
     "languageId": "python"
    }
   },
   "outputs": [
    {
     "name": "stdout",
     "output_type": "stream",
     "text": [
      "Cross-validated MSE scores: [127649.37020398]\n",
      "Best cross-validated MSE score: 127649.37020397605\n",
      "Cross-validated MSE scores: [127649.37020398]\n",
      "Best cross-validated MSE score: 127649.37020397605\n"
     ]
    },
    {
     "data": {
      "text/html": [
       "<div>\n",
       "<style scoped>\n",
       "    .dataframe tbody tr th:only-of-type {\n",
       "        vertical-align: middle;\n",
       "    }\n",
       "\n",
       "    .dataframe tbody tr th {\n",
       "        vertical-align: top;\n",
       "    }\n",
       "\n",
       "    .dataframe thead th {\n",
       "        text-align: right;\n",
       "    }\n",
       "</style>\n",
       "<table border=\"1\" class=\"dataframe\">\n",
       "  <thead>\n",
       "    <tr style=\"text-align: right;\">\n",
       "      <th></th>\n",
       "      <th>Feature Name</th>\n",
       "      <th>Coefficients</th>\n",
       "    </tr>\n",
       "  </thead>\n",
       "  <tbody>\n",
       "    <tr>\n",
       "      <th>0</th>\n",
       "      <td>standardize__CRuns</td>\n",
       "      <td>456.319655</td>\n",
       "    </tr>\n",
       "    <tr>\n",
       "      <th>1</th>\n",
       "      <td>standardize__Hits</td>\n",
       "      <td>327.135303</td>\n",
       "    </tr>\n",
       "    <tr>\n",
       "      <th>3</th>\n",
       "      <td>standardize__CAtBat</td>\n",
       "      <td>-234.721048</td>\n",
       "    </tr>\n",
       "    <tr>\n",
       "      <th>2</th>\n",
       "      <td>standardize__AtBat</td>\n",
       "      <td>-196.706159</td>\n",
       "    </tr>\n",
       "    <tr>\n",
       "      <th>4</th>\n",
       "      <td>standardize__CWalks</td>\n",
       "      <td>-4.068062</td>\n",
       "    </tr>\n",
       "  </tbody>\n",
       "</table>\n",
       "</div>"
      ],
      "text/plain": [
       "          Feature Name  Coefficients\n",
       "0   standardize__CRuns    456.319655\n",
       "1    standardize__Hits    327.135303\n",
       "3  standardize__CAtBat   -234.721048\n",
       "2   standardize__AtBat   -196.706159\n",
       "4  standardize__CWalks     -4.068062"
      ]
     },
     "execution_count": null,
     "metadata": {},
     "output_type": "execute_result"
    }
   ],
   "source": [
    "X = hitters[[\"CRuns\", \"Hits\", \"AtBat\", \"CAtBat\", \"CWalks\"]]\n",
    "y = hitters[\"Salary\"]\n",
    "\n",
    "tune_regression(X, y, model_type=\"linear\")"
   ]
  },
  {
   "cell_type": "markdown",
   "metadata": {},
   "source": [
    "### Using the five best numeric variables and their interactions with the one best categorical variable."
   ]
  },
  {
   "cell_type": "code",
   "execution_count": 322,
   "metadata": {
    "vscode": {
     "languageId": "python"
    }
   },
   "outputs": [
    {
     "name": "stdout",
     "output_type": "stream",
     "text": [
      "Cross-validated MSE scores: [132104.0877176]\n",
      "Best cross-validated MSE score: 132104.08771759568\n",
      "Cross-validated MSE scores: [132104.0877176]\n",
      "Best cross-validated MSE score: 132104.08771759568\n"
     ]
    },
    {
     "data": {
      "text/html": [
       "<div>\n",
       "<style scoped>\n",
       "    .dataframe tbody tr th:only-of-type {\n",
       "        vertical-align: middle;\n",
       "    }\n",
       "\n",
       "    .dataframe tbody tr th {\n",
       "        vertical-align: top;\n",
       "    }\n",
       "\n",
       "    .dataframe thead th {\n",
       "        text-align: right;\n",
       "    }\n",
       "</style>\n",
       "<table border=\"1\" class=\"dataframe\">\n",
       "  <thead>\n",
       "    <tr style=\"text-align: right;\">\n",
       "      <th></th>\n",
       "      <th>Feature Name</th>\n",
       "      <th>Coefficients</th>\n",
       "    </tr>\n",
       "  </thead>\n",
       "  <tbody>\n",
       "    <tr>\n",
       "      <th>0</th>\n",
       "      <td>standardize__CRuns</td>\n",
       "      <td>577.187656</td>\n",
       "    </tr>\n",
       "    <tr>\n",
       "      <th>7</th>\n",
       "      <td>standardize__AtBat_x_Division_W</td>\n",
       "      <td>515.649819</td>\n",
       "    </tr>\n",
       "    <tr>\n",
       "      <th>6</th>\n",
       "      <td>standardize__Hits_x_Division_W</td>\n",
       "      <td>-478.862753</td>\n",
       "    </tr>\n",
       "    <tr>\n",
       "      <th>1</th>\n",
       "      <td>standardize__Hits</td>\n",
       "      <td>447.404648</td>\n",
       "    </tr>\n",
       "    <tr>\n",
       "      <th>8</th>\n",
       "      <td>standardize__CAtBat_x_Division_W</td>\n",
       "      <td>355.962321</td>\n",
       "    </tr>\n",
       "    <tr>\n",
       "      <th>5</th>\n",
       "      <td>standardize__CRuns_x_Division_W</td>\n",
       "      <td>-348.935166</td>\n",
       "    </tr>\n",
       "    <tr>\n",
       "      <th>3</th>\n",
       "      <td>standardize__CAtBat</td>\n",
       "      <td>-324.790653</td>\n",
       "    </tr>\n",
       "    <tr>\n",
       "      <th>2</th>\n",
       "      <td>standardize__AtBat</td>\n",
       "      <td>-324.539068</td>\n",
       "    </tr>\n",
       "    <tr>\n",
       "      <th>10</th>\n",
       "      <td>remainder__Division_W</td>\n",
       "      <td>-126.232645</td>\n",
       "    </tr>\n",
       "    <tr>\n",
       "      <th>9</th>\n",
       "      <td>standardize__CWalks_x_Division_W</td>\n",
       "      <td>-73.337121</td>\n",
       "    </tr>\n",
       "    <tr>\n",
       "      <th>4</th>\n",
       "      <td>standardize__CWalks</td>\n",
       "      <td>8.972187</td>\n",
       "    </tr>\n",
       "  </tbody>\n",
       "</table>\n",
       "</div>"
      ],
      "text/plain": [
       "                        Feature Name  Coefficients\n",
       "0                 standardize__CRuns    577.187656\n",
       "7    standardize__AtBat_x_Division_W    515.649819\n",
       "6     standardize__Hits_x_Division_W   -478.862753\n",
       "1                  standardize__Hits    447.404648\n",
       "8   standardize__CAtBat_x_Division_W    355.962321\n",
       "5    standardize__CRuns_x_Division_W   -348.935166\n",
       "3                standardize__CAtBat   -324.790653\n",
       "2                 standardize__AtBat   -324.539068\n",
       "10             remainder__Division_W   -126.232645\n",
       "9   standardize__CWalks_x_Division_W    -73.337121\n",
       "4                standardize__CWalks      8.972187"
      ]
     },
     "execution_count": null,
     "metadata": {},
     "output_type": "execute_result"
    }
   ],
   "source": [
    "# Sample data - assuming hitters DataFrame already exists\n",
    "filtered_df = hitters[[\"CRuns\", \"Hits\", \"AtBat\", \"CAtBat\", \"CWalks\", \"Division\", \"Salary\"]]\n",
    "\n",
    "# create dummy variables\n",
    "dummy_vars = pd.get_dummies(filtered_df['Division'], prefix='Division', drop_first=True)\n",
    "filtered_df = pd.concat([filtered_df, dummy_vars], axis=1)\n",
    "\n",
    "#Write function to create interaction terms\n",
    "def create_interactions(df, num_vars, cat_dummy_vars):\n",
    "    #create interaction terms\n",
    "    for num_var in num_vars:\n",
    "        for dummy_var in cat_dummy_vars:\n",
    "            # Create interaction column name and assign interaction term\n",
    "            interaction_col_name = f\"{num_var}_x_{dummy_var}\"\n",
    "            df[interaction_col_name] = df[num_var] * df[dummy_var]\n",
    "    return df\n",
    "\n",
    "#apply interactions function\n",
    "num_vars = [\"CRuns\", \"Hits\", \"AtBat\", \"CAtBat\", \"CWalks\"]\n",
    "cat_dummy_vars = dummy_vars.columns  # 'Division_W' in this case\n",
    "\n",
    "#create df with interactions\n",
    "inter_df = create_interactions(filtered_df, num_vars, cat_dummy_vars)\n",
    "\n",
    "# get x and y values\n",
    "X = inter_df[num_vars + cat_dummy_vars.tolist() + [f\"{num}_x_{dummy}\" for num in num_vars for dummy in cat_dummy_vars]]\n",
    "y = inter_df[\"Salary\"]\n",
    "\n",
    "# print results\n",
    "tune_regression(X, y, model_type=\"linear\")\n"
   ]
  },
  {
   "cell_type": "markdown",
   "metadata": {},
   "source": [
    "## Ridge Regression\n",
    "\n",
    "### Using only the one best numeric variable."
   ]
  },
  {
   "cell_type": "code",
   "execution_count": 323,
   "metadata": {
    "vscode": {
     "languageId": "python"
    }
   },
   "outputs": [
    {
     "name": "stdout",
     "output_type": "stream",
     "text": [
      "Cross-validated MSE scores: [143812.90501458 143812.62705116 143809.86245611 143783.70685419 143658.51736859]\n",
      "Best alpha: 10\n",
      "Best cross-validated MSE score: 143658.5173685888\n",
      "Cross-validated MSE scores: [143812.90501458 143812.62705116 143809.86245611 143783.70685419 143658.51736859]\n",
      "Best alpha: 10\n",
      "Best cross-validated MSE score: 143658.5173685888\n"
     ]
    },
    {
     "data": {
      "text/html": [
       "<div>\n",
       "<style scoped>\n",
       "    .dataframe tbody tr th:only-of-type {\n",
       "        vertical-align: middle;\n",
       "    }\n",
       "\n",
       "    .dataframe tbody tr th {\n",
       "        vertical-align: top;\n",
       "    }\n",
       "\n",
       "    .dataframe thead th {\n",
       "        text-align: right;\n",
       "    }\n",
       "</style>\n",
       "<table border=\"1\" class=\"dataframe\">\n",
       "  <thead>\n",
       "    <tr style=\"text-align: right;\">\n",
       "      <th></th>\n",
       "      <th>Feature Name</th>\n",
       "      <th>Coefficients</th>\n",
       "    </tr>\n",
       "  </thead>\n",
       "  <tbody>\n",
       "    <tr>\n",
       "      <th>0</th>\n",
       "      <td>standardize__CRuns</td>\n",
       "      <td>244.071121</td>\n",
       "    </tr>\n",
       "  </tbody>\n",
       "</table>\n",
       "</div>"
      ],
      "text/plain": [
       "         Feature Name  Coefficients\n",
       "0  standardize__CRuns    244.071121"
      ]
     },
     "execution_count": null,
     "metadata": {},
     "output_type": "execute_result"
    }
   ],
   "source": [
    "X = hitters[[\"CRuns\"]]\n",
    "y = hitters[\"Salary\"]\n",
    "\n",
    "tune_regression(X, y, model_type=\"ridge\")"
   ]
  },
  {
   "cell_type": "markdown",
   "metadata": {},
   "source": [
    "### Using only the five best variables."
   ]
  },
  {
   "cell_type": "code",
   "execution_count": 324,
   "metadata": {
    "vscode": {
     "languageId": "python"
    }
   },
   "outputs": [
    {
     "name": "stdout",
     "output_type": "stream",
     "text": [
      "Cross-validated MSE scores: [127647.79274475 127633.69370585 127501.96337709 126800.37050367 128037.29050591]\n",
      "Best alpha: 1\n",
      "Best cross-validated MSE score: 126800.37050367221\n",
      "Cross-validated MSE scores: [127647.79274475 127633.69370585 127501.96337709 126800.37050367 128037.29050591]\n",
      "Best alpha: 1\n",
      "Best cross-validated MSE score: 126800.37050367221\n"
     ]
    },
    {
     "data": {
      "text/html": [
       "<div>\n",
       "<style scoped>\n",
       "    .dataframe tbody tr th:only-of-type {\n",
       "        vertical-align: middle;\n",
       "    }\n",
       "\n",
       "    .dataframe tbody tr th {\n",
       "        vertical-align: top;\n",
       "    }\n",
       "\n",
       "    .dataframe thead th {\n",
       "        text-align: right;\n",
       "    }\n",
       "</style>\n",
       "<table border=\"1\" class=\"dataframe\">\n",
       "  <thead>\n",
       "    <tr style=\"text-align: right;\">\n",
       "      <th></th>\n",
       "      <th>Feature Name</th>\n",
       "      <th>Coefficients</th>\n",
       "    </tr>\n",
       "  </thead>\n",
       "  <tbody>\n",
       "    <tr>\n",
       "      <th>0</th>\n",
       "      <td>standardize__CRuns</td>\n",
       "      <td>380.505983</td>\n",
       "    </tr>\n",
       "    <tr>\n",
       "      <th>1</th>\n",
       "      <td>standardize__Hits</td>\n",
       "      <td>307.149947</td>\n",
       "    </tr>\n",
       "    <tr>\n",
       "      <th>2</th>\n",
       "      <td>standardize__AtBat</td>\n",
       "      <td>-173.562058</td>\n",
       "    </tr>\n",
       "    <tr>\n",
       "      <th>3</th>\n",
       "      <td>standardize__CAtBat</td>\n",
       "      <td>-171.164182</td>\n",
       "    </tr>\n",
       "    <tr>\n",
       "      <th>4</th>\n",
       "      <td>standardize__CWalks</td>\n",
       "      <td>7.992500</td>\n",
       "    </tr>\n",
       "  </tbody>\n",
       "</table>\n",
       "</div>"
      ],
      "text/plain": [
       "          Feature Name  Coefficients\n",
       "0   standardize__CRuns    380.505983\n",
       "1    standardize__Hits    307.149947\n",
       "2   standardize__AtBat   -173.562058\n",
       "3  standardize__CAtBat   -171.164182\n",
       "4  standardize__CWalks      7.992500"
      ]
     },
     "execution_count": null,
     "metadata": {},
     "output_type": "execute_result"
    }
   ],
   "source": [
    "X = hitters[[\"CRuns\", \"Hits\", \"AtBat\", \"CAtBat\", \"CWalks\"]]\n",
    "y = hitters[\"Salary\"]\n",
    "\n",
    "tune_regression(X, y, model_type=\"ridge\")"
   ]
  },
  {
   "cell_type": "markdown",
   "metadata": {},
   "source": [
    "### Using the five best numeric variables and their interactions with the one best categorical variable."
   ]
  },
  {
   "cell_type": "code",
   "execution_count": 325,
   "metadata": {
    "vscode": {
     "languageId": "python"
    }
   },
   "outputs": [
    {
     "name": "stdout",
     "output_type": "stream",
     "text": [
      "Cross-validated MSE scores: [132097.27417544 132037.4725731  131560.31605707 129960.49843623 126904.65728349]\n",
      "Best alpha: 10\n",
      "Best cross-validated MSE score: 126904.65728349383\n",
      "Cross-validated MSE scores: [132097.27417544 132037.4725731  131560.31605707 129960.49843623 126904.65728349]\n",
      "Best alpha: 10\n",
      "Best cross-validated MSE score: 126904.65728349383\n"
     ]
    },
    {
     "data": {
      "text/html": [
       "<div>\n",
       "<style scoped>\n",
       "    .dataframe tbody tr th:only-of-type {\n",
       "        vertical-align: middle;\n",
       "    }\n",
       "\n",
       "    .dataframe tbody tr th {\n",
       "        vertical-align: top;\n",
       "    }\n",
       "\n",
       "    .dataframe thead th {\n",
       "        text-align: right;\n",
       "    }\n",
       "</style>\n",
       "<table border=\"1\" class=\"dataframe\">\n",
       "  <thead>\n",
       "    <tr style=\"text-align: right;\">\n",
       "      <th></th>\n",
       "      <th>Feature Name</th>\n",
       "      <th>Coefficients</th>\n",
       "    </tr>\n",
       "  </thead>\n",
       "  <tbody>\n",
       "    <tr>\n",
       "      <th>1</th>\n",
       "      <td>standardize__Hits</td>\n",
       "      <td>186.913169</td>\n",
       "    </tr>\n",
       "    <tr>\n",
       "      <th>0</th>\n",
       "      <td>standardize__CRuns</td>\n",
       "      <td>184.772545</td>\n",
       "    </tr>\n",
       "    <tr>\n",
       "      <th>9</th>\n",
       "      <td>standardize__CWalks_x_Division_W</td>\n",
       "      <td>-70.216161</td>\n",
       "    </tr>\n",
       "    <tr>\n",
       "      <th>4</th>\n",
       "      <td>standardize__CWalks</td>\n",
       "      <td>48.603938</td>\n",
       "    </tr>\n",
       "    <tr>\n",
       "      <th>2</th>\n",
       "      <td>standardize__AtBat</td>\n",
       "      <td>-47.255382</td>\n",
       "    </tr>\n",
       "    <tr>\n",
       "      <th>6</th>\n",
       "      <td>standardize__Hits_x_Division_W</td>\n",
       "      <td>-34.827895</td>\n",
       "    </tr>\n",
       "    <tr>\n",
       "      <th>3</th>\n",
       "      <td>standardize__CAtBat</td>\n",
       "      <td>29.468486</td>\n",
       "    </tr>\n",
       "    <tr>\n",
       "      <th>10</th>\n",
       "      <td>remainder__Division_W</td>\n",
       "      <td>14.445102</td>\n",
       "    </tr>\n",
       "    <tr>\n",
       "      <th>5</th>\n",
       "      <td>standardize__CRuns_x_Division_W</td>\n",
       "      <td>-10.609747</td>\n",
       "    </tr>\n",
       "    <tr>\n",
       "      <th>7</th>\n",
       "      <td>standardize__AtBat_x_Division_W</td>\n",
       "      <td>3.519728</td>\n",
       "    </tr>\n",
       "    <tr>\n",
       "      <th>8</th>\n",
       "      <td>standardize__CAtBat_x_Division_W</td>\n",
       "      <td>1.389291</td>\n",
       "    </tr>\n",
       "  </tbody>\n",
       "</table>\n",
       "</div>"
      ],
      "text/plain": [
       "                        Feature Name  Coefficients\n",
       "1                  standardize__Hits    186.913169\n",
       "0                 standardize__CRuns    184.772545\n",
       "9   standardize__CWalks_x_Division_W    -70.216161\n",
       "4                standardize__CWalks     48.603938\n",
       "2                 standardize__AtBat    -47.255382\n",
       "6     standardize__Hits_x_Division_W    -34.827895\n",
       "3                standardize__CAtBat     29.468486\n",
       "10             remainder__Division_W     14.445102\n",
       "5    standardize__CRuns_x_Division_W    -10.609747\n",
       "7    standardize__AtBat_x_Division_W      3.519728\n",
       "8   standardize__CAtBat_x_Division_W      1.389291"
      ]
     },
     "execution_count": null,
     "metadata": {},
     "output_type": "execute_result"
    }
   ],
   "source": [
    "X = inter_df[num_vars + cat_dummy_vars.tolist() + [f\"{num}_x_{dummy}\" for num in num_vars for dummy in cat_dummy_vars]]\n",
    "y = inter_df[\"Salary\"]\n",
    "\n",
    "# print results\n",
    "tune_regression(X, y, model_type=\"ridge\")"
   ]
  },
  {
   "cell_type": "markdown",
   "metadata": {},
   "source": [
    "## Lasso Regression\n",
    "\n",
    "### Using only the one best numeric variable."
   ]
  },
  {
   "cell_type": "code",
   "execution_count": 326,
   "metadata": {
    "vscode": {
     "languageId": "python"
    }
   },
   "outputs": [
    {
     "name": "stdout",
     "output_type": "stream",
     "text": [
      "Cross-validated MSE scores:Cross-validated MSE scores:"
     ]
    },
    {
     "name": "stdout",
     "output_type": "stream",
     "text": [
      " [143812.92354516 143812.8122987  143811.70912151 143801.60608406 143793.44915854]\n",
      "Best alpha: 10\n",
      "Best cross-validated MSE score: 143793.4491585397\n",
      " [143812.92354516 143812.8122987  143811.70912151 143801.60608406 143793.44915854]\n",
      "Best alpha: 10\n",
      "Best cross-validated MSE score: 143793.4491585397\n"
     ]
    },
    {
     "data": {
      "text/html": [
       "<div>\n",
       "<style scoped>\n",
       "    .dataframe tbody tr th:only-of-type {\n",
       "        vertical-align: middle;\n",
       "    }\n",
       "\n",
       "    .dataframe tbody tr th {\n",
       "        vertical-align: top;\n",
       "    }\n",
       "\n",
       "    .dataframe thead th {\n",
       "        text-align: right;\n",
       "    }\n",
       "</style>\n",
       "<table border=\"1\" class=\"dataframe\">\n",
       "  <thead>\n",
       "    <tr style=\"text-align: right;\">\n",
       "      <th></th>\n",
       "      <th>Feature Name</th>\n",
       "      <th>Coefficients</th>\n",
       "    </tr>\n",
       "  </thead>\n",
       "  <tbody>\n",
       "    <tr>\n",
       "      <th>0</th>\n",
       "      <td>standardize__CRuns</td>\n",
       "      <td>243.351392</td>\n",
       "    </tr>\n",
       "  </tbody>\n",
       "</table>\n",
       "</div>"
      ],
      "text/plain": [
       "         Feature Name  Coefficients\n",
       "0  standardize__CRuns    243.351392"
      ]
     },
     "execution_count": null,
     "metadata": {},
     "output_type": "execute_result"
    }
   ],
   "source": [
    "X = hitters[[\"CRuns\"]]\n",
    "y = hitters[\"Salary\"]\n",
    "\n",
    "tune_regression(X, y, model_type=\"lasso\")"
   ]
  },
  {
   "cell_type": "markdown",
   "metadata": {},
   "source": [
    "### Using only the five best variables."
   ]
  },
  {
   "cell_type": "code",
   "execution_count": 327,
   "metadata": {
    "vscode": {
     "languageId": "python"
    }
   },
   "outputs": [
    {
     "name": "stdout",
     "output_type": "stream",
     "text": [
      "Cross-validated MSE scores: [127648.6718963  127642.40905698 127581.89096439 127187.74346482 128429.54257044]\n",
      "Best alpha: 1\n",
      "Best cross-validated MSE score: 127187.74346481936\n",
      "Cross-validated MSE scores: [127648.6718963  127642.40905698 127581.89096439 127187.74346482 128429.54257044]\n",
      "Best alpha: 1\n",
      "Best cross-validated MSE score: 127187.74346481936\n"
     ]
    },
    {
     "data": {
      "text/html": [
       "<div>\n",
       "<style scoped>\n",
       "    .dataframe tbody tr th:only-of-type {\n",
       "        vertical-align: middle;\n",
       "    }\n",
       "\n",
       "    .dataframe tbody tr th {\n",
       "        vertical-align: top;\n",
       "    }\n",
       "\n",
       "    .dataframe thead th {\n",
       "        text-align: right;\n",
       "    }\n",
       "</style>\n",
       "<table border=\"1\" class=\"dataframe\">\n",
       "  <thead>\n",
       "    <tr style=\"text-align: right;\">\n",
       "      <th></th>\n",
       "      <th>Feature Name</th>\n",
       "      <th>Coefficients</th>\n",
       "    </tr>\n",
       "  </thead>\n",
       "  <tbody>\n",
       "    <tr>\n",
       "      <th>0</th>\n",
       "      <td>standardize__CRuns</td>\n",
       "      <td>392.706162</td>\n",
       "    </tr>\n",
       "    <tr>\n",
       "      <th>1</th>\n",
       "      <td>standardize__Hits</td>\n",
       "      <td>302.974589</td>\n",
       "    </tr>\n",
       "    <tr>\n",
       "      <th>3</th>\n",
       "      <td>standardize__CAtBat</td>\n",
       "      <td>-175.400706</td>\n",
       "    </tr>\n",
       "    <tr>\n",
       "      <th>2</th>\n",
       "      <td>standardize__AtBat</td>\n",
       "      <td>-170.154812</td>\n",
       "    </tr>\n",
       "    <tr>\n",
       "      <th>4</th>\n",
       "      <td>standardize__CWalks</td>\n",
       "      <td>0.000000</td>\n",
       "    </tr>\n",
       "  </tbody>\n",
       "</table>\n",
       "</div>"
      ],
      "text/plain": [
       "          Feature Name  Coefficients\n",
       "0   standardize__CRuns    392.706162\n",
       "1    standardize__Hits    302.974589\n",
       "3  standardize__CAtBat   -175.400706\n",
       "2   standardize__AtBat   -170.154812\n",
       "4  standardize__CWalks      0.000000"
      ]
     },
     "execution_count": null,
     "metadata": {},
     "output_type": "execute_result"
    }
   ],
   "source": [
    "X = hitters[[\"CRuns\", \"Hits\", \"AtBat\", \"CAtBat\", \"CWalks\"]]\n",
    "y = hitters[\"Salary\"]\n",
    "\n",
    "tune_regression(X, y, model_type=\"lasso\")"
   ]
  },
  {
   "cell_type": "markdown",
   "metadata": {},
   "source": [
    "### Using the five best numeric variables and their interactions with the one best categorical variable.\n"
   ]
  },
  {
   "cell_type": "code",
   "execution_count": 328,
   "metadata": {
    "vscode": {
     "languageId": "python"
    }
   },
   "outputs": [
    {
     "name": "stdout",
     "output_type": "stream",
     "text": [
      "Cross-validated MSE scores: [132092.43131067 132053.81808984 131692.0730298  130266.41712657 125801.75705113]\n",
      "Best alpha: 10\n",
      "Best cross-validated MSE score: 125801.75705113329\n",
      "Cross-validated MSE scores: [132092.43131067 132053.81808984 131692.0730298  130266.41712657 125801.75705113]\n",
      "Best alpha: 10\n",
      "Best cross-validated MSE score: 125801.75705113329\n"
     ]
    },
    {
     "data": {
      "text/html": [
       "<div>\n",
       "<style scoped>\n",
       "    .dataframe tbody tr th:only-of-type {\n",
       "        vertical-align: middle;\n",
       "    }\n",
       "\n",
       "    .dataframe tbody tr th {\n",
       "        vertical-align: top;\n",
       "    }\n",
       "\n",
       "    .dataframe thead th {\n",
       "        text-align: right;\n",
       "    }\n",
       "</style>\n",
       "<table border=\"1\" class=\"dataframe\">\n",
       "  <thead>\n",
       "    <tr style=\"text-align: right;\">\n",
       "      <th></th>\n",
       "      <th>Feature Name</th>\n",
       "      <th>Coefficients</th>\n",
       "    </tr>\n",
       "  </thead>\n",
       "  <tbody>\n",
       "    <tr>\n",
       "      <th>0</th>\n",
       "      <td>standardize__CRuns</td>\n",
       "      <td>246.924957</td>\n",
       "    </tr>\n",
       "    <tr>\n",
       "      <th>1</th>\n",
       "      <td>standardize__Hits</td>\n",
       "      <td>133.933901</td>\n",
       "    </tr>\n",
       "    <tr>\n",
       "      <th>9</th>\n",
       "      <td>standardize__CWalks_x_Division_W</td>\n",
       "      <td>-53.996084</td>\n",
       "    </tr>\n",
       "    <tr>\n",
       "      <th>6</th>\n",
       "      <td>standardize__Hits_x_Division_W</td>\n",
       "      <td>-25.845140</td>\n",
       "    </tr>\n",
       "    <tr>\n",
       "      <th>5</th>\n",
       "      <td>standardize__CRuns_x_Division_W</td>\n",
       "      <td>-7.955686</td>\n",
       "    </tr>\n",
       "    <tr>\n",
       "      <th>2</th>\n",
       "      <td>standardize__AtBat</td>\n",
       "      <td>-0.000000</td>\n",
       "    </tr>\n",
       "    <tr>\n",
       "      <th>3</th>\n",
       "      <td>standardize__CAtBat</td>\n",
       "      <td>0.000000</td>\n",
       "    </tr>\n",
       "    <tr>\n",
       "      <th>4</th>\n",
       "      <td>standardize__CWalks</td>\n",
       "      <td>0.000000</td>\n",
       "    </tr>\n",
       "    <tr>\n",
       "      <th>7</th>\n",
       "      <td>standardize__AtBat_x_Division_W</td>\n",
       "      <td>-0.000000</td>\n",
       "    </tr>\n",
       "    <tr>\n",
       "      <th>8</th>\n",
       "      <td>standardize__CAtBat_x_Division_W</td>\n",
       "      <td>-0.000000</td>\n",
       "    </tr>\n",
       "    <tr>\n",
       "      <th>10</th>\n",
       "      <td>remainder__Division_W</td>\n",
       "      <td>-0.000000</td>\n",
       "    </tr>\n",
       "  </tbody>\n",
       "</table>\n",
       "</div>"
      ],
      "text/plain": [
       "                        Feature Name  Coefficients\n",
       "0                 standardize__CRuns    246.924957\n",
       "1                  standardize__Hits    133.933901\n",
       "9   standardize__CWalks_x_Division_W    -53.996084\n",
       "6     standardize__Hits_x_Division_W    -25.845140\n",
       "5    standardize__CRuns_x_Division_W     -7.955686\n",
       "2                 standardize__AtBat     -0.000000\n",
       "3                standardize__CAtBat      0.000000\n",
       "4                standardize__CWalks      0.000000\n",
       "7    standardize__AtBat_x_Division_W     -0.000000\n",
       "8   standardize__CAtBat_x_Division_W     -0.000000\n",
       "10             remainder__Division_W     -0.000000"
      ]
     },
     "execution_count": null,
     "metadata": {},
     "output_type": "execute_result"
    }
   ],
   "source": [
    "X = inter_df[num_vars + cat_dummy_vars.tolist() + [f\"{num}_x_{dummy}\" for num in num_vars for dummy in cat_dummy_vars]]\n",
    "y = inter_df[\"Salary\"]\n",
    "\n",
    "# print results\n",
    "tune_regression(X, y, model_type=\"lasso\")"
   ]
  },
  {
   "cell_type": "markdown",
   "metadata": {},
   "source": [
    "## Elastic Net Regression\n",
    "\n",
    "### Using only the one best numeric variable."
   ]
  },
  {
   "cell_type": "code",
   "execution_count": 329,
   "metadata": {
    "vscode": {
     "languageId": "python"
    }
   },
   "outputs": [
    {
     "name": "stdout",
     "output_type": "stream",
     "text": [
      "Cross-validated MSE scores: [143806.42455599 143808.03538837 143809.65548849 143811.28486965 143812.92354516 143754.43301037 143767.67766747 143781.81382835 143796.85435465 143812.8122987\n",
      " 143779.6466328  143687.04556094 143655.07604767 143693.04973161 143811.70912151 157624.93859252 153588.16652086 149274.99427665 145289.39892935 143801.60608406\n",
      " 194371.29302845 191404.80929793 186199.04562055 174810.69127625 143793.44915854]\n",
      "Best alpha: 0.1\n",
      "Best l1 ratio: 0.5\n",
      "Best cross-validated MSE score: 143655.07604766646\n",
      "Cross-validated MSE scores: [143806.42455599 143808.03538837 143809.65548849 143811.28486965 143812.92354516 143754.43301037 143767.67766747 143781.81382835 143796.85435465 143812.8122987\n",
      " 143779.6466328  143687.04556094 143655.07604767 143693.04973161 143811.70912151 157624.93859252 153588.16652086 149274.99427665 145289.39892935 143801.60608406\n",
      " 194371.29302845 191404.80929793 186199.04562055 174810.69127625 143793.44915854]\n",
      "Best alpha: 0.1\n",
      "Best l1 ratio: 0.5\n",
      "Best cross-validated MSE score: 143655.07604766646\n"
     ]
    },
    {
     "data": {
      "text/html": [
       "<div>\n",
       "<style scoped>\n",
       "    .dataframe tbody tr th:only-of-type {\n",
       "        vertical-align: middle;\n",
       "    }\n",
       "\n",
       "    .dataframe tbody tr th {\n",
       "        vertical-align: top;\n",
       "    }\n",
       "\n",
       "    .dataframe thead th {\n",
       "        text-align: right;\n",
       "    }\n",
       "</style>\n",
       "<table border=\"1\" class=\"dataframe\">\n",
       "  <thead>\n",
       "    <tr style=\"text-align: right;\">\n",
       "      <th></th>\n",
       "      <th>Feature Name</th>\n",
       "      <th>Coefficients</th>\n",
       "    </tr>\n",
       "  </thead>\n",
       "  <tbody>\n",
       "    <tr>\n",
       "      <th>0</th>\n",
       "      <td>standardize__CRuns</td>\n",
       "      <td>241.239421</td>\n",
       "    </tr>\n",
       "  </tbody>\n",
       "</table>\n",
       "</div>"
      ],
      "text/plain": [
       "         Feature Name  Coefficients\n",
       "0  standardize__CRuns    241.239421"
      ]
     },
     "execution_count": null,
     "metadata": {},
     "output_type": "execute_result"
    }
   ],
   "source": [
    "X = hitters[[\"CRuns\"]]\n",
    "y = hitters[\"Salary\"]\n",
    "\n",
    "tune_regression(X, y, model_type=\"elasticnet\")"
   ]
  },
  {
   "cell_type": "markdown",
   "metadata": {},
   "source": [
    "### Using only the five best variables."
   ]
  },
  {
   "cell_type": "code",
   "execution_count": 330,
   "metadata": {
    "vscode": {
     "languageId": "python"
    }
   },
   "outputs": [
    {
     "name": "stdout",
     "output_type": "stream",
     "text": [
      "Cross-validated MSE scores: [127360.04171882 127424.54605246 127493.90004866 127568.47377713 127648.6718963  126648.16974756 126666.32832458 126777.95501404 127054.75757972 127642.40905698\n",
      " 129188.85111023 128763.12468917 128125.37185885 127185.16006204 127581.89096439 133972.18712472 132539.73901984 131336.03247014 130321.54180695 127187.74346482\n",
      " 173478.53036719 167536.72761967 158847.18764031 145552.28888459 128429.54257044]\n",
      "Best alpha: 0.01\n",
      "Best l1 ratio: 0.0\n",
      "Best cross-validated MSE score: 126648.16974756443\n",
      "Cross-validated MSE scores: [127360.04171882 127424.54605246 127493.90004866 127568.47377713 127648.6718963  126648.16974756 126666.32832458 126777.95501404 127054.75757972 127642.40905698\n",
      " 129188.85111023 128763.12468917 128125.37185885 127185.16006204 127581.89096439 133972.18712472 132539.73901984 131336.03247014 130321.54180695 127187.74346482\n",
      " 173478.53036719 167536.72761967 158847.18764031 145552.28888459 128429.54257044]\n",
      "Best alpha: 0.01\n",
      "Best l1 ratio: 0.0\n",
      "Best cross-validated MSE score: 126648.16974756443\n"
     ]
    },
    {
     "data": {
      "text/html": [
       "<div>\n",
       "<style scoped>\n",
       "    .dataframe tbody tr th:only-of-type {\n",
       "        vertical-align: middle;\n",
       "    }\n",
       "\n",
       "    .dataframe tbody tr th {\n",
       "        vertical-align: top;\n",
       "    }\n",
       "\n",
       "    .dataframe thead th {\n",
       "        text-align: right;\n",
       "    }\n",
       "</style>\n",
       "<table border=\"1\" class=\"dataframe\">\n",
       "  <thead>\n",
       "    <tr style=\"text-align: right;\">\n",
       "      <th></th>\n",
       "      <th>Feature Name</th>\n",
       "      <th>Coefficients</th>\n",
       "    </tr>\n",
       "  </thead>\n",
       "  <tbody>\n",
       "    <tr>\n",
       "      <th>0</th>\n",
       "      <td>standardize__CRuns</td>\n",
       "      <td>306.987777</td>\n",
       "    </tr>\n",
       "    <tr>\n",
       "      <th>1</th>\n",
       "      <td>standardize__Hits</td>\n",
       "      <td>279.084629</td>\n",
       "    </tr>\n",
       "    <tr>\n",
       "      <th>2</th>\n",
       "      <td>standardize__AtBat</td>\n",
       "      <td>-142.605113</td>\n",
       "    </tr>\n",
       "    <tr>\n",
       "      <th>3</th>\n",
       "      <td>standardize__CAtBat</td>\n",
       "      <td>-109.404969</td>\n",
       "    </tr>\n",
       "    <tr>\n",
       "      <th>4</th>\n",
       "      <td>standardize__CWalks</td>\n",
       "      <td>19.375450</td>\n",
       "    </tr>\n",
       "  </tbody>\n",
       "</table>\n",
       "</div>"
      ],
      "text/plain": [
       "          Feature Name  Coefficients\n",
       "0   standardize__CRuns    306.987777\n",
       "1    standardize__Hits    279.084629\n",
       "2   standardize__AtBat   -142.605113\n",
       "3  standardize__CAtBat   -109.404969\n",
       "4  standardize__CWalks     19.375450"
      ]
     },
     "execution_count": null,
     "metadata": {},
     "output_type": "execute_result"
    }
   ],
   "source": [
    "X = hitters[[\"CRuns\", \"Hits\", \"AtBat\", \"CAtBat\", \"CWalks\"]]\n",
    "y = hitters[\"Salary\"]\n",
    "\n",
    "tune_regression(X, y, model_type=\"elasticnet\")"
   ]
  },
  {
   "cell_type": "markdown",
   "metadata": {},
   "source": [
    "### Using the five best numeric variables and their interactions with the one best categorical variable."
   ]
  },
  {
   "cell_type": "code",
   "execution_count": 331,
   "metadata": {
    "vscode": {
     "languageId": "python"
    }
   },
   "outputs": [
    {
     "name": "stdout",
     "output_type": "stream",
     "text": [
      "Cross-validated MSE scores: [131167.69449883 131333.69197421 131533.68879692 131780.42267733 132092.43131067 129038.09674714 129427.71253889 129900.37651437 130520.02194203 132053.81808984\n",
      " 126336.39170288 126508.47682515 126839.16352286 127607.82441985 131692.0730298  130480.59587837 128617.41337655 127055.69941256 126121.26682062 130266.41712657\n",
      " 172913.32115171 167000.36165471 158195.09591034 144020.58107469 125801.75705113]\n",
      "Best alpha: 10\n",
      "Best l1 ratio: 1.0\n",
      "Best cross-validated MSE score: 125801.75705113329\n",
      "Cross-validated MSE scores: [131167.69449883 131333.69197421 131533.68879692 131780.42267733 132092.43131067 129038.09674714 129427.71253889 129900.37651437 130520.02194203 132053.81808984\n",
      " 126336.39170288 126508.47682515 126839.16352286 127607.82441985 131692.0730298  130480.59587837 128617.41337655 127055.69941256 126121.26682062 130266.41712657\n",
      " 172913.32115171 167000.36165471 158195.09591034 144020.58107469 125801.75705113]\n",
      "Best alpha: 10\n",
      "Best l1 ratio: 1.0\n",
      "Best cross-validated MSE score: 125801.75705113329\n"
     ]
    },
    {
     "data": {
      "text/html": [
       "<div>\n",
       "<style scoped>\n",
       "    .dataframe tbody tr th:only-of-type {\n",
       "        vertical-align: middle;\n",
       "    }\n",
       "\n",
       "    .dataframe tbody tr th {\n",
       "        vertical-align: top;\n",
       "    }\n",
       "\n",
       "    .dataframe thead th {\n",
       "        text-align: right;\n",
       "    }\n",
       "</style>\n",
       "<table border=\"1\" class=\"dataframe\">\n",
       "  <thead>\n",
       "    <tr style=\"text-align: right;\">\n",
       "      <th></th>\n",
       "      <th>Feature Name</th>\n",
       "      <th>Coefficients</th>\n",
       "    </tr>\n",
       "  </thead>\n",
       "  <tbody>\n",
       "    <tr>\n",
       "      <th>0</th>\n",
       "      <td>standardize__CRuns</td>\n",
       "      <td>246.924957</td>\n",
       "    </tr>\n",
       "    <tr>\n",
       "      <th>1</th>\n",
       "      <td>standardize__Hits</td>\n",
       "      <td>133.933901</td>\n",
       "    </tr>\n",
       "    <tr>\n",
       "      <th>9</th>\n",
       "      <td>standardize__CWalks_x_Division_W</td>\n",
       "      <td>-53.996084</td>\n",
       "    </tr>\n",
       "    <tr>\n",
       "      <th>6</th>\n",
       "      <td>standardize__Hits_x_Division_W</td>\n",
       "      <td>-25.845140</td>\n",
       "    </tr>\n",
       "    <tr>\n",
       "      <th>5</th>\n",
       "      <td>standardize__CRuns_x_Division_W</td>\n",
       "      <td>-7.955686</td>\n",
       "    </tr>\n",
       "    <tr>\n",
       "      <th>2</th>\n",
       "      <td>standardize__AtBat</td>\n",
       "      <td>-0.000000</td>\n",
       "    </tr>\n",
       "    <tr>\n",
       "      <th>3</th>\n",
       "      <td>standardize__CAtBat</td>\n",
       "      <td>0.000000</td>\n",
       "    </tr>\n",
       "    <tr>\n",
       "      <th>4</th>\n",
       "      <td>standardize__CWalks</td>\n",
       "      <td>0.000000</td>\n",
       "    </tr>\n",
       "    <tr>\n",
       "      <th>7</th>\n",
       "      <td>standardize__AtBat_x_Division_W</td>\n",
       "      <td>-0.000000</td>\n",
       "    </tr>\n",
       "    <tr>\n",
       "      <th>8</th>\n",
       "      <td>standardize__CAtBat_x_Division_W</td>\n",
       "      <td>-0.000000</td>\n",
       "    </tr>\n",
       "    <tr>\n",
       "      <th>10</th>\n",
       "      <td>remainder__Division_W</td>\n",
       "      <td>-0.000000</td>\n",
       "    </tr>\n",
       "  </tbody>\n",
       "</table>\n",
       "</div>"
      ],
      "text/plain": [
       "                        Feature Name  Coefficients\n",
       "0                 standardize__CRuns    246.924957\n",
       "1                  standardize__Hits    133.933901\n",
       "9   standardize__CWalks_x_Division_W    -53.996084\n",
       "6     standardize__Hits_x_Division_W    -25.845140\n",
       "5    standardize__CRuns_x_Division_W     -7.955686\n",
       "2                 standardize__AtBat     -0.000000\n",
       "3                standardize__CAtBat      0.000000\n",
       "4                standardize__CWalks      0.000000\n",
       "7    standardize__AtBat_x_Division_W     -0.000000\n",
       "8   standardize__CAtBat_x_Division_W     -0.000000\n",
       "10             remainder__Division_W     -0.000000"
      ]
     },
     "execution_count": null,
     "metadata": {},
     "output_type": "execute_result"
    }
   ],
   "source": [
    "X = inter_df[num_vars + cat_dummy_vars.tolist() + [f\"{num}_x_{dummy}\" for num in num_vars for dummy in cat_dummy_vars]]\n",
    "y = inter_df[\"Salary\"]\n",
    "\n",
    "# print results\n",
    "tune_regression(X, y, model_type=\"elasticnet\")"
   ]
  },
  {
   "cell_type": "markdown",
   "metadata": {},
   "source": [
    "Looking at the MSE Values using only the one best numeric variable (CRuns), the MSE's are as follows:\n",
    "* Linear Model: 143812.94\n",
    "* Ridge Regression: 143658.52\n",
    "* Lasso Regression: 143793.45\n",
    "* Elastic Net Regression: 143655.08\n",
    "\n",
    "Looking at the MSE Values using only the five best variables, the MSE's are as follows:\n",
    "* Linear Model: 127649.37\n",
    "* Ridge Regression: 126800.37\n",
    "* Lasso Regression: 127187.74\n",
    "* Elastic Net Regression: 126648.17\n",
    "\n",
    "Looking at the MSE Values Using the five best numeric variables and their interactions with the one best categorical variable, the MSE's are as follows:\n",
    "* Linear Model: 132104.09\n",
    "* Ridge Regression: 126904.66\n",
    "* Lasso Regression: 125801.76\n",
    "* Elastic Net Regression: 125801.76\n",
    "\n",
    "Based on the MSE values for the models specified above, it appears that the best-performing model is the five best numeric variables and their interactions with the one best categorical variable. The Lasso and Elastic Net Regression for this model produced the lowest overall MSE, indicating that the inclusion of these interaction variables improves the model's performance."
   ]
  },
  {
   "cell_type": "markdown",
   "metadata": {},
   "source": [
    "##  Part Three: Discussion\n",
    "\n",
    "### Part A: Ridge\n",
    "Compare your Ridge models with your ordinary regression models. How did your coefficients compare? Why does this make sense?\n",
    "\n",
    "When looking at the ridge models in comparison to the ordinary regression models, we see that the absolute value of the coefficient estimates tends to decrease with the ridge models. This makes sense because the ridge regression adds a penalty to account for overfitting, so we would expect to see a decrease in the coefficient value because of this penalty.\n",
    "\n",
    "### Part B: LASSO\n",
    "Compare your LASSO model in I with your three LASSO models in II. Did you get the same lambda results? Why does this make sense? Did you get the same MSEs? Why does this make sense?\n",
    "\n",
    "The LASSO model in I produced a lambda value of 1, while the three LASSO models in II produced lambda values of 10, 1, and 10. The variation in lambda values makes sense because the optimal lambda depends on the complexity of the model. Adding more variables typically requires a higher lambda value to prevent overfitting by imposing stronger regularization, thus controlling the model's complexity. The lambda value of 1 in Model I represents a moderate level of regularization that seeks to balance model complexity with the need to prevent overfitting. A larger lambda, as seen in the models in part II, applies stronger regularization, shrinking more coefficients to zero and leading to a sparser model. This is often necessary when the model becomes more complex or when a larger number of features is involved.\n",
    "\n",
    "The LASSO model in I produced an MSE value of 119,761.58, while the three LASSO models in II produced MSE values of 143,793.45, 127,187.74, and 125,801.76. We would expect to see a decrease in MSE with the addition of more variables, as more features allow the model to capture more variability in the data. Since Model 2 with an MSE of 143,793.45 includes only one variable, it may not be capturing the complexitiy of the data, leading to a higher MSE value and less accurate fit. As more variables are added, we see a lower MSE value, explaining more of the variability. \n",
    "\n",
    "### Part C: Elastic Net\n",
    "Compare your MSEs for the Elastic Net models with those for the Ridge and LASSO models. Why does it make sense that Elastic Net always “wins”?\n",
    "\n",
    "The MSEs for the Elastic Net models always outperform across all different scenarios. This is because Elastic Net combines the penalties from both Ridge and Lasso regressions, making it more robust. It is particularly effective in handling correlated features, which Lasso may struggle with, while still benefiting from the feature selection properties of Lasso and the regularization strength of Ridge. The consistent lower MSEs across scenarios show that Elastic Net is better equipped to manage overfitting while still capturing the underlying patterns in the data."
   ]
  },
  {
   "cell_type": "markdown",
   "metadata": {},
   "source": [
    "# Part Four: Final Model\n",
    "Fit your final best pipeline on the full dataset, and summarize your results in a few short sentences and a plot"
   ]
  },
  {
   "cell_type": "code",
   "execution_count": 332,
   "metadata": {
    "vscode": {
     "languageId": "python"
    }
   },
   "outputs": [
    {
     "name": "stdout",
     "output_type": "stream",
     "text": [
      "Mean Squared Error: 111626.48289803522\n",
      "Mean Squared Error: 111626.48289803522\n"
     ]
    },
    {
     "data": {
      "text/html": [
       "<div>\n",
       "<style scoped>\n",
       "    .dataframe tbody tr th:only-of-type {\n",
       "        vertical-align: middle;\n",
       "    }\n",
       "\n",
       "    .dataframe tbody tr th {\n",
       "        vertical-align: top;\n",
       "    }\n",
       "\n",
       "    .dataframe thead th {\n",
       "        text-align: right;\n",
       "    }\n",
       "</style>\n",
       "<table border=\"1\" class=\"dataframe\">\n",
       "  <thead>\n",
       "    <tr style=\"text-align: right;\">\n",
       "      <th></th>\n",
       "      <th>Feature Names</th>\n",
       "      <th>Coefficients</th>\n",
       "    </tr>\n",
       "  </thead>\n",
       "  <tbody>\n",
       "    <tr>\n",
       "      <th>0</th>\n",
       "      <td>standardize__CRuns</td>\n",
       "      <td>246.924957</td>\n",
       "    </tr>\n",
       "    <tr>\n",
       "      <th>1</th>\n",
       "      <td>standardize__Hits</td>\n",
       "      <td>133.933901</td>\n",
       "    </tr>\n",
       "    <tr>\n",
       "      <th>9</th>\n",
       "      <td>standardize__CWalks_x_Division_W</td>\n",
       "      <td>-53.996084</td>\n",
       "    </tr>\n",
       "    <tr>\n",
       "      <th>6</th>\n",
       "      <td>standardize__Hits_x_Division_W</td>\n",
       "      <td>-25.845140</td>\n",
       "    </tr>\n",
       "    <tr>\n",
       "      <th>5</th>\n",
       "      <td>standardize__CRuns_x_Division_W</td>\n",
       "      <td>-7.955686</td>\n",
       "    </tr>\n",
       "    <tr>\n",
       "      <th>2</th>\n",
       "      <td>standardize__AtBat</td>\n",
       "      <td>-0.000000</td>\n",
       "    </tr>\n",
       "    <tr>\n",
       "      <th>3</th>\n",
       "      <td>standardize__CAtBat</td>\n",
       "      <td>0.000000</td>\n",
       "    </tr>\n",
       "    <tr>\n",
       "      <th>4</th>\n",
       "      <td>standardize__CWalks</td>\n",
       "      <td>0.000000</td>\n",
       "    </tr>\n",
       "    <tr>\n",
       "      <th>7</th>\n",
       "      <td>standardize__AtBat_x_Division_W</td>\n",
       "      <td>-0.000000</td>\n",
       "    </tr>\n",
       "    <tr>\n",
       "      <th>8</th>\n",
       "      <td>standardize__CAtBat_x_Division_W</td>\n",
       "      <td>-0.000000</td>\n",
       "    </tr>\n",
       "    <tr>\n",
       "      <th>10</th>\n",
       "      <td>remainder__Division_W</td>\n",
       "      <td>-0.000000</td>\n",
       "    </tr>\n",
       "  </tbody>\n",
       "</table>\n",
       "</div>"
      ],
      "text/plain": [
       "                       Feature Names  Coefficients\n",
       "0                 standardize__CRuns    246.924957\n",
       "1                  standardize__Hits    133.933901\n",
       "9   standardize__CWalks_x_Division_W    -53.996084\n",
       "6     standardize__Hits_x_Division_W    -25.845140\n",
       "5    standardize__CRuns_x_Division_W     -7.955686\n",
       "2                 standardize__AtBat     -0.000000\n",
       "3                standardize__CAtBat      0.000000\n",
       "4                standardize__CWalks      0.000000\n",
       "7    standardize__AtBat_x_Division_W     -0.000000\n",
       "8   standardize__CAtBat_x_Division_W     -0.000000\n",
       "10             remainder__Division_W     -0.000000"
      ]
     },
     "execution_count": null,
     "metadata": {},
     "output_type": "execute_result"
    }
   ],
   "source": [
    "# fit the best model\n",
    "\n",
    "X_test, X_train, y_test, y_train = train_test_split(X, y, train_size=0.2, random_state=1)\n",
    "\n",
    "\n",
    "\n",
    "\n",
    "\n",
    "ct = ColumnTransformer([(\"dummify\", OneHotEncoder(sparse_output = False, handle_unknown='ignore'),\n",
    "                                        make_column_selector(dtype_include=object)),\n",
    "                            (\"standardize\", StandardScaler(), \n",
    "                                        make_column_selector(dtype_include=np.number))],\n",
    "                                        remainder = \"passthrough\")\n",
    "\n",
    "en_pipeline = Pipeline([\n",
    "        (\"preprocessing\", ct), \n",
    "        (\"regression\", ElasticNet(alpha = 10, l1_ratio = 1))])\n",
    "\n",
    "en_fitted = en_pipeline.fit(X, y)\n",
    "y_pred = en_fitted.predict(X)\n",
    "mse = mean_squared_error(y, y_pred)\n",
    "print(f'Mean Squared Error: {mse}')\n",
    "\n",
    "en_coefs = en_fitted.named_steps['regression'].coef_\n",
    "\n",
    "feature_names = en_pipeline.named_steps['preprocessing'].get_feature_names_out()\n",
    "\n",
    "en_df = pd.DataFrame({\n",
    "    \"Feature Names\": feature_names,\n",
    "    \"Coefficients\": en_coefs\n",
    "})\n",
    "\n",
    "sorted_en_df = en_df.sort_values(by='Coefficients', key = abs, ascending=False)\n",
    "sorted_en_df\n"
   ]
  },
  {
   "cell_type": "code",
   "execution_count": 333,
   "metadata": {
    "vscode": {
     "languageId": "python"
    }
   },
   "outputs": [
    {
     "data": {
      "image/png": "[encoded data removed]"
     },
     "metadata": {},
     "output_type": "display_data"
    }
   ],
   "source": [
    "# create plot\n",
    "\n",
    "plot_df = hitters[[\"Salary\"]]\n",
    "plot_df[\"y_pred\"] = y_pred\n",
    "\n",
    "(ggplot(plot_df, aes(x = \"Salary\", y = \"y_pred\")) \n",
    " + geom_point(color = \"darkslategray\")\n",
    " + geom_smooth(method = \"lm\")\n",
    " + labs(x = \"Actual Salary\", y = \"Predicted Salary\", title = \"Actual vs Predicted Salary\"))\n"
   ]
  },
  {
   "cell_type": "markdown",
   "metadata": {},
   "source": [
    "The final and best model is the elastic net model with an lambda value of 10 and an l1_ratio value of 1. The calculated MSE for the best model is 100729.64. Out of all MSE values calulated with different models, this produces the lowest MSE, indicating that this model is performing better when predicting the salary.\n",
    "\n",
    "The scatterplot above shows that the values tend to follow the trend of the line of best fit, however they do not perfectly follow the line of best fit. Although not perfect, it still captures the overall postive correlation of the actual versus predicted values. \n",
    "\n"
   ]
  }
 ],
 "metadata": {
  "language_info": {
   "name": "raw"
  }
 },
 "nbformat": 4,
 "nbformat_minor": 2
}
