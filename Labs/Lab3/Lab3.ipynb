{
 "cells": [
  {
   "cell_type": "raw",
   "metadata": {},
   "source": [
    "---\n",
    "title: \"Lab 3\"\n",
    "author: \"Chloe Feehan\"\n",
    "format: \n",
    "  html:\n",
    "    code-fold: true\n",
    "    embed-resources: true\n",
    "    toc: true\n",
    "theme: flatly\n",
    "---"
   ]
  },
  {
   "cell_type": "markdown",
   "metadata": {},
   "source": [
    "# Lab 3: Singing a song\n",
    "## Introduction\n",
    "The song “12 Days of Christmas”, written around 1780, tells the tale of many gifts a person receives in the days leading up to Christmas (link to lyrics.\n",
    "\n",
    "Note\n",
    "You can watch a video of the 12 Days of Christmas at the Cambria Christmas Market.\n",
    "\n",
    "These gifts repeat and compound; on the first day, the narrator receives\n",
    "\n",
    "A partridge in a pear tree.\n",
    "On the twelfth day, they receive\n",
    "\n",
    "Twelve Drummers Drumming\n",
    "Eleven Pipers Piping\n",
    "Ten Lords a Leaping\n",
    "Nine Ladies Waiting\n",
    "Eight Maids a Milking\n",
    "Seven Swans a Swimming\n",
    "Six Geese a Laying\n",
    "Five Golden Rings\n",
    "Four Calling Birds\n",
    "Three French Hens\n",
    "Two Turtle Doves\n",
    "And a Partridge in a Pear Tree\n",
    "This week, your task will be to write functions that automatically sing this very repetitive song.\n",
    "\n",
    "### Data set\n",
    "\n",
    "Run the code provided to load in a data set called xmas that contains the crucial information about the gifts in the song. We will use this data set to test out our functions as we work on them."
   ]
  },
  {
   "cell_type": "code",
   "execution_count": 1,
   "metadata": {
    "vscode": {
     "languageId": "python"
    }
   },
   "outputs": [],
   "source": [
    "import pandas as pd\n",
    "xmas = pd.read_csv(\"https://www.dropbox.com/scl/fi/qxaslqqp5p08i1650rpc4/xmas.csv?rlkey=erdxi7jbh7pqf9fh4lv4cayp5&dl=1\")"
   ]
  }
 ],
 "metadata": {
  "language_info": {
   "name": "raw"
  }
 },
 "nbformat": 4,
 "nbformat_minor": 2
}
