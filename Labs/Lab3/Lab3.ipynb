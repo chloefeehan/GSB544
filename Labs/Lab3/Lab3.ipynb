{
 "cells": [
  {
   "cell_type": "raw",
   "metadata": {},
   "source": [
    "---\n",
    "title: \"Lab 3\"\n",
    "author: \"Chloe Feehan\"\n",
    "format: \n",
    "  html:\n",
    "    code-fold: true\n",
    "    embed-resources: true\n",
    "    toc: true\n",
    "theme: flatly\n",
    "---"
   ]
  },
  {
   "cell_type": "markdown",
   "metadata": {},
   "source": [
    "# Lab 3: Singing a song\n",
    "## Introduction\n",
    "The song “12 Days of Christmas”, written around 1780, tells the tale of many gifts a person receives in the days leading up to Christmas (link to lyrics.\n",
    "\n",
    "Note\n",
    "You can watch a video of the 12 Days of Christmas at the Cambria Christmas Market.\n",
    "\n",
    "These gifts repeat and compound; on the first day, the narrator receives\n",
    "\n",
    "A partridge in a pear tree.\n",
    "On the twelfth day, they receive\n",
    "\n",
    "Twelve Drummers Drumming\n",
    "Eleven Pipers Piping\n",
    "Ten Lords a Leaping\n",
    "Nine Ladies Waiting\n",
    "Eight Maids a Milking\n",
    "Seven Swans a Swimming\n",
    "Six Geese a Laying\n",
    "Five Golden Rings\n",
    "Four Calling Birds\n",
    "Three French Hens\n",
    "Two Turtle Doves\n",
    "And a Partridge in a Pear Tree\n",
    "This week, your task will be to write functions that automatically sing this very repetitive song.\n",
    "\n",
    "### Data set\n",
    "\n",
    "Run the code provided to load in a data set called xmas that contains the crucial information about the gifts in the song. We will use this data set to test out our functions as we work on them."
   ]
  },
  {
   "cell_type": "code",
   "execution_count": 207,
   "metadata": {
    "vscode": {
     "languageId": "python"
    }
   },
   "outputs": [],
   "source": [
    "import pandas as pd\n",
    "import numpy as np\n",
    "from num2words import num2words\n",
    "xmas = pd.read_csv(\"https://www.dropbox.com/scl/fi/qxaslqqp5p08i1650rpc4/xmas.csv?rlkey=erdxi7jbh7pqf9fh4lv4cayp5&dl=1\")"
   ]
  },
  {
   "cell_type": "markdown",
   "metadata": {},
   "source": [
    "# Function 1: pluralize_gift()\n",
    "\n",
    "The gifts are listed in singular: for example, on day five the narrator receives “five golden rings”, but the entry in the data set for the gift on day five simply says “ring”.\n",
    "\n",
    "Hint 1: The gifts on days six and nine have unusual pluralization. You may assume that in other data sets, there will be no additional special cases besides these types.\n",
    "\n",
    "Hint 2: The following small code snippets may be useful to you"
   ]
  },
  {
   "cell_type": "code",
   "execution_count": 208,
   "metadata": {
    "vscode": {
     "languageId": "python"
    }
   },
   "outputs": [],
   "source": [
    "def pluralize_gift(gift):\n",
    "  \"\"\"\n",
    "  Returns plural of a noun\n",
    "  \n",
    "  Parameters\n",
    "  ----------\n",
    "  gift: str\n",
    "    A noun\n",
    "    \n",
    "  Return\n",
    "  ------\n",
    "  str\n",
    "    Plural version\n",
    "  \"\"\"\n",
    "\n",
    "\n",
    "  if gift.find(\"oo\") != -1:\n",
    "    gift = gift.replace(\"oo\", \"ee\")\n",
    "  elif gift[-1] == \"y\":\n",
    "    gift = gift.replace(\"y\", \"ies\")\n",
    "  else:\n",
    "    gift = gift + \"s\"\n",
    "\n",
    "  return gift\n",
    "\n",
    "\n"
   ]
  },
  {
   "cell_type": "markdown",
   "metadata": {},
   "source": [
    "# Test your Function"
   ]
  },
  {
   "cell_type": "code",
   "execution_count": 209,
   "metadata": {
    "vscode": {
     "languageId": "python"
    }
   },
   "outputs": [
    {
     "data": {
      "text/plain": [
       "'geese'"
      ]
     },
     "execution_count": null,
     "metadata": {},
     "output_type": "execute_result"
    }
   ],
   "source": [
    "# Should work\n",
    "pluralize_gift(\"goose\")"
   ]
  },
  {
   "cell_type": "code",
   "execution_count": 197,
   "metadata": {
    "vscode": {
     "languageId": "python"
    }
   },
   "outputs": [
    {
     "ename": "AttributeError",
     "evalue": "'Series' object has no attribute 'find'",
     "output_type": "error",
     "traceback": [
      "\u001b[0;31m---------------------------------------------------------------------------\u001b[0m\n",
      "\u001b[0;31mAttributeError\u001b[0m                            Traceback (most recent call last)\n",
      "\u001b[0;32m/var/folders/bk/5n0nbc2d3fg4l28n09kr6hyh0000gn/T/ipykernel_16757/2253435460.py\u001b[0m in \u001b[0;36m?\u001b[0;34m()\u001b[0m\n",
      "\u001b[1;32m      1\u001b[0m \u001b[0;31m# Will work if your function is vectorized!\u001b[0m\u001b[0;34m\u001b[0m\u001b[0;34m\u001b[0m\u001b[0m\n",
      "\u001b[1;32m      2\u001b[0m \u001b[0;31m#pluralize_gift = np.vectorize(pluralize_gift)\u001b[0m\u001b[0;34m\u001b[0m\u001b[0;34m\u001b[0m\u001b[0m\n",
      "\u001b[0;32m----> 3\u001b[0;31m \u001b[0mpluralize_gift\u001b[0m\u001b[0;34m(\u001b[0m\u001b[0mxmas\u001b[0m\u001b[0;34m[\u001b[0m\u001b[0;34m'Gift.Item'\u001b[0m\u001b[0;34m]\u001b[0m\u001b[0;34m)\u001b[0m\u001b[0;34m\u001b[0m\u001b[0;34m\u001b[0m\u001b[0m\n",
      "\u001b[0m\n",
      "\u001b[0;32m/var/folders/bk/5n0nbc2d3fg4l28n09kr6hyh0000gn/T/ipykernel_16757/3250208451.py\u001b[0m in \u001b[0;36m?\u001b[0;34m(gift)\u001b[0m\n",
      "\u001b[1;32m     13\u001b[0m     \u001b[0mPlural\u001b[0m \u001b[0mversion\u001b[0m\u001b[0;34m\u001b[0m\u001b[0;34m\u001b[0m\u001b[0m\n",
      "\u001b[1;32m     14\u001b[0m   \"\"\"\n",
      "\u001b[1;32m     15\u001b[0m \u001b[0;34m\u001b[0m\u001b[0m\n",
      "\u001b[1;32m     16\u001b[0m \u001b[0;34m\u001b[0m\u001b[0m\n",
      "\u001b[0;32m---> 17\u001b[0;31m   \u001b[0;32mif\u001b[0m \u001b[0mgift\u001b[0m\u001b[0;34m.\u001b[0m\u001b[0mfind\u001b[0m\u001b[0;34m(\u001b[0m\u001b[0;34m\"oo\"\u001b[0m\u001b[0;34m)\u001b[0m \u001b[0;34m!=\u001b[0m \u001b[0;34m-\u001b[0m\u001b[0;36m1\u001b[0m\u001b[0;34m:\u001b[0m\u001b[0;34m\u001b[0m\u001b[0;34m\u001b[0m\u001b[0m\n",
      "\u001b[0m\u001b[1;32m     18\u001b[0m     \u001b[0mgift\u001b[0m \u001b[0;34m=\u001b[0m \u001b[0mgift\u001b[0m\u001b[0;34m.\u001b[0m\u001b[0mreplace\u001b[0m\u001b[0;34m(\u001b[0m\u001b[0;34m\"oo\"\u001b[0m\u001b[0;34m,\u001b[0m \u001b[0;34m\"ee\"\u001b[0m\u001b[0;34m)\u001b[0m\u001b[0;34m\u001b[0m\u001b[0;34m\u001b[0m\u001b[0m\n",
      "\u001b[1;32m     19\u001b[0m   \u001b[0;32melif\u001b[0m \u001b[0mgift\u001b[0m\u001b[0;34m[\u001b[0m\u001b[0;34m-\u001b[0m\u001b[0;36m1\u001b[0m\u001b[0;34m]\u001b[0m \u001b[0;34m==\u001b[0m \u001b[0;34m\"y\"\u001b[0m\u001b[0;34m:\u001b[0m\u001b[0;34m\u001b[0m\u001b[0;34m\u001b[0m\u001b[0m\n",
      "\u001b[1;32m     20\u001b[0m     \u001b[0mgift\u001b[0m \u001b[0;34m=\u001b[0m \u001b[0mgift\u001b[0m\u001b[0;34m.\u001b[0m\u001b[0mreplace\u001b[0m\u001b[0;34m(\u001b[0m\u001b[0;34m\"y\"\u001b[0m\u001b[0;34m,\u001b[0m \u001b[0;34m\"ies\"\u001b[0m\u001b[0;34m)\u001b[0m\u001b[0;34m\u001b[0m\u001b[0;34m\u001b[0m\u001b[0m\n",
      "\n",
      "\u001b[0;32m~/.conda/envs/pythonProject/lib/python3.10/site-packages/pandas/core/generic.py\u001b[0m in \u001b[0;36m?\u001b[0;34m(self, name)\u001b[0m\n",
      "\u001b[1;32m   6295\u001b[0m             \u001b[0;32mand\u001b[0m \u001b[0mname\u001b[0m \u001b[0;32mnot\u001b[0m \u001b[0;32min\u001b[0m \u001b[0mself\u001b[0m\u001b[0;34m.\u001b[0m\u001b[0m_accessors\u001b[0m\u001b[0;34m\u001b[0m\u001b[0;34m\u001b[0m\u001b[0m\n",
      "\u001b[1;32m   6296\u001b[0m             \u001b[0;32mand\u001b[0m \u001b[0mself\u001b[0m\u001b[0;34m.\u001b[0m\u001b[0m_info_axis\u001b[0m\u001b[0;34m.\u001b[0m\u001b[0m_can_hold_identifiers_and_holds_name\u001b[0m\u001b[0;34m(\u001b[0m\u001b[0mname\u001b[0m\u001b[0;34m)\u001b[0m\u001b[0;34m\u001b[0m\u001b[0;34m\u001b[0m\u001b[0m\n",
      "\u001b[1;32m   6297\u001b[0m         ):\n",
      "\u001b[1;32m   6298\u001b[0m             \u001b[0;32mreturn\u001b[0m \u001b[0mself\u001b[0m\u001b[0;34m[\u001b[0m\u001b[0mname\u001b[0m\u001b[0;34m]\u001b[0m\u001b[0;34m\u001b[0m\u001b[0;34m\u001b[0m\u001b[0m\n",
      "\u001b[0;32m-> 6299\u001b[0;31m         \u001b[0;32mreturn\u001b[0m \u001b[0mobject\u001b[0m\u001b[0;34m.\u001b[0m\u001b[0m__getattribute__\u001b[0m\u001b[0;34m(\u001b[0m\u001b[0mself\u001b[0m\u001b[0;34m,\u001b[0m \u001b[0mname\u001b[0m\u001b[0;34m)\u001b[0m\u001b[0;34m\u001b[0m\u001b[0;34m\u001b[0m\u001b[0m\n",
      "\u001b[0m\n",
      "\u001b[0;31mAttributeError\u001b[0m: 'Series' object has no attribute 'find'"
     ]
    }
   ],
   "source": [
    "# Will work if your function is vectorized! \n",
    "#pluralize_gift = np.vectorize(pluralize_gift)\n",
    "pluralize_gift(xmas['Gift.Item'])"
   ]
  },
  {
   "cell_type": "markdown",
   "metadata": {},
   "source": [
    "# Function 2: make_phrase()\n",
    "Write a function called make_phrase() that takes as input the necessary information, and returns a phrase. For example,\n",
    "\n",
    "make_phrase(num_word = \"ten\", \n",
    "            item = \"lords\", \n",
    "            verb = \"a-leaping\", \n",
    "            adjective = \"\", \n",
    "            location = \"\")\n",
    "should return\n",
    "\n",
    "\"ten lords a-leaping\""
   ]
  },
  {
   "cell_type": "code",
   "execution_count": 248,
   "metadata": {
    "vscode": {
     "languageId": "python"
    }
   },
   "outputs": [],
   "source": [
    "def make_phrase(num, num_word, item, verb, adjective, location):\n",
    "  \"\"\"\n",
    "  Returns full phrase\n",
    "  \n",
    "  Parameters\n",
    "  ----------\n",
    "  num: int\n",
    "    A number\n",
    "  num_word: str\n",
    "    a number in words\n",
    "  item: str\n",
    "    a noun\n",
    "  verb: str\n",
    "    a verb\n",
    "  adjective: str\n",
    "    an adjective\n",
    "  location: str\n",
    "    a location\n",
    "    \n",
    "  Return\n",
    "  ------\n",
    "  str\n",
    "    Combined phrase\n",
    "  \"\"\"\n",
    "  num_dict = {\n",
    "        1: \"One\",\n",
    "        2: \"Two\",\n",
    "        3: \"Three\",\n",
    "        4: \"Four\",\n",
    "        5: \"Five\",\n",
    "        6: \"Six\",\n",
    "        7: \"Seven\",\n",
    "        8: \"Eight\",\n",
    "        9: \"Nine\",\n",
    "        10: \"Ten\",\n",
    "        11: \"Eleven\",\n",
    "        12: \"Twelve\"\n",
    "    }\n",
    "\n",
    "  ## Step 1: Replace NAs with blank strings\n",
    "  verb = pd.Series([verb]).fillna(\"\").iloc[0]\n",
    "  adjective = pd.Series([adjective]).fillna(\"\").iloc[0]\n",
    "  location = pd.Series([location]).fillna(\"\").iloc[0]\n",
    "  \n",
    "  ## Step 2: If the day number is larger than 1, the gift items need pluralized!\n",
    "  if num > 1:\n",
    "    item = pluralize_gift(item)\n",
    "    #num = num2words(num)\n",
    "  else:\n",
    "    item\n",
    "  \n",
    "  ## Step 3: Figure out if a gift item starts with a vowel\n",
    "  ## Step 4: For the first day, if the gift item starts with a vowel, \n",
    "  # replace the day with \"an\" and if the gift item does not start with a vowel, \n",
    "  # replace the day with \"a\" (e.g. a partridge in a pear tree). \n",
    "  # If it is not the first day, use just the number word (e.g. ten lords a leap)\n",
    "  \n",
    "  vowel = [\"a\", \"e\", \"i\", \"o\", \"u\"]\n",
    "  if (num == 1) & (item[0].lower() in vowel):\n",
    "    num = \"an\"\n",
    "  elif (num == 1):\n",
    "    num = \"a\"\n",
    "  else:\n",
    "    num = num2words(num)\n",
    "\n",
    "\n",
    "  ## Step 5: Put all of the pieces together into one string and return!\n",
    "\n",
    "  #words = [article, str(num), adjective, item, verb, location]\n",
    "  #phrase = \" \".join(filter(None, words)).strip()\n",
    "\n",
    "  phrase = f\"{str(num)} {adjective} {item} {verb} {location}\".strip()\n",
    "  phrase = \" \".join(phrase.split())\n",
    "\n",
    "  return phrase\n",
    "\n",
    "\n"
   ]
  },
  {
   "cell_type": "markdown",
   "metadata": {},
   "source": [
    "# Test Your Function\n",
    "Make sure to try your function out on small examples and on the xmas data.\n",
    "\n",
    "Then, use the function to make a new column of the xmas column called Full.Phrase containing the sentences for the new gift on that day."
   ]
  },
  {
   "cell_type": "code",
   "execution_count": 251,
   "metadata": {
    "vscode": {
     "languageId": "python"
    }
   },
   "outputs": [
    {
     "data": {
      "text/plain": [
       "'two turtle doves'"
      ]
     },
     "execution_count": null,
     "metadata": {},
     "output_type": "execute_result"
    }
   ],
   "source": [
    "# test function\n",
    "\n",
    "make_phrase(num = 2, num_word = \"second\", item = \"dove\", verb = \"\", adjective = \"turtle\", location = \"\")"
   ]
  },
  {
   "cell_type": "code",
   "execution_count": 249,
   "metadata": {
    "vscode": {
     "languageId": "python"
    }
   },
   "outputs": [],
   "source": [
    "xmas[\"Full.Phrase\"] = xmas.apply(lambda row: make_phrase(num = row[\"Day\"], \n",
    "                                                         num_word = row[\"Day.in.Words\"],\n",
    "                                                         item = row[\"Gift.Item\"],\n",
    "                                                         verb = row[\"Verb\"],\n",
    "                                                         adjective = row[\"Adjective\"],\n",
    "                                                         location = row[\"Location\"]), axis = 1)\n",
    "\n"
   ]
  },
  {
   "cell_type": "markdown",
   "metadata": {},
   "source": [
    "# Function 3: sing_day()\n",
    "Write a function called sing_day() that takes as input:\n",
    "\n",
    "A dataset (input as a dataframe)\n",
    "\n",
    "A number indicating which day to sing about (input as an integer)\n",
    "\n",
    "The name of a column in the dataset that contains the phrases for each day (input as an tidy name)\n",
    "\n",
    "For example,\n",
    "\n",
    "sing_day(xmas, 2, Full.Phrase)\n",
    "should return\n",
    "\n",
    "On the second day of Christmas, my true love sent to me:\n",
    "two turtle doves and\n",
    "a partridge in a pear tree.\n"
   ]
  },
  {
   "cell_type": "code",
   "execution_count": 336,
   "metadata": {
    "vscode": {
     "languageId": "python"
    }
   },
   "outputs": [],
   "source": [
    "def sing_day(dataset, num, phrase_col):\n",
    "  \"\"\"\n",
    "  Returns song until specified day\n",
    "  \n",
    "  Parameters\n",
    "  ----------\n",
    "  dataset: \n",
    "    \n",
    "  num: int\n",
    "    \n",
    "  phrase_col: \n",
    "\n",
    "  Return\n",
    "  ------\n",
    "  str\n",
    "    Combined phrase\n",
    "  \"\"\"\n",
    "  \n",
    "  # Step 1: Setup the intro line\n",
    "  num_word = num2words(num, to = \"ordinal\")  # convert \"1\" to \"first\" etc.\n",
    "  intro = \"On the \" + num_word + \" day of Christmas, my true love sent to me:\\n\"\n",
    "  \n",
    "  # Step 2: Sing the gift phrases\n",
    "  # Hint: What order are they gifts sung in each day?\n",
    "  gifts = \"\"\n",
    "  for i in range(num - 1, -1, -1):\n",
    "    gifts += dataset.iloc[i][phrase_col] + \"\\n\"\n",
    "    if i == 1:\n",
    "      gifts += \"and \"\n",
    "  \n",
    "  # Step 3: Put it all together and return\n",
    "  return print(intro + gifts)"
   ]
  },
  {
   "cell_type": "code",
   "execution_count": 337,
   "metadata": {
    "vscode": {
     "languageId": "python"
    }
   },
   "outputs": [
    {
     "name": "stdout",
     "output_type": "stream",
     "text": [
      "On the sixth day of Christmas, my true love sent to me:\n",
      "six geese a-laying\n",
      "five golden rings\n",
      "four calling birds\n",
      "three french hens\n",
      "two turtle doves\n",
      "and a partridge in a pear tree\n",
      "\n",
      "On the sixth day of Christmas, my true love sent to me:\n",
      "six geese a-laying\n",
      "five golden rings\n",
      "four calling birds\n",
      "three french hens\n",
      "two turtle doves\n",
      "and a partridge in a pear tree\n",
      "\n"
     ]
    }
   ],
   "source": [
    "sing_day(xmas, 6, \"Full.Phrase\")"
   ]
  },
  {
   "cell_type": "markdown",
   "metadata": {},
   "source": [
    "# Appendix\n",
    "\n",
    "num2words function: https://pypi.org/project/num2words/ \n",
    "The num2words function was used to convert the Day integers into written words\n",
    "\n",
    "for a decreasing for loop:\n",
    "https://stackoverflow.com/questions/4294082/decreasing-for-loops-in-python-impossible "
   ]
  },
  {
   "cell_type": "code",
   "execution_count": 293,
   "metadata": {
    "vscode": {
     "languageId": "python"
    }
   },
   "outputs": [
    {
     "name": "stdout",
     "output_type": "stream",
     "text": [
      "4\n",
      "3\n",
      "2\n",
      "1\n",
      "0\n",
      "4\n",
      "3\n",
      "2\n",
      "1\n",
      "0\n"
     ]
    }
   ],
   "source": [
    "n = 5\n",
    "for i in range(n - 1, -1, -1):\n",
    "    print(i)\n"
   ]
  }
 ],
 "metadata": {
  "language_info": {
   "name": "raw"
  }
 },
 "nbformat": 4,
 "nbformat_minor": 2
}
