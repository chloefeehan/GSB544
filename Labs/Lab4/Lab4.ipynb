{
 "cells": [
  {
   "cell_type": "raw",
   "metadata": {},
   "source": [
    "---\n",
    "title: \"Lab 4\"\n",
    "author: \"Chloe Feehan\"\n",
    "format: \n",
    "  html:\n",
    "    code-fold: true\n",
    "    embed-resources: true\n",
    "    toc: true\n",
    "theme: flatly\n",
    "---"
   ]
  },
  {
   "cell_type": "markdown",
   "metadata": {},
   "source": [
    "# Coffee Lovers Unite!\n",
    "If caffeine is one of the most popular drugs, then coffee is likely one of the most popular delivery systems for it. Aside from caffeine, people enjoy the wonderful variety of coffee-related drinks. Let’s do a rough investigation of the “market share” by two of the top coffee chains in the United States!\n",
    "\n",
    "World Population Review provides some great data on store locations and chain prevalence. Check out this page for the Starbucks Coffee locations in the United States. Notice that this page only really gives the name of the state and the number of locations in that state.\n",
    "\n",
    "# Scrape the Location Counts\n",
    "1. Use the beautifulsoup library to scrape the data (from the link above) on state names and corresponding number of store locations, for the following chains:\n",
    "\n",
    "Starbucks\n",
    "\n",
    "Dunkin’ Donuts\n",
    "\n",
    "2. Parse, merge and tidy your data. Think carefully about what the tidy version of this dataset is with multiple years represented on the website."
   ]
  },
  {
   "cell_type": "code",
   "execution_count": 178,
   "metadata": {
    "vscode": {
     "languageId": "python"
    }
   },
   "outputs": [],
   "source": [
    "# import libraries\n",
    "import pandas as pd\n",
    "import requests\n",
    "from bs4 import BeautifulSoup"
   ]
  },
  {
   "cell_type": "code",
   "execution_count": 3,
   "metadata": {
    "vscode": {
     "languageId": "python"
    }
   },
   "outputs": [
    {
     "name": "stdout",
     "output_type": "stream",
     "text": [
      "California\n",
      "Texas\n",
      "Florida\n",
      "Washington\n",
      "New York\n",
      "Illinois\n",
      "Arizona\n",
      "Colorado\n",
      "Ohio\n",
      "Virginia\n",
      "Oregon\n",
      "Pennsylvania\n",
      "North Carolina\n",
      "Georgia\n",
      "Michigan\n",
      "Massachusetts\n",
      "New Jersey\n",
      "Maryland\n",
      "Nevada\n",
      "Indiana\n",
      "Missouri\n",
      "Minnesota\n",
      "Tennessee\n",
      "Kentucky\n",
      "Wisconsin\n",
      "South Carolina\n",
      "Connecticut\n",
      "Utah\n",
      "Hawaii\n",
      "Kansas\n",
      "District of Columbia\n",
      "Iowa\n",
      "Alabama\n",
      "Louisiana\n",
      "Oklahoma\n",
      "New Mexico\n",
      "Idaho\n",
      "Nebraska\n",
      "Arkansas\n",
      "Alaska\n",
      "Mississippi\n",
      "Montana\n",
      "Maine\n",
      "New Hampshire\n",
      "Rhode Island\n",
      "Delaware\n",
      "South Dakota\n",
      "West Virginia\n",
      "Wyoming\n",
      "North Dakota\n",
      "Vermont\n",
      "California\n",
      "Texas\n",
      "Florida\n",
      "Washington\n",
      "New York\n",
      "Illinois\n",
      "Arizona\n",
      "Colorado\n",
      "Ohio\n",
      "Virginia\n",
      "Oregon\n",
      "Pennsylvania\n",
      "North Carolina\n",
      "Georgia\n",
      "Michigan\n",
      "Massachusetts\n",
      "New Jersey\n",
      "Maryland\n",
      "Nevada\n",
      "Indiana\n",
      "Missouri\n",
      "Minnesota\n",
      "Tennessee\n",
      "Kentucky\n",
      "Wisconsin\n",
      "South Carolina\n",
      "Connecticut\n",
      "Utah\n",
      "Hawaii\n",
      "Kansas\n",
      "District of Columbia\n",
      "Iowa\n",
      "Alabama\n",
      "Louisiana\n",
      "Oklahoma\n",
      "New Mexico\n",
      "Idaho\n",
      "Nebraska\n",
      "Arkansas\n",
      "Alaska\n",
      "Mississippi\n",
      "Montana\n",
      "Maine\n",
      "New Hampshire\n",
      "Rhode Island\n",
      "Delaware\n",
      "South Dakota\n",
      "West Virginia\n",
      "Wyoming\n",
      "North Dakota\n",
      "Vermont\n"
     ]
    }
   ],
   "source": [
    "response = requests.get(\"https://worldpopulationreview.com/state-rankings/starbucks-stores-by-state\")\n",
    "soup = BeautifulSoup(response.content, \"html.parser\")\n",
    "\n",
    "table = soup.find(\"table\", class_ = \"wpr-table\")\n",
    "\n",
    "# scrape starbucks data\n",
    "\n",
    "rows = []\n",
    "states_list = []\n",
    "\n",
    "# get state names and add to states list\n",
    "for th in table.find_all(\"th\")[4:]:\n",
    "     states = th.get_text(strip = True)\n",
    "     states_list.append(states)\n",
    "\n",
    "for i, tr in enumerate(table.find_all(\"tr\")[1:]):\n",
    "    # iterate across states list to get corresponding state for each row\n",
    "    state = states_list[i]\n",
    "\n",
    "    # get all the rows in the dataset\n",
    "    cells = tr.find_all(\"td\")\n",
    "\n",
    "    # get all 2023 stores\n",
    "    stores2023_tag = cells[0].find(\"a\") or cells[0]\n",
    "    stores2023 = stores2023_tag.get_text(strip = True)\n",
    "    \n",
    "    #get all 2021 stores\n",
    "    stores2021_tag = cells[1].find(\"a\") or cells[1]\n",
    "    stores2021 = stores2021_tag.get_text(strip = True)\n",
    "\n",
    "    # get all 2024 stores\n",
    "    stores2024_tag = cells[2].find(\"a\") or cells[2]\n",
    "    stores2024 = stores2024_tag.get_text(strip = True)\n",
    "\n",
    "    # add columns to a list\n",
    "    rows.append({\n",
    "        \"state\" : state,\n",
    "        \"2023\" : stores2023,\n",
    "        \"2021\" : stores2021,\n",
    "        \"2024\" : stores2024\n",
    "\n",
    "    })\n",
    "\n",
    "# convert to a dataframe\n",
    "starbucks = pd.DataFrame(rows)\n",
    "\n",
    "# clean and tidy data\n",
    "starbucks_clean = starbucks.melt(id_vars = [\"state\"], var_name = \"year\", value_name = \"store_count\" )\n",
    "starbucks_clean[\"location\"] = \"Starbucks\"\n"
   ]
  },
  {
   "cell_type": "code",
   "execution_count": 8,
   "metadata": {
    "vscode": {
     "languageId": "python"
    }
   },
   "outputs": [
    {
     "name": "stdout",
     "output_type": "stream",
     "text": [
      "<table class=\"wpr-table\"><thead class=\"table-head bg-wpr-table_header_bg relative z-40 px-0 py-0 text-xs uppercase tracking-wider\"><tr><th class=\"datatable-th bg-wpr-table_header_bg text-wpr-table_header border-wpr-table_border sticky top-0 border-b bg-clip-padding px-3 py-2 text-left align-bottom leading-4 md:px-4 pin left-0 z-50 border-l-0\"><div class=\"flex flex-col items-stretch justify-start\"><div class=\"flex flex-row items-center cursor-pointer select-none\">State</div></div></th><th class=\"datatable-th bg-wpr-table_header_bg text-wpr-table_header border-wpr-table_border sticky top-0 border-b bg-clip-padding px-3 py-2 text-left align-bottom leading-4 md:px-4 z-40\"><div class=\"flex flex-col items-stretch justify-start\"><div class=\"flex flex-row items-center cursor-pointer select-none\">Dunkin Locations 2024<svg class=\"icon icon-tabler icon-tabler-chevron-down\" fill=\"none\" height=\"14\" stroke=\"currentColor\" stroke-linecap=\"round\" stroke-linejoin=\"round\" stroke-width=\"2\" viewbox=\"0 0 24 24\" width=\"14\" xmlns=\"http://www.w3.org/2000/svg\"><path d=\"M0 0h24v24H0z\" fill=\"none\" stroke=\"none\"></path><polyline points=\"6 9 12 15 18 9\"></polyline></svg></div></div></th><th class=\"datatable-th bg-wpr-table_header_bg text-wpr-table_header border-wpr-table_border sticky top-0 border-b bg-clip-padding px-3 py-2 text-left align-bottom leading-4 md:px-4 z-40\"><div class=\"flex flex-col items-stretch justify-start\"><div class=\"flex flex-row items-center cursor-pointer select-none\">Dunkin Locations 2023</div></div></th></tr></thead><tbody class=\"relative z-10 text-sm\"><tr class=\"table-row\" data-state=\"false\"><th class=\"text-wpr-table_header sticky left-0 z-50 bg-clip-padding py-1.5 pl-3 text-left align-middle text-sm md:px-4\"><a class=\"text-wpr-link\" href=\"/states/new-york\" to=\"/states/new-york\">New York</a></th><td class=\"text-wpr-table_text z-40 px-3 py-1.5 text-sm md:px-4\">1,431</td><td class=\"text-wpr-table_text z-40 px-3 py-1.5 text-sm md:px-4\">1,414</td></tr><tr class=\"table-row\" data-state=\"false\"><th class=\"text-wpr-table_header sticky left-0 z-50 bg-clip-padding py-1.5 pl-3 text-left align-middle text-sm md:px-4\"><a class=\"text-wpr-link\" href=\"/states/massachusetts\" to=\"/states/massachusetts\">Massachusetts</a></th><td class=\"text-wpr-table_text z-40 px-3 py-1.5 text-sm md:px-4\">1,042</td><td class=\"text-wpr-table_text z-40 px-3 py-1.5 text-sm md:px-4\">1,068</td></tr><tr class=\"table-row\" data-state=\"false\"><th class=\"text-wpr-table_header sticky left-0 z-50 bg-clip-padding py-1.5 pl-3 text-left align-middle text-sm md:px-4\"><a class=\"text-wpr-link\" href=\"/states/florida\" to=\"/states/florida\">Florida</a></th><td class=\"text-wpr-table_text z-40 px-3 py-1.5 text-sm md:px-4\">909</td><td class=\"text-wpr-table_text z-40 px-3 py-1.5 text-sm md:px-4\">883</td></tr><tr class=\"table-row\" data-state=\"false\"><th class=\"text-wpr-table_header sticky left-0 z-50 bg-clip-padding py-1.5 pl-3 text-left align-middle text-sm md:px-4\"><a class=\"text-wpr-link\" href=\"/states/new-jersey\" to=\"/states/new-jersey\">New Jersey</a></th><td class=\"text-wpr-table_text z-40 px-3 py-1.5 text-sm md:px-4\">872</td><td class=\"text-wpr-table_text z-40 px-3 py-1.5 text-sm md:px-4\">866</td></tr><tr class=\"table-row\" data-state=\"false\"><th class=\"text-wpr-table_header sticky left-0 z-50 bg-clip-padding py-1.5 pl-3 text-left align-middle text-sm md:px-4\"><a class=\"text-wpr-link\" href=\"/states/illinois\" to=\"/states/illinois\">Illinois</a></th><td class=\"text-wpr-table_text z-40 px-3 py-1.5 text-sm md:px-4\">711</td><td class=\"text-wpr-table_text z-40 px-3 py-1.5 text-sm md:px-4\">692</td></tr><tr class=\"table-row\" data-state=\"false\"><th class=\"text-wpr-table_header sticky left-0 z-50 bg-clip-padding py-1.5 pl-3 text-left align-middle text-sm md:px-4\"><a class=\"text-wpr-link\" href=\"/states/pennsylvania\" to=\"/states/pennsylvania\">Pennsylvania</a></th><td class=\"text-wpr-table_text z-40 px-3 py-1.5 text-sm md:px-4\">650</td><td class=\"text-wpr-table_text z-40 px-3 py-1.5 text-sm md:px-4\">629</td></tr><tr class=\"table-row\" data-state=\"false\"><th class=\"text-wpr-table_header sticky left-0 z-50 bg-clip-padding py-1.5 pl-3 text-left align-middle text-sm md:px-4\"><a class=\"text-wpr-link\" href=\"/states/connecticut\" to=\"/states/connecticut\">Connecticut</a></th><td class=\"text-wpr-table_text z-40 px-3 py-1.5 text-sm md:px-4\">476</td><td class=\"text-wpr-table_text z-40 px-3 py-1.5 text-sm md:px-4\">480</td></tr><tr class=\"table-row\" data-state=\"false\"><th class=\"text-wpr-table_header sticky left-0 z-50 bg-clip-padding py-1.5 pl-3 text-left align-middle text-sm md:px-4\"><a class=\"text-wpr-link\" href=\"/states/maryland\" to=\"/states/maryland\">Maryland</a></th><td class=\"text-wpr-table_text z-40 px-3 py-1.5 text-sm md:px-4\">311</td><td class=\"text-wpr-table_text z-40 px-3 py-1.5 text-sm md:px-4\">303</td></tr><tr class=\"table-row\" data-state=\"false\"><th class=\"text-wpr-table_header sticky left-0 z-50 bg-clip-padding py-1.5 pl-3 text-left align-middle text-sm md:px-4\"><a class=\"text-wpr-link\" href=\"/states/georgia\" to=\"/states/georgia\">Georgia</a></th><td class=\"text-wpr-table_text z-40 px-3 py-1.5 text-sm md:px-4\">287</td><td class=\"text-wpr-table_text z-40 px-3 py-1.5 text-sm md:px-4\">265</td></tr><tr class=\"table-row\" data-state=\"false\"><th class=\"text-wpr-table_header sticky left-0 z-50 bg-clip-padding py-1.5 pl-3 text-left align-middle text-sm md:px-4\"><a class=\"text-wpr-link\" href=\"/states/ohio\" to=\"/states/ohio\">Ohio</a></th><td class=\"text-wpr-table_text z-40 px-3 py-1.5 text-sm md:px-4\">261</td><td class=\"text-wpr-table_text z-40 px-3 py-1.5 text-sm md:px-4\">245</td></tr><tr class=\"table-row\" data-state=\"false\"><th class=\"text-wpr-table_header sticky left-0 z-50 bg-clip-padding py-1.5 pl-3 text-left align-middle text-sm md:px-4\"><a class=\"text-wpr-link\" href=\"/states/virginia\" to=\"/states/virginia\">Virginia</a></th><td class=\"text-wpr-table_text z-40 px-3 py-1.5 text-sm md:px-4\">244</td><td class=\"text-wpr-table_text z-40 px-3 py-1.5 text-sm md:px-4\">230</td></tr><tr class=\"table-row\" data-state=\"false\"><th class=\"text-wpr-table_header sticky left-0 z-50 bg-clip-padding py-1.5 pl-3 text-left align-middle text-sm md:px-4\"><a class=\"text-wpr-link\" href=\"/states/texas\" to=\"/states/texas\">Texas</a></th><td class=\"text-wpr-table_text z-40 px-3 py-1.5 text-sm md:px-4\">226</td><td class=\"text-wpr-table_text z-40 px-3 py-1.5 text-sm md:px-4\">196</td></tr><tr class=\"table-row\" data-state=\"false\"><th class=\"text-wpr-table_header sticky left-0 z-50 bg-clip-padding py-1.5 pl-3 text-left align-middle text-sm md:px-4\"><a class=\"text-wpr-link\" href=\"/states/north-carolina\" to=\"/states/north-carolina\">North Carolina</a></th><td class=\"text-wpr-table_text z-40 px-3 py-1.5 text-sm md:px-4\">224</td><td class=\"text-wpr-table_text z-40 px-3 py-1.5 text-sm md:px-4\">206</td></tr><tr class=\"table-row\" data-state=\"false\"><th class=\"text-wpr-table_header sticky left-0 z-50 bg-clip-padding py-1.5 pl-3 text-left align-middle text-sm md:px-4\"><a class=\"text-wpr-link\" href=\"/states/new-hampshire\" to=\"/states/new-hampshire\">New Hampshire</a></th><td class=\"text-wpr-table_text z-40 px-3 py-1.5 text-sm md:px-4\">216</td><td class=\"text-wpr-table_text z-40 px-3 py-1.5 text-sm md:px-4\">218</td></tr><tr class=\"table-row\" data-state=\"false\"><th class=\"text-wpr-table_header sticky left-0 z-50 bg-clip-padding py-1.5 pl-3 text-left align-middle text-sm md:px-4\"><a class=\"text-wpr-link\" href=\"/states/maine\" to=\"/states/maine\">Maine</a></th><td class=\"text-wpr-table_text z-40 px-3 py-1.5 text-sm md:px-4\">164</td><td class=\"text-wpr-table_text z-40 px-3 py-1.5 text-sm md:px-4\">159</td></tr><tr class=\"table-row\" data-state=\"false\"><th class=\"text-wpr-table_header sticky left-0 z-50 bg-clip-padding py-1.5 pl-3 text-left align-middle text-sm md:px-4\"><a class=\"text-wpr-link\" href=\"/states/rhode-island\" to=\"/states/rhode-island\">Rhode Island</a></th><td class=\"text-wpr-table_text z-40 px-3 py-1.5 text-sm md:px-4\">159</td><td class=\"text-wpr-table_text z-40 px-3 py-1.5 text-sm md:px-4\">160</td></tr><tr class=\"table-row\" data-state=\"false\"><th class=\"text-wpr-table_header sticky left-0 z-50 bg-clip-padding py-1.5 pl-3 text-left align-middle text-sm md:px-4\"><a class=\"text-wpr-link\" href=\"/states/california\" to=\"/states/california\">California</a></th><td class=\"text-wpr-table_text z-40 px-3 py-1.5 text-sm md:px-4\">143</td><td class=\"text-wpr-table_text z-40 px-3 py-1.5 text-sm md:px-4\">134</td></tr><tr class=\"table-row\" data-state=\"false\"><th class=\"text-wpr-table_header sticky left-0 z-50 bg-clip-padding py-1.5 pl-3 text-left align-middle text-sm md:px-4\"><a class=\"text-wpr-link\" href=\"/states/tennessee\" to=\"/states/tennessee\">Tennessee</a></th><td class=\"text-wpr-table_text z-40 px-3 py-1.5 text-sm md:px-4\">137</td><td class=\"text-wpr-table_text z-40 px-3 py-1.5 text-sm md:px-4\">123</td></tr><tr class=\"table-row\" data-state=\"false\"><th class=\"text-wpr-table_header sticky left-0 z-50 bg-clip-padding py-1.5 pl-3 text-left align-middle text-sm md:px-4\"><a class=\"text-wpr-link\" href=\"/states/indiana\" to=\"/states/indiana\">Indiana</a></th><td class=\"text-wpr-table_text z-40 px-3 py-1.5 text-sm md:px-4\">117</td><td class=\"text-wpr-table_text z-40 px-3 py-1.5 text-sm md:px-4\">104</td></tr><tr class=\"table-row\" data-state=\"false\"><th class=\"text-wpr-table_header sticky left-0 z-50 bg-clip-padding py-1.5 pl-3 text-left align-middle text-sm md:px-4\"><a class=\"text-wpr-link\" href=\"/states/south-carolina\" to=\"/states/south-carolina\">South Carolina</a></th><td class=\"text-wpr-table_text z-40 px-3 py-1.5 text-sm md:px-4\">116</td><td class=\"text-wpr-table_text z-40 px-3 py-1.5 text-sm md:px-4\">103</td></tr><tr class=\"table-row\" data-state=\"false\"><th class=\"text-wpr-table_header sticky left-0 z-50 bg-clip-padding py-1.5 pl-3 text-left align-middle text-sm md:px-4\"><a class=\"text-wpr-link\" href=\"/states/michigan\" to=\"/states/michigan\">Michigan</a></th><td class=\"text-wpr-table_text z-40 px-3 py-1.5 text-sm md:px-4\">112</td><td class=\"text-wpr-table_text z-40 px-3 py-1.5 text-sm md:px-4\">105</td></tr><tr class=\"table-row\" data-state=\"false\"><th class=\"text-wpr-table_header sticky left-0 z-50 bg-clip-padding py-1.5 pl-3 text-left align-middle text-sm md:px-4\"><a class=\"text-wpr-link\" href=\"/states/arizona\" to=\"/states/arizona\">Arizona</a></th><td class=\"text-wpr-table_text z-40 px-3 py-1.5 text-sm md:px-4\">110</td><td class=\"text-wpr-table_text z-40 px-3 py-1.5 text-sm md:px-4\">102</td></tr><tr class=\"table-row\" data-state=\"false\"><th class=\"text-wpr-table_header sticky left-0 z-50 bg-clip-padding py-1.5 pl-3 text-left align-middle text-sm md:px-4\"><a class=\"text-wpr-link\" href=\"/states/wisconsin\" to=\"/states/wisconsin\">Wisconsin</a></th><td class=\"text-wpr-table_text z-40 px-3 py-1.5 text-sm md:px-4\">100</td><td class=\"text-wpr-table_text z-40 px-3 py-1.5 text-sm md:px-4\">83</td></tr><tr class=\"table-row\" data-state=\"false\"><th class=\"text-wpr-table_header sticky left-0 z-50 bg-clip-padding py-1.5 pl-3 text-left align-middle text-sm md:px-4\"><a class=\"text-wpr-link\" href=\"/states/alabama\" to=\"/states/alabama\">Alabama</a></th><td class=\"text-wpr-table_text z-40 px-3 py-1.5 text-sm md:px-4\">69</td><td class=\"text-wpr-table_text z-40 px-3 py-1.5 text-sm md:px-4\">59</td></tr><tr class=\"table-row\" data-state=\"false\"><th class=\"text-wpr-table_header sticky left-0 z-50 bg-clip-padding py-1.5 pl-3 text-left align-middle text-sm md:px-4\"><a class=\"text-wpr-link\" href=\"/states/delaware\" to=\"/states/delaware\">Delaware</a></th><td class=\"text-wpr-table_text z-40 px-3 py-1.5 text-sm md:px-4\">67</td><td class=\"text-wpr-table_text z-40 px-3 py-1.5 text-sm md:px-4\">66</td></tr><tr class=\"table-row\" data-state=\"false\"><th class=\"text-wpr-table_header sticky left-0 z-50 bg-clip-padding py-1.5 pl-3 text-left align-middle text-sm md:px-4\"><a class=\"text-wpr-link\" href=\"/states/missouri\" to=\"/states/missouri\">Missouri</a></th><td class=\"text-wpr-table_text z-40 px-3 py-1.5 text-sm md:px-4\">54</td><td class=\"text-wpr-table_text z-40 px-3 py-1.5 text-sm md:px-4\">50</td></tr><tr class=\"table-row\" data-state=\"false\"><th class=\"text-wpr-table_header sticky left-0 z-50 bg-clip-padding py-1.5 pl-3 text-left align-middle text-sm md:px-4\"><a class=\"text-wpr-link\" href=\"/states/kentucky\" to=\"/states/kentucky\">Kentucky</a></th><td class=\"text-wpr-table_text z-40 px-3 py-1.5 text-sm md:px-4\">50</td><td class=\"text-wpr-table_text z-40 px-3 py-1.5 text-sm md:px-4\">41</td></tr><tr class=\"table-row\" data-state=\"false\"><th class=\"text-wpr-table_header sticky left-0 z-50 bg-clip-padding py-1.5 pl-3 text-left align-middle text-sm md:px-4\"><a class=\"text-wpr-link\" href=\"/states/vermont\" to=\"/states/vermont\">Vermont</a></th><td class=\"text-wpr-table_text z-40 px-3 py-1.5 text-sm md:px-4\">50</td><td class=\"text-wpr-table_text z-40 px-3 py-1.5 text-sm md:px-4\">49</td></tr><tr class=\"table-row\" data-state=\"false\"><th class=\"text-wpr-table_header sticky left-0 z-50 bg-clip-padding py-1.5 pl-3 text-left align-middle text-sm md:px-4\"><a class=\"text-wpr-link\" href=\"/states/colorado\" to=\"/states/colorado\">Colorado</a></th><td class=\"text-wpr-table_text z-40 px-3 py-1.5 text-sm md:px-4\">48</td><td class=\"text-wpr-table_text z-40 px-3 py-1.5 text-sm md:px-4\">43</td></tr><tr class=\"table-row\" data-state=\"false\"><th class=\"text-wpr-table_header sticky left-0 z-50 bg-clip-padding py-1.5 pl-3 text-left align-middle text-sm md:px-4\"><a class=\"text-wpr-link\" href=\"/states/nevada\" to=\"/states/nevada\">Nevada</a></th><td class=\"text-wpr-table_text z-40 px-3 py-1.5 text-sm md:px-4\">42</td><td class=\"text-wpr-table_text z-40 px-3 py-1.5 text-sm md:px-4\">38</td></tr><tr class=\"table-row\" data-state=\"false\"><th class=\"text-wpr-table_header sticky left-0 z-50 bg-clip-padding py-1.5 pl-3 text-left align-middle text-sm md:px-4\"><a class=\"text-wpr-link\" href=\"/states/minnesota\" to=\"/states/minnesota\">Minnesota</a></th><td class=\"text-wpr-table_text z-40 px-3 py-1.5 text-sm md:px-4\">38</td><td class=\"text-wpr-table_text z-40 px-3 py-1.5 text-sm md:px-4\">34</td></tr><tr class=\"table-row\" data-state=\"false\"><th class=\"text-wpr-table_header sticky left-0 z-50 bg-clip-padding py-1.5 pl-3 text-left align-middle text-sm md:px-4\"><a class=\"text-wpr-link\" href=\"/states/iowa\" to=\"/states/iowa\">Iowa</a></th><td class=\"text-wpr-table_text z-40 px-3 py-1.5 text-sm md:px-4\">36</td><td class=\"text-wpr-table_text z-40 px-3 py-1.5 text-sm md:px-4\">34</td></tr><tr class=\"table-row\" data-state=\"false\"><th class=\"text-wpr-table_header sticky left-0 z-50 bg-clip-padding py-1.5 pl-3 text-left align-middle text-sm md:px-4\"><a class=\"text-wpr-link\" href=\"/states/west-virginia\" to=\"/states/west-virginia\">West Virginia</a></th><td class=\"text-wpr-table_text z-40 px-3 py-1.5 text-sm md:px-4\">31</td><td class=\"text-wpr-table_text z-40 px-3 py-1.5 text-sm md:px-4\">27</td></tr><tr class=\"table-row\" data-state=\"false\"><th class=\"text-wpr-table_header sticky left-0 z-50 bg-clip-padding py-1.5 pl-3 text-left align-middle text-sm md:px-4\"><a class=\"text-wpr-link\" href=\"/states/kansas\" to=\"/states/kansas\">Kansas</a></th><td class=\"text-wpr-table_text z-40 px-3 py-1.5 text-sm md:px-4\">26</td><td class=\"text-wpr-table_text z-40 px-3 py-1.5 text-sm md:px-4\">28</td></tr><tr class=\"table-row\" data-state=\"false\"><th class=\"text-wpr-table_header sticky left-0 z-50 bg-clip-padding py-1.5 pl-3 text-left align-middle text-sm md:px-4\"><a class=\"text-wpr-link\" href=\"/states/nebraska\" to=\"/states/nebraska\">Nebraska</a></th><td class=\"text-wpr-table_text z-40 px-3 py-1.5 text-sm md:px-4\">24</td><td class=\"text-wpr-table_text z-40 px-3 py-1.5 text-sm md:px-4\">23</td></tr><tr class=\"table-row\" data-state=\"false\"><th class=\"text-wpr-table_header sticky left-0 z-50 bg-clip-padding py-1.5 pl-3 text-left align-middle text-sm md:px-4\"><a class=\"text-wpr-link\" href=\"/states/oklahoma\" to=\"/states/oklahoma\">Oklahoma</a></th><td class=\"text-wpr-table_text z-40 px-3 py-1.5 text-sm md:px-4\">23</td><td class=\"text-wpr-table_text z-40 px-3 py-1.5 text-sm md:px-4\">18</td></tr><tr class=\"table-row\" data-state=\"false\"><th class=\"text-wpr-table_header sticky left-0 z-50 bg-clip-padding py-1.5 pl-3 text-left align-middle text-sm md:px-4\"><a class=\"text-wpr-link\" href=\"/states/district-of-columbia\" to=\"/states/district-of-columbia\">District of Columbia</a></th><td class=\"text-wpr-table_text z-40 px-3 py-1.5 text-sm md:px-4\">19</td><td class=\"text-wpr-table_text z-40 px-3 py-1.5 text-sm md:px-4\"></td></tr><tr class=\"table-row\" data-state=\"false\"><th class=\"text-wpr-table_header sticky left-0 z-50 bg-clip-padding py-1.5 pl-3 text-left align-middle text-sm md:px-4\"><a class=\"text-wpr-link\" href=\"/states/new-mexico\" to=\"/states/new-mexico\">New Mexico</a></th><td class=\"text-wpr-table_text z-40 px-3 py-1.5 text-sm md:px-4\">19</td><td class=\"text-wpr-table_text z-40 px-3 py-1.5 text-sm md:px-4\">19</td></tr><tr class=\"table-row\" data-state=\"false\"><th class=\"text-wpr-table_header sticky left-0 z-50 bg-clip-padding py-1.5 pl-3 text-left align-middle text-sm md:px-4\"><a class=\"text-wpr-link\" href=\"/states/louisiana\" to=\"/states/louisiana\">Louisiana</a></th><td class=\"text-wpr-table_text z-40 px-3 py-1.5 text-sm md:px-4\">15</td><td class=\"text-wpr-table_text z-40 px-3 py-1.5 text-sm md:px-4\">16</td></tr><tr class=\"table-row\" data-state=\"false\"><th class=\"text-wpr-table_header sticky left-0 z-50 bg-clip-padding py-1.5 pl-3 text-left align-middle text-sm md:px-4\"><a class=\"text-wpr-link\" href=\"/states/arkansas\" to=\"/states/arkansas\">Arkansas</a></th><td class=\"text-wpr-table_text z-40 px-3 py-1.5 text-sm md:px-4\">14</td><td class=\"text-wpr-table_text z-40 px-3 py-1.5 text-sm md:px-4\">9</td></tr><tr class=\"table-row\" data-state=\"false\"><th class=\"text-wpr-table_header sticky left-0 z-50 bg-clip-padding py-1.5 pl-3 text-left align-middle text-sm md:px-4\"><a class=\"text-wpr-link\" href=\"/states/mississippi\" to=\"/states/mississippi\">Mississippi</a></th><td class=\"text-wpr-table_text z-40 px-3 py-1.5 text-sm md:px-4\">14</td><td class=\"text-wpr-table_text z-40 px-3 py-1.5 text-sm md:px-4\">12</td></tr><tr class=\"table-row\" data-state=\"false\"><th class=\"text-wpr-table_header sticky left-0 z-50 bg-clip-padding py-1.5 pl-3 text-left align-middle text-sm md:px-4\"><a class=\"text-wpr-link\" href=\"/states/hawaii\" to=\"/states/hawaii\">Hawaii</a></th><td class=\"text-wpr-table_text z-40 px-3 py-1.5 text-sm md:px-4\">6</td><td class=\"text-wpr-table_text z-40 px-3 py-1.5 text-sm md:px-4\">6</td></tr><tr class=\"table-row\" data-state=\"false\"><th class=\"text-wpr-table_header sticky left-0 z-50 bg-clip-padding py-1.5 pl-3 text-left align-middle text-sm md:px-4\"><a class=\"text-wpr-link\" href=\"/states/utah\" to=\"/states/utah\">Utah</a></th><td class=\"text-wpr-table_text z-40 px-3 py-1.5 text-sm md:px-4\">2</td><td class=\"text-wpr-table_text z-40 px-3 py-1.5 text-sm md:px-4\">1</td></tr><tr class=\"table-row\" data-state=\"false\"><th class=\"text-wpr-table_header sticky left-0 z-50 bg-clip-padding py-1.5 pl-3 text-left align-middle text-sm md:px-4\"><a class=\"text-wpr-link\" href=\"/states/wyoming\" to=\"/states/wyoming\">Wyoming</a></th><td class=\"text-wpr-table_text z-40 px-3 py-1.5 text-sm md:px-4\">1</td><td class=\"text-wpr-table_text z-40 px-3 py-1.5 text-sm md:px-4\">1</td></tr><tr class=\"table-row\" data-state=\"false\"><th class=\"text-wpr-table_header sticky left-0 z-50 bg-clip-padding py-1.5 pl-3 text-left align-middle text-sm md:px-4\"><a class=\"text-wpr-link\" href=\"/states/alaska\" to=\"/states/alaska\">Alaska</a></th><td class=\"text-wpr-table_text z-40 px-3 py-1.5 text-sm md:px-4\">0</td><td class=\"text-wpr-table_text z-40 px-3 py-1.5 text-sm md:px-4\">0</td></tr><tr class=\"table-row\" data-state=\"false\"><th class=\"text-wpr-table_header sticky left-0 z-50 bg-clip-padding py-1.5 pl-3 text-left align-middle text-sm md:px-4\"><a class=\"text-wpr-link\" href=\"/states/idaho\" to=\"/states/idaho\">Idaho</a></th><td class=\"text-wpr-table_text z-40 px-3 py-1.5 text-sm md:px-4\">0</td><td class=\"text-wpr-table_text z-40 px-3 py-1.5 text-sm md:px-4\">0</td></tr><tr class=\"table-row\" data-state=\"false\"><th class=\"text-wpr-table_header sticky left-0 z-50 bg-clip-padding py-1.5 pl-3 text-left align-middle text-sm md:px-4\"><a class=\"text-wpr-link\" href=\"/states/montana\" to=\"/states/montana\">Montana</a></th><td class=\"text-wpr-table_text z-40 px-3 py-1.5 text-sm md:px-4\">0</td><td class=\"text-wpr-table_text z-40 px-3 py-1.5 text-sm md:px-4\">0</td></tr><tr class=\"table-row\" data-state=\"false\"><th class=\"text-wpr-table_header sticky left-0 z-50 bg-clip-padding py-1.5 pl-3 text-left align-middle text-sm md:px-4\"><a class=\"text-wpr-link\" href=\"/states/north-dakota\" to=\"/states/north-dakota\">North Dakota</a></th><td class=\"text-wpr-table_text z-40 px-3 py-1.5 text-sm md:px-4\">0</td><td class=\"text-wpr-table_text z-40 px-3 py-1.5 text-sm md:px-4\">0</td></tr><tr class=\"table-row\" data-state=\"false\"><th class=\"text-wpr-table_header sticky left-0 z-50 bg-clip-padding py-1.5 pl-3 text-left align-middle text-sm md:px-4\"><a class=\"text-wpr-link\" href=\"/states/oregon\" to=\"/states/oregon\">Oregon</a></th><td class=\"text-wpr-table_text z-40 px-3 py-1.5 text-sm md:px-4\">0</td><td class=\"text-wpr-table_text z-40 px-3 py-1.5 text-sm md:px-4\">0</td></tr><tr class=\"table-row\" data-state=\"false\"><th class=\"text-wpr-table_header sticky left-0 z-50 bg-clip-padding py-1.5 pl-3 text-left align-middle text-sm md:px-4\"><a class=\"text-wpr-link\" href=\"/states/south-dakota\" to=\"/states/south-dakota\">South Dakota</a></th><td class=\"text-wpr-table_text z-40 px-3 py-1.5 text-sm md:px-4\">0</td><td class=\"text-wpr-table_text z-40 px-3 py-1.5 text-sm md:px-4\">0</td></tr><tr class=\"table-row\" data-state=\"false\"><th class=\"text-wpr-table_header sticky left-0 z-50 bg-clip-padding py-1.5 pl-3 text-left align-middle text-sm md:px-4\"><a class=\"text-wpr-link\" href=\"/states/washington\" to=\"/states/washington\">Washington</a></th><td class=\"text-wpr-table_text z-40 px-3 py-1.5 text-sm md:px-4\">0</td><td class=\"text-wpr-table_text z-40 px-3 py-1.5 text-sm md:px-4\">19</td></tr></tbody></table>\n",
      "<table class=\"wpr-table\"><thead class=\"table-head bg-wpr-table_header_bg relative z-40 px-0 py-0 text-xs uppercase tracking-wider\"><tr><th class=\"datatable-th bg-wpr-table_header_bg text-wpr-table_header border-wpr-table_border sticky top-0 border-b bg-clip-padding px-3 py-2 text-left align-bottom leading-4 md:px-4 pin left-0 z-50 border-l-0\"><div class=\"flex flex-col items-stretch justify-start\"><div class=\"flex flex-row items-center cursor-pointer select-none\">State</div></div></th><th class=\"datatable-th bg-wpr-table_header_bg text-wpr-table_header border-wpr-table_border sticky top-0 border-b bg-clip-padding px-3 py-2 text-left align-bottom leading-4 md:px-4 z-40\"><div class=\"flex flex-col items-stretch justify-start\"><div class=\"flex flex-row items-center cursor-pointer select-none\">Dunkin Locations 2024<svg class=\"icon icon-tabler icon-tabler-chevron-down\" fill=\"none\" height=\"14\" stroke=\"currentColor\" stroke-linecap=\"round\" stroke-linejoin=\"round\" stroke-width=\"2\" viewbox=\"0 0 24 24\" width=\"14\" xmlns=\"http://www.w3.org/2000/svg\"><path d=\"M0 0h24v24H0z\" fill=\"none\" stroke=\"none\"></path><polyline points=\"6 9 12 15 18 9\"></polyline></svg></div></div></th><th class=\"datatable-th bg-wpr-table_header_bg text-wpr-table_header border-wpr-table_border sticky top-0 border-b bg-clip-padding px-3 py-2 text-left align-bottom leading-4 md:px-4 z-40\"><div class=\"flex flex-col items-stretch justify-start\"><div class=\"flex flex-row items-center cursor-pointer select-none\">Dunkin Locations 2023</div></div></th></tr></thead><tbody class=\"relative z-10 text-sm\"><tr class=\"table-row\" data-state=\"false\"><th class=\"text-wpr-table_header sticky left-0 z-50 bg-clip-padding py-1.5 pl-3 text-left align-middle text-sm md:px-4\"><a class=\"text-wpr-link\" href=\"/states/new-york\" to=\"/states/new-york\">New York</a></th><td class=\"text-wpr-table_text z-40 px-3 py-1.5 text-sm md:px-4\">1,431</td><td class=\"text-wpr-table_text z-40 px-3 py-1.5 text-sm md:px-4\">1,414</td></tr><tr class=\"table-row\" data-state=\"false\"><th class=\"text-wpr-table_header sticky left-0 z-50 bg-clip-padding py-1.5 pl-3 text-left align-middle text-sm md:px-4\"><a class=\"text-wpr-link\" href=\"/states/massachusetts\" to=\"/states/massachusetts\">Massachusetts</a></th><td class=\"text-wpr-table_text z-40 px-3 py-1.5 text-sm md:px-4\">1,042</td><td class=\"text-wpr-table_text z-40 px-3 py-1.5 text-sm md:px-4\">1,068</td></tr><tr class=\"table-row\" data-state=\"false\"><th class=\"text-wpr-table_header sticky left-0 z-50 bg-clip-padding py-1.5 pl-3 text-left align-middle text-sm md:px-4\"><a class=\"text-wpr-link\" href=\"/states/florida\" to=\"/states/florida\">Florida</a></th><td class=\"text-wpr-table_text z-40 px-3 py-1.5 text-sm md:px-4\">909</td><td class=\"text-wpr-table_text z-40 px-3 py-1.5 text-sm md:px-4\">883</td></tr><tr class=\"table-row\" data-state=\"false\"><th class=\"text-wpr-table_header sticky left-0 z-50 bg-clip-padding py-1.5 pl-3 text-left align-middle text-sm md:px-4\"><a class=\"text-wpr-link\" href=\"/states/new-jersey\" to=\"/states/new-jersey\">New Jersey</a></th><td class=\"text-wpr-table_text z-40 px-3 py-1.5 text-sm md:px-4\">872</td><td class=\"text-wpr-table_text z-40 px-3 py-1.5 text-sm md:px-4\">866</td></tr><tr class=\"table-row\" data-state=\"false\"><th class=\"text-wpr-table_header sticky left-0 z-50 bg-clip-padding py-1.5 pl-3 text-left align-middle text-sm md:px-4\"><a class=\"text-wpr-link\" href=\"/states/illinois\" to=\"/states/illinois\">Illinois</a></th><td class=\"text-wpr-table_text z-40 px-3 py-1.5 text-sm md:px-4\">711</td><td class=\"text-wpr-table_text z-40 px-3 py-1.5 text-sm md:px-4\">692</td></tr><tr class=\"table-row\" data-state=\"false\"><th class=\"text-wpr-table_header sticky left-0 z-50 bg-clip-padding py-1.5 pl-3 text-left align-middle text-sm md:px-4\"><a class=\"text-wpr-link\" href=\"/states/pennsylvania\" to=\"/states/pennsylvania\">Pennsylvania</a></th><td class=\"text-wpr-table_text z-40 px-3 py-1.5 text-sm md:px-4\">650</td><td class=\"text-wpr-table_text z-40 px-3 py-1.5 text-sm md:px-4\">629</td></tr><tr class=\"table-row\" data-state=\"false\"><th class=\"text-wpr-table_header sticky left-0 z-50 bg-clip-padding py-1.5 pl-3 text-left align-middle text-sm md:px-4\"><a class=\"text-wpr-link\" href=\"/states/connecticut\" to=\"/states/connecticut\">Connecticut</a></th><td class=\"text-wpr-table_text z-40 px-3 py-1.5 text-sm md:px-4\">476</td><td class=\"text-wpr-table_text z-40 px-3 py-1.5 text-sm md:px-4\">480</td></tr><tr class=\"table-row\" data-state=\"false\"><th class=\"text-wpr-table_header sticky left-0 z-50 bg-clip-padding py-1.5 pl-3 text-left align-middle text-sm md:px-4\"><a class=\"text-wpr-link\" href=\"/states/maryland\" to=\"/states/maryland\">Maryland</a></th><td class=\"text-wpr-table_text z-40 px-3 py-1.5 text-sm md:px-4\">311</td><td class=\"text-wpr-table_text z-40 px-3 py-1.5 text-sm md:px-4\">303</td></tr><tr class=\"table-row\" data-state=\"false\"><th class=\"text-wpr-table_header sticky left-0 z-50 bg-clip-padding py-1.5 pl-3 text-left align-middle text-sm md:px-4\"><a class=\"text-wpr-link\" href=\"/states/georgia\" to=\"/states/georgia\">Georgia</a></th><td class=\"text-wpr-table_text z-40 px-3 py-1.5 text-sm md:px-4\">287</td><td class=\"text-wpr-table_text z-40 px-3 py-1.5 text-sm md:px-4\">265</td></tr><tr class=\"table-row\" data-state=\"false\"><th class=\"text-wpr-table_header sticky left-0 z-50 bg-clip-padding py-1.5 pl-3 text-left align-middle text-sm md:px-4\"><a class=\"text-wpr-link\" href=\"/states/ohio\" to=\"/states/ohio\">Ohio</a></th><td class=\"text-wpr-table_text z-40 px-3 py-1.5 text-sm md:px-4\">261</td><td class=\"text-wpr-table_text z-40 px-3 py-1.5 text-sm md:px-4\">245</td></tr><tr class=\"table-row\" data-state=\"false\"><th class=\"text-wpr-table_header sticky left-0 z-50 bg-clip-padding py-1.5 pl-3 text-left align-middle text-sm md:px-4\"><a class=\"text-wpr-link\" href=\"/states/virginia\" to=\"/states/virginia\">Virginia</a></th><td class=\"text-wpr-table_text z-40 px-3 py-1.5 text-sm md:px-4\">244</td><td class=\"text-wpr-table_text z-40 px-3 py-1.5 text-sm md:px-4\">230</td></tr><tr class=\"table-row\" data-state=\"false\"><th class=\"text-wpr-table_header sticky left-0 z-50 bg-clip-padding py-1.5 pl-3 text-left align-middle text-sm md:px-4\"><a class=\"text-wpr-link\" href=\"/states/texas\" to=\"/states/texas\">Texas</a></th><td class=\"text-wpr-table_text z-40 px-3 py-1.5 text-sm md:px-4\">226</td><td class=\"text-wpr-table_text z-40 px-3 py-1.5 text-sm md:px-4\">196</td></tr><tr class=\"table-row\" data-state=\"false\"><th class=\"text-wpr-table_header sticky left-0 z-50 bg-clip-padding py-1.5 pl-3 text-left align-middle text-sm md:px-4\"><a class=\"text-wpr-link\" href=\"/states/north-carolina\" to=\"/states/north-carolina\">North Carolina</a></th><td class=\"text-wpr-table_text z-40 px-3 py-1.5 text-sm md:px-4\">224</td><td class=\"text-wpr-table_text z-40 px-3 py-1.5 text-sm md:px-4\">206</td></tr><tr class=\"table-row\" data-state=\"false\"><th class=\"text-wpr-table_header sticky left-0 z-50 bg-clip-padding py-1.5 pl-3 text-left align-middle text-sm md:px-4\"><a class=\"text-wpr-link\" href=\"/states/new-hampshire\" to=\"/states/new-hampshire\">New Hampshire</a></th><td class=\"text-wpr-table_text z-40 px-3 py-1.5 text-sm md:px-4\">216</td><td class=\"text-wpr-table_text z-40 px-3 py-1.5 text-sm md:px-4\">218</td></tr><tr class=\"table-row\" data-state=\"false\"><th class=\"text-wpr-table_header sticky left-0 z-50 bg-clip-padding py-1.5 pl-3 text-left align-middle text-sm md:px-4\"><a class=\"text-wpr-link\" href=\"/states/maine\" to=\"/states/maine\">Maine</a></th><td class=\"text-wpr-table_text z-40 px-3 py-1.5 text-sm md:px-4\">164</td><td class=\"text-wpr-table_text z-40 px-3 py-1.5 text-sm md:px-4\">159</td></tr><tr class=\"table-row\" data-state=\"false\"><th class=\"text-wpr-table_header sticky left-0 z-50 bg-clip-padding py-1.5 pl-3 text-left align-middle text-sm md:px-4\"><a class=\"text-wpr-link\" href=\"/states/rhode-island\" to=\"/states/rhode-island\">Rhode Island</a></th><td class=\"text-wpr-table_text z-40 px-3 py-1.5 text-sm md:px-4\">159</td><td class=\"text-wpr-table_text z-40 px-3 py-1.5 text-sm md:px-4\">160</td></tr><tr class=\"table-row\" data-state=\"false\"><th class=\"text-wpr-table_header sticky left-0 z-50 bg-clip-padding py-1.5 pl-3 text-left align-middle text-sm md:px-4\"><a class=\"text-wpr-link\" href=\"/states/california\" to=\"/states/california\">California</a></th><td class=\"text-wpr-table_text z-40 px-3 py-1.5 text-sm md:px-4\">143</td><td class=\"text-wpr-table_text z-40 px-3 py-1.5 text-sm md:px-4\">134</td></tr><tr class=\"table-row\" data-state=\"false\"><th class=\"text-wpr-table_header sticky left-0 z-50 bg-clip-padding py-1.5 pl-3 text-left align-middle text-sm md:px-4\"><a class=\"text-wpr-link\" href=\"/states/tennessee\" to=\"/states/tennessee\">Tennessee</a></th><td class=\"text-wpr-table_text z-40 px-3 py-1.5 text-sm md:px-4\">137</td><td class=\"text-wpr-table_text z-40 px-3 py-1.5 text-sm md:px-4\">123</td></tr><tr class=\"table-row\" data-state=\"false\"><th class=\"text-wpr-table_header sticky left-0 z-50 bg-clip-padding py-1.5 pl-3 text-left align-middle text-sm md:px-4\"><a class=\"text-wpr-link\" href=\"/states/indiana\" to=\"/states/indiana\">Indiana</a></th><td class=\"text-wpr-table_text z-40 px-3 py-1.5 text-sm md:px-4\">117</td><td class=\"text-wpr-table_text z-40 px-3 py-1.5 text-sm md:px-4\">104</td></tr><tr class=\"table-row\" data-state=\"false\"><th class=\"text-wpr-table_header sticky left-0 z-50 bg-clip-padding py-1.5 pl-3 text-left align-middle text-sm md:px-4\"><a class=\"text-wpr-link\" href=\"/states/south-carolina\" to=\"/states/south-carolina\">South Carolina</a></th><td class=\"text-wpr-table_text z-40 px-3 py-1.5 text-sm md:px-4\">116</td><td class=\"text-wpr-table_text z-40 px-3 py-1.5 text-sm md:px-4\">103</td></tr><tr class=\"table-row\" data-state=\"false\"><th class=\"text-wpr-table_header sticky left-0 z-50 bg-clip-padding py-1.5 pl-3 text-left align-middle text-sm md:px-4\"><a class=\"text-wpr-link\" href=\"/states/michigan\" to=\"/states/michigan\">Michigan</a></th><td class=\"text-wpr-table_text z-40 px-3 py-1.5 text-sm md:px-4\">112</td><td class=\"text-wpr-table_text z-40 px-3 py-1.5 text-sm md:px-4\">105</td></tr><tr class=\"table-row\" data-state=\"false\"><th class=\"text-wpr-table_header sticky left-0 z-50 bg-clip-padding py-1.5 pl-3 text-left align-middle text-sm md:px-4\"><a class=\"text-wpr-link\" href=\"/states/arizona\" to=\"/states/arizona\">Arizona</a></th><td class=\"text-wpr-table_text z-40 px-3 py-1.5 text-sm md:px-4\">110</td><td class=\"text-wpr-table_text z-40 px-3 py-1.5 text-sm md:px-4\">102</td></tr><tr class=\"table-row\" data-state=\"false\"><th class=\"text-wpr-table_header sticky left-0 z-50 bg-clip-padding py-1.5 pl-3 text-left align-middle text-sm md:px-4\"><a class=\"text-wpr-link\" href=\"/states/wisconsin\" to=\"/states/wisconsin\">Wisconsin</a></th><td class=\"text-wpr-table_text z-40 px-3 py-1.5 text-sm md:px-4\">100</td><td class=\"text-wpr-table_text z-40 px-3 py-1.5 text-sm md:px-4\">83</td></tr><tr class=\"table-row\" data-state=\"false\"><th class=\"text-wpr-table_header sticky left-0 z-50 bg-clip-padding py-1.5 pl-3 text-left align-middle text-sm md:px-4\"><a class=\"text-wpr-link\" href=\"/states/alabama\" to=\"/states/alabama\">Alabama</a></th><td class=\"text-wpr-table_text z-40 px-3 py-1.5 text-sm md:px-4\">69</td><td class=\"text-wpr-table_text z-40 px-3 py-1.5 text-sm md:px-4\">59</td></tr><tr class=\"table-row\" data-state=\"false\"><th class=\"text-wpr-table_header sticky left-0 z-50 bg-clip-padding py-1.5 pl-3 text-left align-middle text-sm md:px-4\"><a class=\"text-wpr-link\" href=\"/states/delaware\" to=\"/states/delaware\">Delaware</a></th><td class=\"text-wpr-table_text z-40 px-3 py-1.5 text-sm md:px-4\">67</td><td class=\"text-wpr-table_text z-40 px-3 py-1.5 text-sm md:px-4\">66</td></tr><tr class=\"table-row\" data-state=\"false\"><th class=\"text-wpr-table_header sticky left-0 z-50 bg-clip-padding py-1.5 pl-3 text-left align-middle text-sm md:px-4\"><a class=\"text-wpr-link\" href=\"/states/missouri\" to=\"/states/missouri\">Missouri</a></th><td class=\"text-wpr-table_text z-40 px-3 py-1.5 text-sm md:px-4\">54</td><td class=\"text-wpr-table_text z-40 px-3 py-1.5 text-sm md:px-4\">50</td></tr><tr class=\"table-row\" data-state=\"false\"><th class=\"text-wpr-table_header sticky left-0 z-50 bg-clip-padding py-1.5 pl-3 text-left align-middle text-sm md:px-4\"><a class=\"text-wpr-link\" href=\"/states/kentucky\" to=\"/states/kentucky\">Kentucky</a></th><td class=\"text-wpr-table_text z-40 px-3 py-1.5 text-sm md:px-4\">50</td><td class=\"text-wpr-table_text z-40 px-3 py-1.5 text-sm md:px-4\">41</td></tr><tr class=\"table-row\" data-state=\"false\"><th class=\"text-wpr-table_header sticky left-0 z-50 bg-clip-padding py-1.5 pl-3 text-left align-middle text-sm md:px-4\"><a class=\"text-wpr-link\" href=\"/states/vermont\" to=\"/states/vermont\">Vermont</a></th><td class=\"text-wpr-table_text z-40 px-3 py-1.5 text-sm md:px-4\">50</td><td class=\"text-wpr-table_text z-40 px-3 py-1.5 text-sm md:px-4\">49</td></tr><tr class=\"table-row\" data-state=\"false\"><th class=\"text-wpr-table_header sticky left-0 z-50 bg-clip-padding py-1.5 pl-3 text-left align-middle text-sm md:px-4\"><a class=\"text-wpr-link\" href=\"/states/colorado\" to=\"/states/colorado\">Colorado</a></th><td class=\"text-wpr-table_text z-40 px-3 py-1.5 text-sm md:px-4\">48</td><td class=\"text-wpr-table_text z-40 px-3 py-1.5 text-sm md:px-4\">43</td></tr><tr class=\"table-row\" data-state=\"false\"><th class=\"text-wpr-table_header sticky left-0 z-50 bg-clip-padding py-1.5 pl-3 text-left align-middle text-sm md:px-4\"><a class=\"text-wpr-link\" href=\"/states/nevada\" to=\"/states/nevada\">Nevada</a></th><td class=\"text-wpr-table_text z-40 px-3 py-1.5 text-sm md:px-4\">42</td><td class=\"text-wpr-table_text z-40 px-3 py-1.5 text-sm md:px-4\">38</td></tr><tr class=\"table-row\" data-state=\"false\"><th class=\"text-wpr-table_header sticky left-0 z-50 bg-clip-padding py-1.5 pl-3 text-left align-middle text-sm md:px-4\"><a class=\"text-wpr-link\" href=\"/states/minnesota\" to=\"/states/minnesota\">Minnesota</a></th><td class=\"text-wpr-table_text z-40 px-3 py-1.5 text-sm md:px-4\">38</td><td class=\"text-wpr-table_text z-40 px-3 py-1.5 text-sm md:px-4\">34</td></tr><tr class=\"table-row\" data-state=\"false\"><th class=\"text-wpr-table_header sticky left-0 z-50 bg-clip-padding py-1.5 pl-3 text-left align-middle text-sm md:px-4\"><a class=\"text-wpr-link\" href=\"/states/iowa\" to=\"/states/iowa\">Iowa</a></th><td class=\"text-wpr-table_text z-40 px-3 py-1.5 text-sm md:px-4\">36</td><td class=\"text-wpr-table_text z-40 px-3 py-1.5 text-sm md:px-4\">34</td></tr><tr class=\"table-row\" data-state=\"false\"><th class=\"text-wpr-table_header sticky left-0 z-50 bg-clip-padding py-1.5 pl-3 text-left align-middle text-sm md:px-4\"><a class=\"text-wpr-link\" href=\"/states/west-virginia\" to=\"/states/west-virginia\">West Virginia</a></th><td class=\"text-wpr-table_text z-40 px-3 py-1.5 text-sm md:px-4\">31</td><td class=\"text-wpr-table_text z-40 px-3 py-1.5 text-sm md:px-4\">27</td></tr><tr class=\"table-row\" data-state=\"false\"><th class=\"text-wpr-table_header sticky left-0 z-50 bg-clip-padding py-1.5 pl-3 text-left align-middle text-sm md:px-4\"><a class=\"text-wpr-link\" href=\"/states/kansas\" to=\"/states/kansas\">Kansas</a></th><td class=\"text-wpr-table_text z-40 px-3 py-1.5 text-sm md:px-4\">26</td><td class=\"text-wpr-table_text z-40 px-3 py-1.5 text-sm md:px-4\">28</td></tr><tr class=\"table-row\" data-state=\"false\"><th class=\"text-wpr-table_header sticky left-0 z-50 bg-clip-padding py-1.5 pl-3 text-left align-middle text-sm md:px-4\"><a class=\"text-wpr-link\" href=\"/states/nebraska\" to=\"/states/nebraska\">Nebraska</a></th><td class=\"text-wpr-table_text z-40 px-3 py-1.5 text-sm md:px-4\">24</td><td class=\"text-wpr-table_text z-40 px-3 py-1.5 text-sm md:px-4\">23</td></tr><tr class=\"table-row\" data-state=\"false\"><th class=\"text-wpr-table_header sticky left-0 z-50 bg-clip-padding py-1.5 pl-3 text-left align-middle text-sm md:px-4\"><a class=\"text-wpr-link\" href=\"/states/oklahoma\" to=\"/states/oklahoma\">Oklahoma</a></th><td class=\"text-wpr-table_text z-40 px-3 py-1.5 text-sm md:px-4\">23</td><td class=\"text-wpr-table_text z-40 px-3 py-1.5 text-sm md:px-4\">18</td></tr><tr class=\"table-row\" data-state=\"false\"><th class=\"text-wpr-table_header sticky left-0 z-50 bg-clip-padding py-1.5 pl-3 text-left align-middle text-sm md:px-4\"><a class=\"text-wpr-link\" href=\"/states/district-of-columbia\" to=\"/states/district-of-columbia\">District of Columbia</a></th><td class=\"text-wpr-table_text z-40 px-3 py-1.5 text-sm md:px-4\">19</td><td class=\"text-wpr-table_text z-40 px-3 py-1.5 text-sm md:px-4\"></td></tr><tr class=\"table-row\" data-state=\"false\"><th class=\"text-wpr-table_header sticky left-0 z-50 bg-clip-padding py-1.5 pl-3 text-left align-middle text-sm md:px-4\"><a class=\"text-wpr-link\" href=\"/states/new-mexico\" to=\"/states/new-mexico\">New Mexico</a></th><td class=\"text-wpr-table_text z-40 px-3 py-1.5 text-sm md:px-4\">19</td><td class=\"text-wpr-table_text z-40 px-3 py-1.5 text-sm md:px-4\">19</td></tr><tr class=\"table-row\" data-state=\"false\"><th class=\"text-wpr-table_header sticky left-0 z-50 bg-clip-padding py-1.5 pl-3 text-left align-middle text-sm md:px-4\"><a class=\"text-wpr-link\" href=\"/states/louisiana\" to=\"/states/louisiana\">Louisiana</a></th><td class=\"text-wpr-table_text z-40 px-3 py-1.5 text-sm md:px-4\">15</td><td class=\"text-wpr-table_text z-40 px-3 py-1.5 text-sm md:px-4\">16</td></tr><tr class=\"table-row\" data-state=\"false\"><th class=\"text-wpr-table_header sticky left-0 z-50 bg-clip-padding py-1.5 pl-3 text-left align-middle text-sm md:px-4\"><a class=\"text-wpr-link\" href=\"/states/arkansas\" to=\"/states/arkansas\">Arkansas</a></th><td class=\"text-wpr-table_text z-40 px-3 py-1.5 text-sm md:px-4\">14</td><td class=\"text-wpr-table_text z-40 px-3 py-1.5 text-sm md:px-4\">9</td></tr><tr class=\"table-row\" data-state=\"false\"><th class=\"text-wpr-table_header sticky left-0 z-50 bg-clip-padding py-1.5 pl-3 text-left align-middle text-sm md:px-4\"><a class=\"text-wpr-link\" href=\"/states/mississippi\" to=\"/states/mississippi\">Mississippi</a></th><td class=\"text-wpr-table_text z-40 px-3 py-1.5 text-sm md:px-4\">14</td><td class=\"text-wpr-table_text z-40 px-3 py-1.5 text-sm md:px-4\">12</td></tr><tr class=\"table-row\" data-state=\"false\"><th class=\"text-wpr-table_header sticky left-0 z-50 bg-clip-padding py-1.5 pl-3 text-left align-middle text-sm md:px-4\"><a class=\"text-wpr-link\" href=\"/states/hawaii\" to=\"/states/hawaii\">Hawaii</a></th><td class=\"text-wpr-table_text z-40 px-3 py-1.5 text-sm md:px-4\">6</td><td class=\"text-wpr-table_text z-40 px-3 py-1.5 text-sm md:px-4\">6</td></tr><tr class=\"table-row\" data-state=\"false\"><th class=\"text-wpr-table_header sticky left-0 z-50 bg-clip-padding py-1.5 pl-3 text-left align-middle text-sm md:px-4\"><a class=\"text-wpr-link\" href=\"/states/utah\" to=\"/states/utah\">Utah</a></th><td class=\"text-wpr-table_text z-40 px-3 py-1.5 text-sm md:px-4\">2</td><td class=\"text-wpr-table_text z-40 px-3 py-1.5 text-sm md:px-4\">1</td></tr><tr class=\"table-row\" data-state=\"false\"><th class=\"text-wpr-table_header sticky left-0 z-50 bg-clip-padding py-1.5 pl-3 text-left align-middle text-sm md:px-4\"><a class=\"text-wpr-link\" href=\"/states/wyoming\" to=\"/states/wyoming\">Wyoming</a></th><td class=\"text-wpr-table_text z-40 px-3 py-1.5 text-sm md:px-4\">1</td><td class=\"text-wpr-table_text z-40 px-3 py-1.5 text-sm md:px-4\">1</td></tr><tr class=\"table-row\" data-state=\"false\"><th class=\"text-wpr-table_header sticky left-0 z-50 bg-clip-padding py-1.5 pl-3 text-left align-middle text-sm md:px-4\"><a class=\"text-wpr-link\" href=\"/states/alaska\" to=\"/states/alaska\">Alaska</a></th><td class=\"text-wpr-table_text z-40 px-3 py-1.5 text-sm md:px-4\">0</td><td class=\"text-wpr-table_text z-40 px-3 py-1.5 text-sm md:px-4\">0</td></tr><tr class=\"table-row\" data-state=\"false\"><th class=\"text-wpr-table_header sticky left-0 z-50 bg-clip-padding py-1.5 pl-3 text-left align-middle text-sm md:px-4\"><a class=\"text-wpr-link\" href=\"/states/idaho\" to=\"/states/idaho\">Idaho</a></th><td class=\"text-wpr-table_text z-40 px-3 py-1.5 text-sm md:px-4\">0</td><td class=\"text-wpr-table_text z-40 px-3 py-1.5 text-sm md:px-4\">0</td></tr><tr class=\"table-row\" data-state=\"false\"><th class=\"text-wpr-table_header sticky left-0 z-50 bg-clip-padding py-1.5 pl-3 text-left align-middle text-sm md:px-4\"><a class=\"text-wpr-link\" href=\"/states/montana\" to=\"/states/montana\">Montana</a></th><td class=\"text-wpr-table_text z-40 px-3 py-1.5 text-sm md:px-4\">0</td><td class=\"text-wpr-table_text z-40 px-3 py-1.5 text-sm md:px-4\">0</td></tr><tr class=\"table-row\" data-state=\"false\"><th class=\"text-wpr-table_header sticky left-0 z-50 bg-clip-padding py-1.5 pl-3 text-left align-middle text-sm md:px-4\"><a class=\"text-wpr-link\" href=\"/states/north-dakota\" to=\"/states/north-dakota\">North Dakota</a></th><td class=\"text-wpr-table_text z-40 px-3 py-1.5 text-sm md:px-4\">0</td><td class=\"text-wpr-table_text z-40 px-3 py-1.5 text-sm md:px-4\">0</td></tr><tr class=\"table-row\" data-state=\"false\"><th class=\"text-wpr-table_header sticky left-0 z-50 bg-clip-padding py-1.5 pl-3 text-left align-middle text-sm md:px-4\"><a class=\"text-wpr-link\" href=\"/states/oregon\" to=\"/states/oregon\">Oregon</a></th><td class=\"text-wpr-table_text z-40 px-3 py-1.5 text-sm md:px-4\">0</td><td class=\"text-wpr-table_text z-40 px-3 py-1.5 text-sm md:px-4\">0</td></tr><tr class=\"table-row\" data-state=\"false\"><th class=\"text-wpr-table_header sticky left-0 z-50 bg-clip-padding py-1.5 pl-3 text-left align-middle text-sm md:px-4\"><a class=\"text-wpr-link\" href=\"/states/south-dakota\" to=\"/states/south-dakota\">South Dakota</a></th><td class=\"text-wpr-table_text z-40 px-3 py-1.5 text-sm md:px-4\">0</td><td class=\"text-wpr-table_text z-40 px-3 py-1.5 text-sm md:px-4\">0</td></tr><tr class=\"table-row\" data-state=\"false\"><th class=\"text-wpr-table_header sticky left-0 z-50 bg-clip-padding py-1.5 pl-3 text-left align-middle text-sm md:px-4\"><a class=\"text-wpr-link\" href=\"/states/washington\" to=\"/states/washington\">Washington</a></th><td class=\"text-wpr-table_text z-40 px-3 py-1.5 text-sm md:px-4\">0</td><td class=\"text-wpr-table_text z-40 px-3 py-1.5 text-sm md:px-4\">19</td></tr></tbody></table>\n"
     ]
    }
   ],
   "source": [
    "# Dunkin Donuts\n",
    "\n",
    "response = requests.get(\"https://worldpopulationreview.com/state-rankings/dunkin-donuts-by-state\")\n",
    "soup = BeautifulSoup(response.content, \"html.parser\")\n",
    "\n",
    "table = soup.find(\"table\", class_ = \"wpr-table\")\n",
    "\n",
    "# scrape dunkin data\n",
    "\n",
    "rows = []\n",
    "states_list = []\n",
    "\n",
    "# get state names and add to states list\n",
    "for th in table.find_all(\"th\")[3:]:\n",
    "    states = th.get_text(strip = True)\n",
    "    states_list.append(states)\n",
    "\n",
    "for i, tr in enumerate(table.find_all(\"tr\")[1:]):\n",
    "    # iterate across states list to get corresponding state for each row\n",
    "    state = states_list[i]\n",
    "\n",
    "    # get all the rows in the dataset\n",
    "    cells = tr.find_all(\"td\")\n",
    "\n",
    "    # get all 2024 stores\n",
    "    stores2024_tag = cells[0].find(\"a\") or cells[0]\n",
    "    stores2024 = stores2024_tag.get_text(strip = True)\n",
    "\n",
    "    # get all 2023 stores\n",
    "    stores2023_tag = cells[1].find(\"a\") or cells[1]\n",
    "    stores2023 = stores2023_tag.get_text(strip = True)\n",
    "\n",
    "    # add columns to a list\n",
    "    rows.append({\n",
    "        \"state\" : state,\n",
    "        \"2023\" : stores2023,\n",
    "        \"2024\" : stores2024\n",
    "\n",
    "    })\n",
    "\n",
    "# convert to a dataframe\n",
    "dunkin = pd.DataFrame(rows)\n",
    "\n",
    "# clean and tidy data\n",
    "dunkin_clean = dunkin.melt(id_vars = [\"state\"], var_name = \"year\", value_name = \"store_count\")\n",
    "dunkin_clean[\"location\"] = \"Dunkin\"\n"
   ]
  },
  {
   "cell_type": "code",
   "execution_count": 250,
   "metadata": {
    "vscode": {
     "languageId": "python"
    }
   },
   "outputs": [],
   "source": [
    "# merge dunkin and starbucks datasets\n",
    "\n",
    "merged_coffee = starbucks_clean.merge(dunkin_clean, on = [\"state\", \"year\", \"location\", \"store_count\"], \n",
    "how = \"outer\")\n",
    "\n",
    "merged_coffee[\"year\"] = merged_coffee[\"year\"].astype(int)"
   ]
  },
  {
   "cell_type": "markdown",
   "metadata": {},
   "source": [
    "# Supplemental Data\n",
    "4. Scrape the state names and populations from this wikipedia page. Merge these data with your coffee dataset."
   ]
  },
  {
   "cell_type": "code",
   "execution_count": 251,
   "metadata": {
    "vscode": {
     "languageId": "python"
    }
   },
   "outputs": [],
   "source": [
    "\n",
    "response = requests.get(\"https://simple.wikipedia.org/wiki/List_of_U.S._states_by_population\")\n",
    "soup = BeautifulSoup(response.content, \"html.parser\")\n",
    "\n",
    "tables = soup.find_all(\"table\", class_ = \"wikitable\")\n",
    "\n",
    "#extract table\n",
    "table = tables[0]\n",
    "\n",
    "# scrape population data\n",
    "rows = []\n",
    "\n",
    "for tr in table.find_all(\"tr\")[1:]:\n",
    "    cells = tr.find_all(\"td\")\n",
    "\n",
    "    # get state values\n",
    "    state_tag = cells[2].find(\"a\") or cells[2]\n",
    "    state = state_tag.get_text(strip = True)\n",
    "\n",
    "    # get population values\n",
    "    pop_tag = cells[3].find(\"a\") or cells[3]\n",
    "    population = pop_tag.get_text(strip = True)\n",
    "\n",
    "    # append data\n",
    "    rows.append({\n",
    "        \"state\" : state,\n",
    "        \"population\" : population\n",
    "    })\n",
    "\n",
    "# convert to a df\n",
    "population = pd.DataFrame(rows)\n",
    "\n",
    "# merge dataframes\n",
    "merged_pop = merged_coffee.merge(population, on = \"state\", how = \"left\")"
   ]
  },
  {
   "cell_type": "markdown",
   "metadata": {},
   "source": [
    "\n",
    "5. Find the revenue, stock price, or your financial metric of choice for each of the companies listed above (if you can find a website to scrape these from that’s great!…but it’s okay if you manually enter these). Merge these values into your big dataset. Note: these values may be repeated for each state."
   ]
  },
  {
   "cell_type": "code",
   "execution_count": 252,
   "metadata": {
    "vscode": {
     "languageId": "python"
    }
   },
   "outputs": [],
   "source": [
    "# scrape starbucks revenue table from website\n",
    "response = requests.get(\"https://companiesmarketcap.com/starbucks/revenue/\")\n",
    "soup = BeautifulSoup(response.content, \"html.parser\")\n",
    "\n",
    "table = soup.find(\"table\")\n",
    "\n",
    "rows = []\n",
    "\n",
    "for tr in table.find_all(\"tr\")[1:]:\n",
    "    cells = tr.find_all(\"td\")\n",
    "    \n",
    "    # get year values \n",
    "    year_tag = cells[0].find(\"a\") or cells[0]\n",
    "    year = year_tag.get_text(strip = True)\n",
    "\n",
    "    # get revenue values\n",
    "    revenue_tag = cells[1].find(\"a\") or cells[1]\n",
    "    revenue = revenue_tag.get_text(strip = True)\n",
    "\n",
    "    # append rows\n",
    "    rows.append({\n",
    "        \"year\" : year,\n",
    "        \"revenue\" : revenue\n",
    "    })\n",
    "\n",
    "# convert to a df\n",
    "starbucks_revenue = pd.DataFrame(rows)\n",
    "\n",
    "# remove unnecessary items in the columns\n",
    "starbucks_revenue[\"year\"] = starbucks_revenue[\"year\"].str.replace(\"2024(TTM)\", \"2024\").astype(int)\n",
    "starbucks_revenue[\"revenue\"] = starbucks_revenue[\"revenue\"].str.replace(\"$\",\"\")\n",
    "starbucks_revenue[\"revenue\"] = starbucks_revenue[\"revenue\"].str.replace(\" B\",\"\").astype(float)\n",
    "\n",
    "# add location column\n",
    "starbucks_revenue[\"location\"] = \"Starbucks\"\n"
   ]
  },
  {
   "cell_type": "code",
   "execution_count": 253,
   "metadata": {
    "vscode": {
     "languageId": "python"
    }
   },
   "outputs": [],
   "source": [
    "# create Dunkin Donuts df - *** CHECK 2024 REVENUE FOR DUNKIN\n",
    "dunkin_revenue = pd.DataFrame({\n",
    "    \"year\" :[2023, 2024],\n",
    "    \"revenue\" : [1.4, 1.6],\n",
    "    \"location\" : [\"Dunkin\"] * 2\n",
    "})\n",
    "\n",
    "# merge revenue data\n",
    "merged_revenue = pd.concat([starbucks_revenue, dunkin_revenue], ignore_index=True)\n"
   ]
  },
  {
   "cell_type": "code",
   "execution_count": 254,
   "metadata": {
    "vscode": {
     "languageId": "python"
    }
   },
   "outputs": [],
   "source": [
    "# merge revenue data with merged coffee data\n",
    "merged_rev_coffee = merged_coffee.merge(merged_revenue, on = [\"location\", \"year\"], how = \"left\")"
   ]
  },
  {
   "cell_type": "markdown",
   "metadata": {},
   "source": [
    "6. Create a region variable in your dataset according to the scheme on this wikipedia page: Northeast, Midwest, South, West. You do not need to scrape this information."
   ]
  },
  {
   "cell_type": "code",
   "execution_count": 267,
   "metadata": {
    "vscode": {
     "languageId": "python"
    }
   },
   "outputs": [],
   "source": [
    "# create region variable\n",
    "regions_dict = {\n",
    "    \"New England\": [\"Connecticut\", \"Maine\", \"Massachusetts\", \"New Hampshire\", \"Rhode Island\", \"Vermont\"],\n",
    "    \"Mideast\": [\"Delaware\", \"Maryland\", \"New Jersey\", \"New York\", \"Pennsylvania\", \"Washington, D.C.\"],\n",
    "    \"Great Lakes\": [\"Illinois\", \"Indiana\", \"Michigan\", \"Ohio\", \"Wisconsin\"],\n",
    "    \"Plains\": [\"Iowa\", \"Kansas\", \"Minnesota\", \"Missouri\", \"Nebraska\", \"North Dakota\", \"South Dakota\"],\n",
    "    \"Southeast\": [\"Alabama\", \"Arkansas\", \"Florida\", \"Georgia\", \"Kentucky\", \"Louisiana\", \"Mississippi\", \"North Carolina\", \"South Carolina\", \"Tennessee\", \"Virginia\", \"West Virginia\"],\n",
    "    \"Southwest\": [\"Arizona\", \"New Mexico\", \"Oklahoma\", \"Texas\"],\n",
    "    \"Rocky Mountain\": [\"Colorado\", \"Idaho\", \"Montana\", \"Utah\", \"Wyoming\"],\n",
    "    \"Far West\": [\"Alaska\", \"California\", \"Hawaii\", \"Nevada\", \"Oregon\", \"Washington\"],\n",
    "}\n",
    "\n",
    "# create regions df\n",
    "regions = pd.DataFrame([(state, region) for region, states in regions_dict.items() for state in states], \n",
    "                            columns=['state', 'Region'])\n",
    "\n",
    "# merge df with dataset\n",
    "all_data = merged_rev_coffee.merge(regions, on = \"state\", how = \"left\")"
   ]
  },
  {
   "cell_type": "markdown",
   "metadata": {},
   "source": [
    "# Analyze\n",
    "7. Assess and comment on the prevalence of each chain. Some questions to consider (you don’t need to answer all of these and you may come up with your own):\n",
    "\n",
    "Are some of these chains more prevalent in certain states than others? Possibly despite having less stores overall? Same questions for regions instead of states.\n",
    "\n",
    "How does your chosen financial metric change by state and region for each chain? For example, having 5 stores in California is very different from having 5 stores in Wyoming.\n",
    "\n",
    "Does the distribution of each chain’s stores match population distribution, by both state/region?\n",
    "\n",
    "Do the financial data match what you’d expect based on the number and locations of the stores? Why or why not?"
   ]
  },
  {
   "cell_type": "markdown",
   "metadata": {},
   "source": [
    "# Automate\n",
    "Convert your code for Exercises 1-3 above to a function that takes a single argument: the URL. This function should\n",
    "\n",
    "Scrape the information on state names and corresponding number of store locations on the webpage specified (assume the page has a table in the same form and placement as the ones you scraped above)\n",
    "\n",
    "Extract the name of the company from either the URL specified or the webpage (assume the URL will have the same format as the ones used above)\n",
    "\n",
    "Return a clean, organized and tidy dataset. Find a page other than Starbucks and Dunkin’ Donuts to test this on to confirm that it works. It’s fine if this is not related to coffee."
   ]
  },
  {
   "cell_type": "code",
   "execution_count": null,
   "metadata": {
    "vscode": {
     "languageId": "python"
    }
   },
   "outputs": [],
   "source": [
    "def get_data(url):\n",
    "    response = requests.get(url)\n",
    "    soup = BeautifulSoup(response.content, \"html.parser\")\n",
    "\n",
    "    table = soup.find(\"table\", class_ = \"wpr-table\")\n",
    "\n",
    "    rows = []\n",
    "    states_list = []\n",
    "\n",
    "    for th in table.find_all(\"th\")[4:]:\n",
    "        states = th.get_text(strip = True)\n",
    "        states_list.append(states)\n",
    "\n",
    "    for i, tr in enumerate(table.find_all(\"tr\")[1:]):\n",
    "        # iterate across states list to get corresponding state for each row\n",
    "        state = states_list[i]\n",
    "\n",
    "        # get all the rows in the dataset\n",
    "        cells = tr.find_all(\"td\")\n",
    "\n",
    "        # get all 2023 stores\n",
    "        stores2023_tag = cells[0].find(\"a\") or cells[0]\n",
    "        stores2023 = stores2023_tag.get_text(strip = True)\n",
    "        \n",
    "        #get all 2021 stores\n",
    "        stores2021_tag = cells[1].find(\"a\") or cells[1]\n",
    "        stores2021 = stores2021_tag.get_text(strip = True)\n",
    "\n",
    "        # get all 2024 stores\n",
    "        stores2024_tag = cells[2].find(\"a\") or cells[2]\n",
    "        stores2024 = stores2024_tag.get_text(strip = True)\n",
    "\n",
    "        # add columns to a list\n",
    "        rows.append({\n",
    "            \"state\" : state,\n",
    "            \"2023\" : stores2023,\n",
    "            \"2021\" : stores2021,\n",
    "            \"2024\" : stores2024\n",
    "\n",
    "        })\n",
    "\n",
    "\n",
    "    "
   ]
  },
  {
   "cell_type": "code",
   "execution_count": 306,
   "metadata": {
    "vscode": {
     "languageId": "python"
    }
   },
   "outputs": [],
   "source": [
    "# test function\n",
    "\n",
    "url = \"https://worldpopulationreview.com/state-rankings/chick-fil-a-by-state\"\n",
    "\n",
    "response = requests.get(url)\n",
    "soup = BeautifulSoup(response.content, \"html.parser\")\n",
    "\n",
    "table = soup.find(\"table\", class_ = \"wpr-table\")\n",
    "\n",
    "headers = []\n",
    "rows = []\n",
    "states_list = []\n",
    "\n",
    "# get state names and add to states list\n",
    "for th in table.find_all(\"th\", class_ = \"datatable-th\"):\n",
    "    header = th.get_text(strip = True)\n",
    "    headers.append(header)\n",
    "index = len(table.find_all(\"th\", class_ = \"datatable-th\"))\n",
    "\n",
    "for th in table.find_all(\"th\")[index:]:\n",
    "    states = th.get_text(strip = True)\n",
    "    states_list.append(states)\n",
    "\n",
    "\n",
    "for i, tr in enumerate(table.find_all(\"tr\")[1:]):\n",
    "    state = states_list[i]\n",
    "\n",
    "    cells = tr.find_all(\"td\")\n",
    "\n",
    "    stores2024_tag = cells[0].find(\"a\") or cells[0]\n",
    "    stores2024 = stores2024_tag.get_text(strip = True)\n",
    "\n",
    "    stores2023_tag = cells[1].find(\"a\") or cells[1]\n",
    "    stores2023 = stores2023_tag.get_text(strip = True)\n",
    "\n",
    "    rows.append({\n",
    "        \"state\" : state,\n",
    "        \"2023\" : stores2023,\n",
    "        \"2024\" : stores2024\n",
    "\n",
    "    })"
   ]
  },
  {
   "cell_type": "code",
   "execution_count": null,
   "metadata": {
    "vscode": {
     "languageId": "python"
    }
   },
   "outputs": [],
   "source": []
  },
  {
   "cell_type": "markdown",
   "metadata": {},
   "source": [
    "# Appendix\n",
    "\n",
    "Chatgpt uses\n",
    "- enumerate function\n",
    "- convert dictionary to a df\n",
    "\n",
    "\n",
    "\n",
    "Revenue data sources:\n",
    "\n",
    "Starbucks yearly revenue: https://companiesmarketcap.com/starbucks/revenue/\n",
    "\n",
    "Dunkin donuts yearly revenue: \n",
    "https://www.zippia.com/dunkin-donuts-careers-554008/revenue/\n",
    "\n"
   ]
  }
 ],
 "metadata": {
  "language_info": {
   "name": "raw"
  }
 },
 "nbformat": 4,
 "nbformat_minor": 2
}
