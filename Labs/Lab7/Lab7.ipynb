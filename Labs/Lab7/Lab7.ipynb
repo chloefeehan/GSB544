{
 "cells": [
  {
   "cell_type": "raw",
   "metadata": {},
   "source": [
    "---\n",
    "title: \"Lab 7: Heart Attack\"\n",
    "author: \"Chloe Feehan\"\n",
    "format: \n",
    "  html:\n",
    "    code-fold: true\n",
    "    embed-resources: true\n",
    "    toc: true\n",
    "theme: flatly\n",
    "---"
   ]
  },
  {
   "cell_type": "markdown",
   "metadata": {},
   "source": [
    "# The Data\n",
    "In this lab, we will use medical data to predict the likelihood of a person experiencing an exercise-induced heart attack.\n",
    "\n",
    "Our dataset consists of clinical data from patients who entered the hospital complaining of chest pain (“angina”) during exercise.\n",
    "\n",
    "Although it is not a formal question on this assignment, you should begin by reading in the dataset and briefly exploring and summarizing the data, and by adjusting any variables that need cleaning."
   ]
  },
  {
   "cell_type": "code",
   "execution_count": 56,
   "metadata": {
    "vscode": {
     "languageId": "python"
    }
   },
   "outputs": [],
   "source": [
    "import pandas as pd\n",
    "import numpy as np\n",
    "from sklearn.model_selection import train_test_split\n",
    "from sklearn.compose import make_column_selector, ColumnTransformer\n",
    "from sklearn.preprocessing import StandardScaler, OneHotEncoder, PolynomialFeatures\n",
    "from sklearn.compose import ColumnTransformer\n",
    "from sklearn.metrics import (confusion_matrix, accuracy_score, precision_score,\n",
    "                             recall_score, roc_auc_score, f1_score, roc_curve)\n",
    "from sklearn.neighbors import KNeighborsClassifier\n",
    "from sklearn.tree import DecisionTreeClassifier\n",
    "from sklearn.pipeline import Pipeline\n",
    "import matplotlib.pyplot as plt\n",
    "from sklearn.linear_model import LogisticRegression\n",
    "import warnings\n",
    "from sklearn.exceptions import ConvergenceWarning\n",
    "import seaborn as sns\n",
    "\n",
    "#suppress convergence warnings\n",
    "warnings.simplefilter(\"ignore\", ConvergenceWarning)\n",
    "pd.options.mode.chained_assignment = None"
   ]
  },
  {
   "cell_type": "code",
   "execution_count": 48,
   "metadata": {
    "vscode": {
     "languageId": "python"
    }
   },
   "outputs": [
    {
     "data": {
      "text/html": [
       "<div>\n",
       "<style scoped>\n",
       "    .dataframe tbody tr th:only-of-type {\n",
       "        vertical-align: middle;\n",
       "    }\n",
       "\n",
       "    .dataframe tbody tr th {\n",
       "        vertical-align: top;\n",
       "    }\n",
       "\n",
       "    .dataframe thead th {\n",
       "        text-align: right;\n",
       "    }\n",
       "</style>\n",
       "<table border=\"1\" class=\"dataframe\">\n",
       "  <thead>\n",
       "    <tr style=\"text-align: right;\">\n",
       "      <th></th>\n",
       "      <th>age</th>\n",
       "      <th>trtbps</th>\n",
       "      <th>chol</th>\n",
       "      <th>thalach</th>\n",
       "    </tr>\n",
       "  </thead>\n",
       "  <tbody>\n",
       "    <tr>\n",
       "      <th>count</th>\n",
       "      <td>273.000000</td>\n",
       "      <td>273.000000</td>\n",
       "      <td>273.000000</td>\n",
       "      <td>273.000000</td>\n",
       "    </tr>\n",
       "    <tr>\n",
       "      <th>mean</th>\n",
       "      <td>54.347985</td>\n",
       "      <td>132.098901</td>\n",
       "      <td>246.860806</td>\n",
       "      <td>149.446886</td>\n",
       "    </tr>\n",
       "    <tr>\n",
       "      <th>std</th>\n",
       "      <td>9.163134</td>\n",
       "      <td>17.700358</td>\n",
       "      <td>52.569726</td>\n",
       "      <td>23.240707</td>\n",
       "    </tr>\n",
       "    <tr>\n",
       "      <th>min</th>\n",
       "      <td>29.000000</td>\n",
       "      <td>94.000000</td>\n",
       "      <td>126.000000</td>\n",
       "      <td>71.000000</td>\n",
       "    </tr>\n",
       "    <tr>\n",
       "      <th>25%</th>\n",
       "      <td>47.000000</td>\n",
       "      <td>120.000000</td>\n",
       "      <td>211.000000</td>\n",
       "      <td>133.000000</td>\n",
       "    </tr>\n",
       "    <tr>\n",
       "      <th>50%</th>\n",
       "      <td>56.000000</td>\n",
       "      <td>130.000000</td>\n",
       "      <td>240.000000</td>\n",
       "      <td>152.000000</td>\n",
       "    </tr>\n",
       "    <tr>\n",
       "      <th>75%</th>\n",
       "      <td>61.000000</td>\n",
       "      <td>140.000000</td>\n",
       "      <td>275.000000</td>\n",
       "      <td>166.000000</td>\n",
       "    </tr>\n",
       "    <tr>\n",
       "      <th>max</th>\n",
       "      <td>77.000000</td>\n",
       "      <td>200.000000</td>\n",
       "      <td>564.000000</td>\n",
       "      <td>202.000000</td>\n",
       "    </tr>\n",
       "  </tbody>\n",
       "</table>\n",
       "</div>"
      ],
      "text/plain": [
       "              age      trtbps        chol     thalach\n",
       "count  273.000000  273.000000  273.000000  273.000000\n",
       "mean    54.347985  132.098901  246.860806  149.446886\n",
       "std      9.163134   17.700358   52.569726   23.240707\n",
       "min     29.000000   94.000000  126.000000   71.000000\n",
       "25%     47.000000  120.000000  211.000000  133.000000\n",
       "50%     56.000000  130.000000  240.000000  152.000000\n",
       "75%     61.000000  140.000000  275.000000  166.000000\n",
       "max     77.000000  200.000000  564.000000  202.000000"
      ]
     },
     "execution_count": null,
     "metadata": {},
     "output_type": "execute_result"
    }
   ],
   "source": [
    "ha = pd.read_csv(\"https://www.dropbox.com/s/aohbr6yb9ifmc8w/heart_attack.csv?dl=1\")\n",
    "ha.dropna(inplace=True)\n",
    "\n",
    "ha[[\"sex\", \"cp\", \"restecg\", \"output\"]] = ha[[\"sex\", \"cp\", \"restecg\", \"output\"]].astype(\"object\")\n",
    "\n",
    "ha.describe()"
   ]
  },
  {
   "cell_type": "code",
   "execution_count": 49,
   "metadata": {
    "vscode": {
     "languageId": "python"
    }
   },
   "outputs": [],
   "source": [
    "# make sure output column is int\n",
    "\n",
    "ha[\"output\"] = ha[\"output\"].astype(int)"
   ]
  },
  {
   "cell_type": "markdown",
   "metadata": {},
   "source": [
    "# Part One: Fitting the Models\n",
    "\n",
    "This section asks you to create a final best model for each of the model types studied this week. For each, you should:\n",
    "\n",
    "* Find the best model based on ROC AUC for predicting the target variable.\n",
    "\n",
    "* Report the (cross-validated!) ROC AUC metric.\n",
    "\n",
    "* Fit the final model.\n",
    "\n",
    "* Output a confusion matrix; that is, the counts of how many observations fell into each predicted class for each true class.\n",
    "\n",
    "* (Where applicable) Interpret the coefficients and/or estimates produced by the model fit.\n",
    "\n",
    "You should certainly try multiple model pipelines to find the best model. You do not need to include the output for every attempted model, but you should describe all of the models explored. You should include any hyperparameter tuning steps in your writeup as well.\n",
    "\n",
    "## Q1: KNN"
   ]
  },
  {
   "cell_type": "code",
   "execution_count": 50,
   "metadata": {
    "vscode": {
     "languageId": "python"
    }
   },
   "outputs": [
    {
     "ename": "SyntaxError",
     "evalue": "non-default argument follows default argument (928980936.py, line 22)",
     "output_type": "error",
     "traceback": [
      "\u001b[0;36m  Cell \u001b[0;32mIn[50], line 22\u001b[0;36m\u001b[0m\n",
      "\u001b[0;31m    def best_features(X, y, model_type = \"knn\", parameters):\u001b[0m\n",
      "\u001b[0m                                                ^\u001b[0m\n",
      "\u001b[0;31mSyntaxError\u001b[0m\u001b[0;31m:\u001b[0m non-default argument follows default argument\n"
     ]
    }
   ],
   "source": [
    "X = ha.drop(\"output\", axis = 1)\n",
    "y = ha[\"output\"]\n",
    "\n",
    "\n",
    "\n",
    "# create pipelines\n",
    "\n",
    "ct = ColumnTransformer([(\"dummify\", OneHotEncoder(sparse_output = False, handle_unknown='ignore'),\n",
    "                                        make_column_selector(dtype_include=object)),\n",
    "                            (\"standardize\", StandardScaler(), \n",
    "                                        make_column_selector(dtype_include=np.number))],\n",
    "                                        remainder = \"passthrough\")\n",
    "\n",
    "knn_pipeline = Pipeline(\n",
    "    [(\"preprocessing\", ct),\n",
    "    (\"classifier\", KNeighborsClassifier())]\n",
    ")\n",
    "\n",
    "\n",
    "# write function\n",
    "\n",
    "def best_features(X, y, model_type = \"knn\", parameters):\n",
    "    # create criteria for model specification\n",
    "    if model_type  == \"knn\":\n",
    "        model = KNeighborsClassifier()\n",
    "        params = {\n",
    "            \"classifier__\"\n",
    "\n",
    "        }\n",
    "    elif model_type == \"ridge\":\n",
    "        model = Ridge()\n",
    "        alpha = {\"regression__alpha\": alpha_values}\n",
    "        l1_ratio = {}\n",
    "    elif model_type == \"lasso\":\n",
    "        model = Lasso()\n",
    "        alpha = {\"regression__alpha\": alpha_values}\n",
    "        l1_ratio = {}\n",
    "    elif model_type == \"elasticnet\":\n",
    "        model = ElasticNet()\n",
    "        alpha = {\"regression__alpha\": alpha_values, \"regression__l1_ratio\": l1_ratio_values}\n",
    "    else:\n",
    "        raise ValueError(\"Unsupported model_type. Choose from 'lasso', 'ridge', 'elasticnet', or 'linear'.\")\n"
   ]
  },
  {
   "cell_type": "code",
   "execution_count": 51,
   "metadata": {
    "vscode": {
     "languageId": "python"
    }
   },
   "outputs": [
    {
     "name": "stdout",
     "output_type": "stream",
     "text": [
      "Best ROC AUC (Cross-Validation): 0.8817339544513458\n",
      "Test ROC AUC: 0.6631299734748011\n",
      "Best ROC AUC (Cross-Validation): 0.8817339544513458\n",
      "Test ROC AUC: 0.6631299734748011\n"
     ]
    },
    {
     "data": {
      "image/png": "[encoded data removed]",
      "text/plain": [
       "<Figure size 640x480 with 2 Axes>"
      ]
     },
     "metadata": {},
     "output_type": "display_data"
    },
    {
     "name": "stdout",
     "output_type": "stream",
     "text": [
      "              precision    recall  f1-score   support\n",
      "\n",
      "           0       0.60      0.81      0.69        26\n",
      "           1       0.75      0.52      0.61        29\n",
      "\n",
      "    accuracy                           0.65        55\n",
      "   macro avg       0.68      0.66      0.65        55\n",
      "weighted avg       0.68      0.65      0.65        55\n",
      "\n",
      "              precision    recall  f1-score   support\n",
      "\n",
      "           0       0.60      0.81      0.69        26\n",
      "           1       0.75      0.52      0.61        29\n",
      "\n",
      "    accuracy                           0.65        55\n",
      "   macro avg       0.68      0.66      0.65        55\n",
      "weighted avg       0.68      0.65      0.65        55\n",
      "\n"
     ]
    }
   ],
   "source": [
    "from sklearn.model_selection import train_test_split, GridSearchCV\n",
    "from sklearn.pipeline import Pipeline\n",
    "from sklearn.compose import ColumnTransformer\n",
    "from sklearn.neighbors import KNeighborsClassifier\n",
    "from sklearn.metrics import confusion_matrix, classification_report, roc_auc_score\n",
    "import numpy as np\n",
    "\n",
    "import matplotlib.pyplot as plt\n",
    "\n",
    "# Fix the target variable if continuous\n",
    "#y = (y >= 0.5).astype(int)  # Example threshold for binary classification\n",
    "\n",
    "# Split data\n",
    "X_train, X_test, y_train, y_test = train_test_split(X, y, test_size=0.2, random_state=42, stratify=y)\n",
    "\n",
    "# Create KNN pipeline\n",
    "knn = KNeighborsClassifier()\n",
    "\n",
    "knn_pipeline = Pipeline([\n",
    "    ('preprocessor', ct),\n",
    "    ('classifier', knn)\n",
    "])\n",
    "\n",
    "knn_param_grid = {\n",
    "    'classifier__n_neighbors': np.arange(1, 31),\n",
    "    'classifier__weights': ['uniform', 'distance'],\n",
    "    'classifier__metric': ['euclidean', 'manhattan']\n",
    "}\n",
    "\n",
    "knn_grid_search = GridSearchCV(knn_pipeline, knn_param_grid, cv=5, scoring='roc_auc', n_jobs=-1)\n",
    "knn_grid_search.fit(X_train, y_train)\n",
    "\n",
    "# Retrieve the best model and evaluate\n",
    "best_knn_model = knn_grid_search.best_estimator_\n",
    "best_knn_score = knn_grid_search.best_score_\n",
    "\n",
    "print(\"Best ROC AUC (Cross-Validation):\", best_knn_score)\n",
    "\n",
    "y_test_pred = best_knn_model.predict(X_test)\n",
    "y_test_pred_prob = best_knn_model.predict_proba(X_test)[:, 1]\n",
    "test_roc_auc = roc_auc_score(y_test, y_test_pred_prob)\n",
    "print(\"Test ROC AUC:\", test_roc_auc)\n",
    "\n",
    "conf_matrix = confusion_matrix(y_test, y_test_pred)\n",
    "sns.heatmap(conf_matrix, annot=True, fmt='d', cmap='Blues', xticklabels=['No Attack', 'Attack'], yticklabels=['No Attack', 'Attack'])\n",
    "plt.xlabel('Predicted')\n",
    "plt.ylabel('Actual')\n",
    "plt.title('Confusion Matrix')\n",
    "plt.show()\n",
    "\n",
    "print(classification_report(y_test, y_test_pred))\n"
   ]
  },
  {
   "cell_type": "code",
   "execution_count": 60,
   "metadata": {
    "vscode": {
     "languageId": "python"
    }
   },
   "outputs": [
    {
     "name": "stdout",
     "output_type": "stream",
     "text": [
      "Best ROC AUC (Cross-Validation): 0.8572\n",
      "Test ROC AUC: 0.8475\n",
      "Best ROC AUC (Cross-Validation): 0.8572\n",
      "Test ROC AUC: 0.8475\n"
     ]
    },
    {
     "data": {
      "image/png": "[encoded data removed]",
      "text/plain": [
       "<Figure size 640x480 with 2 Axes>"
      ]
     },
     "metadata": {},
     "output_type": "display_data"
    },
    {
     "name": "stdout",
     "output_type": "stream",
     "text": [
      "Classification Report:\n",
      "              precision    recall  f1-score   support\n",
      "\n",
      "           0       0.73      0.62      0.67        26\n",
      "           1       0.70      0.79      0.74        29\n",
      "\n",
      "    accuracy                           0.71        55\n",
      "   macro avg       0.71      0.70      0.70        55\n",
      "weighted avg       0.71      0.71      0.71        55\n",
      "\n",
      "Classification Report:\n",
      "              precision    recall  f1-score   support\n",
      "\n",
      "           0       0.73      0.62      0.67        26\n",
      "           1       0.70      0.79      0.74        29\n",
      "\n",
      "    accuracy                           0.71        55\n",
      "   macro avg       0.71      0.70      0.70        55\n",
      "weighted avg       0.71      0.71      0.71        55\n",
      "\n"
     ]
    },
    {
     "name": "stderr",
     "output_type": "stream",
     "text": [
      "/Users/chloefeehan/.conda/envs/pythonProject/lib/python3.10/site-packages/sklearn/linear_model/_sag.py:349: ConvergenceWarning: The max_iter was reached which means the coef_ did not converge\n",
      "  warnings.warn(\n",
      "/Users/chloefeehan/.conda/envs/pythonProject/lib/python3.10/site-packages/sklearn/linear_model/_sag.py:349: ConvergenceWarning: The max_iter was reached which means the coef_ did not converge\n",
      "  warnings.warn(\n",
      "/Users/chloefeehan/.conda/envs/pythonProject/lib/python3.10/site-packages/sklearn/linear_model/_sag.py:349: ConvergenceWarning: The max_iter was reached which means the coef_ did not converge\n",
      "  warnings.warn(\n",
      "/Users/chloefeehan/.conda/envs/pythonProject/lib/python3.10/site-packages/sklearn/linear_model/_sag.py:349: ConvergenceWarning: The max_iter was reached which means the coef_ did not converge\n",
      "  warnings.warn(\n",
      "/Users/chloefeehan/.conda/envs/pythonProject/lib/python3.10/site-packages/sklearn/linear_model/_sag.py:349: ConvergenceWarning: The max_iter was reached which means the coef_ did not converge\n",
      "  warnings.warn(\n",
      "/Users/chloefeehan/.conda/envs/pythonProject/lib/python3.10/site-packages/sklearn/linear_model/_sag.py:349: ConvergenceWarning: The max_iter was reached which means the coef_ did not converge\n",
      "  warnings.warn(\n",
      "/Users/chloefeehan/.conda/envs/pythonProject/lib/python3.10/site-packages/sklearn/linear_model/_sag.py:349: ConvergenceWarning: The max_iter was reached which means the coef_ did not converge\n",
      "  warnings.warn(\n",
      "/Users/chloefeehan/.conda/envs/pythonProject/lib/python3.10/site-packages/sklearn/linear_model/_sag.py:349: ConvergenceWarning: The max_iter was reached which means the coef_ did not converge\n",
      "  warnings.warn(\n",
      "/Users/chloefeehan/.conda/envs/pythonProject/lib/python3.10/site-packages/sklearn/linear_model/_sag.py:349: ConvergenceWarning: The max_iter was reached which means the coef_ did not converge\n",
      "  warnings.warn(\n",
      "/Users/chloefeehan/.conda/envs/pythonProject/lib/python3.10/site-packages/sklearn/linear_model/_sag.py:349: ConvergenceWarning: The max_iter was reached which means the coef_ did not converge\n",
      "  warnings.warn(\n",
      "/Users/chloefeehan/.conda/envs/pythonProject/lib/python3.10/site-packages/sklearn/linear_model/_sag.py:349: ConvergenceWarning: The max_iter was reached which means the coef_ did not converge\n",
      "  warnings.warn(\n",
      "/Users/chloefeehan/.conda/envs/pythonProject/lib/python3.10/site-packages/sklearn/linear_model/_sag.py:349: ConvergenceWarning: The max_iter was reached which means the coef_ did not converge\n",
      "  warnings.warn(\n",
      "/Users/chloefeehan/.conda/envs/pythonProject/lib/python3.10/site-packages/sklearn/linear_model/_sag.py:349: ConvergenceWarning: The max_iter was reached which means the coef_ did not converge\n",
      "  warnings.warn(\n",
      "/Users/chloefeehan/.conda/envs/pythonProject/lib/python3.10/site-packages/sklearn/linear_model/_sag.py:349: ConvergenceWarning: The max_iter was reached which means the coef_ did not converge\n",
      "  warnings.warn(\n",
      "/Users/chloefeehan/.conda/envs/pythonProject/lib/python3.10/site-packages/sklearn/linear_model/_sag.py:349: ConvergenceWarning: The max_iter was reached which means the coef_ did not converge\n",
      "  warnings.warn(\n",
      "/Users/chloefeehan/.conda/envs/pythonProject/lib/python3.10/site-packages/sklearn/linear_model/_sag.py:349: ConvergenceWarning: The max_iter was reached which means the coef_ did not converge\n",
      "  warnings.warn(\n",
      "/Users/chloefeehan/.conda/envs/pythonProject/lib/python3.10/site-packages/sklearn/linear_model/_sag.py:349: ConvergenceWarning: The max_iter was reached which means the coef_ did not converge\n",
      "  warnings.warn(\n",
      "/Users/chloefeehan/.conda/envs/pythonProject/lib/python3.10/site-packages/sklearn/linear_model/_sag.py:349: ConvergenceWarning: The max_iter was reached which means the coef_ did not converge\n",
      "  warnings.warn(\n",
      "/Users/chloefeehan/.conda/envs/pythonProject/lib/python3.10/site-packages/sklearn/linear_model/_sag.py:349: ConvergenceWarning: The max_iter was reached which means the coef_ did not converge\n",
      "  warnings.warn(\n",
      "/Users/chloefeehan/.conda/envs/pythonProject/lib/python3.10/site-packages/sklearn/linear_model/_sag.py:349: ConvergenceWarning: The max_iter was reached which means the coef_ did not converge\n",
      "  warnings.warn(\n",
      "/Users/chloefeehan/.conda/envs/pythonProject/lib/python3.10/site-packages/sklearn/linear_model/_sag.py:349: ConvergenceWarning: The max_iter was reached which means the coef_ did not converge\n",
      "  warnings.warn(\n",
      "/Users/chloefeehan/.conda/envs/pythonProject/lib/python3.10/site-packages/sklearn/linear_model/_sag.py:349: ConvergenceWarning: The max_iter was reached which means the coef_ did not converge\n",
      "  warnings.warn(\n",
      "/Users/chloefeehan/.conda/envs/pythonProject/lib/python3.10/site-packages/sklearn/linear_model/_sag.py:349: ConvergenceWarning: The max_iter was reached which means the coef_ did not converge\n",
      "  warnings.warn(\n",
      "/Users/chloefeehan/.conda/envs/pythonProject/lib/python3.10/site-packages/sklearn/linear_model/_sag.py:349: ConvergenceWarning: The max_iter was reached which means the coef_ did not converge\n",
      "  warnings.warn(\n",
      "/Users/chloefeehan/.conda/envs/pythonProject/lib/python3.10/site-packages/sklearn/linear_model/_sag.py:349: ConvergenceWarning: The max_iter was reached which means the coef_ did not converge\n",
      "  warnings.warn(\n",
      "/Users/chloefeehan/.conda/envs/pythonProject/lib/python3.10/site-packages/sklearn/linear_model/_sag.py:349: ConvergenceWarning: The max_iter was reached which means the coef_ did not converge\n",
      "  warnings.warn(\n",
      "/Users/chloefeehan/.conda/envs/pythonProject/lib/python3.10/site-packages/sklearn/linear_model/_sag.py:349: ConvergenceWarning: The max_iter was reached which means the coef_ did not converge\n",
      "  warnings.warn(\n",
      "/Users/chloefeehan/.conda/envs/pythonProject/lib/python3.10/site-packages/sklearn/linear_model/_sag.py:349: ConvergenceWarning: The max_iter was reached which means the coef_ did not converge\n",
      "  warnings.warn(\n",
      "/Users/chloefeehan/.conda/envs/pythonProject/lib/python3.10/site-packages/sklearn/linear_model/_sag.py:349: ConvergenceWarning: The max_iter was reached which means the coef_ did not converge\n",
      "  warnings.warn(\n",
      "/Users/chloefeehan/.conda/envs/pythonProject/lib/python3.10/site-packages/sklearn/linear_model/_sag.py:349: ConvergenceWarning: The max_iter was reached which means the coef_ did not converge\n",
      "  warnings.warn(\n"
     ]
    },
    {
     "name": "stdout",
     "output_type": "stream",
     "text": [
      "Best ROC AUC (Cross-Validation): 0.8603\n",
      "Test ROC AUC: 0.8886\n",
      "Best ROC AUC (Cross-Validation): 0.8603\n",
      "Test ROC AUC: 0.8886\n"
     ]
    },
    {
     "name": "stderr",
     "output_type": "stream",
     "text": [
      "/Users/chloefeehan/.conda/envs/pythonProject/lib/python3.10/site-packages/sklearn/linear_model/_sag.py:349: ConvergenceWarning: The max_iter was reached which means the coef_ did not converge\n",
      "  warnings.warn(\n",
      "/Users/chloefeehan/.conda/envs/pythonProject/lib/python3.10/site-packages/sklearn/linear_model/_sag.py:349: ConvergenceWarning: The max_iter was reached which means the coef_ did not converge\n",
      "  warnings.warn(\n",
      "/Users/chloefeehan/.conda/envs/pythonProject/lib/python3.10/site-packages/sklearn/linear_model/_sag.py:349: ConvergenceWarning: The max_iter was reached which means the coef_ did not converge\n",
      "  warnings.warn(\n",
      "/Users/chloefeehan/.conda/envs/pythonProject/lib/python3.10/site-packages/sklearn/linear_model/_sag.py:349: ConvergenceWarning: The max_iter was reached which means the coef_ did not converge\n",
      "  warnings.warn(\n",
      "/Users/chloefeehan/.conda/envs/pythonProject/lib/python3.10/site-packages/sklearn/linear_model/_sag.py:349: ConvergenceWarning: The max_iter was reached which means the coef_ did not converge\n",
      "  warnings.warn(\n",
      "/Users/chloefeehan/.conda/envs/pythonProject/lib/python3.10/site-packages/sklearn/linear_model/_sag.py:349: ConvergenceWarning: The max_iter was reached which means the coef_ did not converge\n",
      "  warnings.warn(\n",
      "/Users/chloefeehan/.conda/envs/pythonProject/lib/python3.10/site-packages/sklearn/linear_model/_sag.py:349: ConvergenceWarning: The max_iter was reached which means the coef_ did not converge\n",
      "  warnings.warn(\n",
      "/Users/chloefeehan/.conda/envs/pythonProject/lib/python3.10/site-packages/sklearn/linear_model/_sag.py:349: ConvergenceWarning: The max_iter was reached which means the coef_ did not converge\n",
      "  warnings.warn(\n",
      "/Users/chloefeehan/.conda/envs/pythonProject/lib/python3.10/site-packages/sklearn/linear_model/_sag.py:349: ConvergenceWarning: The max_iter was reached which means the coef_ did not converge\n",
      "  warnings.warn(\n",
      "/Users/chloefeehan/.conda/envs/pythonProject/lib/python3.10/site-packages/sklearn/linear_model/_sag.py:349: ConvergenceWarning: The max_iter was reached which means the coef_ did not converge\n",
      "  warnings.warn(\n",
      "/Users/chloefeehan/.conda/envs/pythonProject/lib/python3.10/site-packages/sklearn/linear_model/_sag.py:349: ConvergenceWarning: The max_iter was reached which means the coef_ did not converge\n",
      "  warnings.warn(\n",
      "/Users/chloefeehan/.conda/envs/pythonProject/lib/python3.10/site-packages/sklearn/linear_model/_sag.py:349: ConvergenceWarning: The max_iter was reached which means the coef_ did not converge\n",
      "  warnings.warn(\n",
      "/Users/chloefeehan/.conda/envs/pythonProject/lib/python3.10/site-packages/sklearn/linear_model/_sag.py:349: ConvergenceWarning: The max_iter was reached which means the coef_ did not converge\n",
      "  warnings.warn(\n"
     ]
    },
    {
     "data": {
      "image/png": "[encoded data removed]",
      "text/plain": [
       "<Figure size 640x480 with 2 Axes>"
      ]
     },
     "metadata": {},
     "output_type": "display_data"
    },
    {
     "name": "stdout",
     "output_type": "stream",
     "text": [
      "Classification Report:\n",
      "              precision    recall  f1-score   support\n",
      "\n",
      "           0       0.86      0.73      0.79        26\n",
      "           1       0.79      0.90      0.84        29\n",
      "\n",
      "    accuracy                           0.82        55\n",
      "   macro avg       0.83      0.81      0.82        55\n",
      "weighted avg       0.82      0.82      0.82        55\n",
      "\n",
      "Model Coefficients:\n",
      "[[ 1.12251609 -0.74974079 -1.33587658  0.68653759  0.78551425  0.23660004  0.0947962   0.49182042 -0.21384131 -0.21954178 -0.38550816 -0.15737508  0.8234291 ]]\n",
      "Classification Report:\n",
      "              precision    recall  f1-score   support\n",
      "\n",
      "           0       0.86      0.73      0.79        26\n",
      "           1       0.79      0.90      0.84        29\n",
      "\n",
      "    accuracy                           0.82        55\n",
      "   macro avg       0.83      0.81      0.82        55\n",
      "weighted avg       0.82      0.82      0.82        55\n",
      "\n",
      "Model Coefficients:\n",
      "[[ 1.12251609 -0.74974079 -1.33587658  0.68653759  0.78551425  0.23660004  0.0947962   0.49182042 -0.21384131 -0.21954178 -0.38550816 -0.15737508  0.8234291 ]]\n"
     ]
    },
    {
     "name": "stdout",
     "output_type": "stream",
     "text": [
      "Best ROC AUC (Cross-Validation): 0.7924\n",
      "Test ROC AUC: 0.8130\n",
      "Best ROC AUC (Cross-Validation): 0.7924\n",
      "Test ROC AUC: 0.8130\n"
     ]
    },
    {
     "name": "stderr",
     "output_type": "stream",
     "text": [
      "/Users/chloefeehan/.conda/envs/pythonProject/lib/python3.10/site-packages/numpy/ma/core.py:2881: RuntimeWarning: invalid value encountered in cast\n",
      "  _data = np.array(data, dtype=dtype, copy=copy,\n"
     ]
    },
    {
     "data": {
      "image/png": "[encoded data removed]",
      "text/plain": [
       "<Figure size 640x480 with 2 Axes>"
      ]
     },
     "metadata": {},
     "output_type": "display_data"
    },
    {
     "name": "stdout",
     "output_type": "stream",
     "text": [
      "Classification Report:\n",
      "              precision    recall  f1-score   support\n",
      "\n",
      "           0       0.76      0.73      0.75        26\n",
      "           1       0.77      0.79      0.78        29\n",
      "\n",
      "    accuracy                           0.76        55\n",
      "   macro avg       0.76      0.76      0.76        55\n",
      "weighted avg       0.76      0.76      0.76        55\n",
      "\n",
      "Feature Importances:\n",
      "[0.         0.09063313 0.53248296 0.         0.         0.         0.         0.         0.         0.17248158 0.0417315  0.         0.16267083]\n",
      "Classification Report:\n",
      "              precision    recall  f1-score   support\n",
      "\n",
      "           0       0.76      0.73      0.75        26\n",
      "           1       0.77      0.79      0.78        29\n",
      "\n",
      "    accuracy                           0.76        55\n",
      "   macro avg       0.76      0.76      0.76        55\n",
      "weighted avg       0.76      0.76      0.76        55\n",
      "\n",
      "Feature Importances:\n",
      "[0.         0.09063313 0.53248296 0.         0.         0.         0.         0.         0.         0.17248158 0.0417315  0.         0.16267083]\n"
     ]
    }
   ],
   "source": [
    "from sklearn.model_selection import train_test_split, GridSearchCV\n",
    "from sklearn.pipeline import Pipeline\n",
    "from sklearn.compose import ColumnTransformer\n",
    "from sklearn.metrics import confusion_matrix, classification_report, roc_auc_score\n",
    "import numpy as np\n",
    "import seaborn as sns\n",
    "import matplotlib.pyplot as plt\n",
    "\n",
    "# Define the function\n",
    "def evaluate_model(classifier, X, y, param_grid, cv=5):\n",
    "    \"\"\"\n",
    "    Evaluates a classifier using GridSearchCV based on ROC AUC, and reports the results.\n",
    "    \n",
    "    Parameters:\n",
    "    - classifier: The model to be evaluated (e.g., KNeighborsClassifier, LogisticRegression, DecisionTreeClassifier)\n",
    "    - X: Feature matrix\n",
    "    - y: Target variable\n",
    "    - param_grid: Dictionary of hyperparameters for GridSearchCV\n",
    "    - cv: Cross-validation folds (default is 5)\n",
    "    \"\"\"\n",
    "    # Split data into training and testing sets\n",
    "    X_train, X_test, y_train, y_test = train_test_split(X, y, test_size=0.2, random_state=1, stratify=y)\n",
    "\n",
    "    # Create pipeline with preprocessing and classifier\n",
    "    knn_pipeline = Pipeline([\n",
    "        ('preprocessor', ct),\n",
    "        ('classifier', classifier)\n",
    "    ])\n",
    "\n",
    "    # Use GridSearchCV for hyperparameter tuning\n",
    "    grid_search = GridSearchCV(knn_pipeline, param_grid, cv=cv, scoring='roc_auc', n_jobs=-1)\n",
    "    grid_search.fit(X_train, y_train)\n",
    "\n",
    "    # Get the best model and ROC AUC score from cross-validation\n",
    "    best_model = grid_search.best_estimator_\n",
    "    best_score = grid_search.best_score_\n",
    "\n",
    "    print(f\"Best ROC AUC (Cross-Validation): {best_score:.4f}\")\n",
    "\n",
    "    # Evaluate the best model on the test set\n",
    "    y_test_pred = best_model.predict(X_test)\n",
    "    y_test_pred_prob = best_model.predict_proba(X_test)[:, 1]\n",
    "    test_roc_auc = roc_auc_score(y_test, y_test_pred_prob)\n",
    "    print(f\"Test ROC AUC: {test_roc_auc:.4f}\")\n",
    "\n",
    "    # Display the confusion matrix\n",
    "    conf_matrix = confusion_matrix(y_test, y_test_pred)\n",
    "    sns.heatmap(conf_matrix, annot=True, fmt='d', cmap='Blues', xticklabels=['No Attack', 'Attack'], yticklabels=['No Attack', 'Attack'])\n",
    "    plt.xlabel('Predicted')\n",
    "    plt.ylabel('Actual')\n",
    "    plt.title('Confusion Matrix')\n",
    "    plt.show()\n",
    "\n",
    "    # Output classification report\n",
    "    print(\"Classification Report:\")\n",
    "    print(classification_report(y_test, y_test_pred))\n",
    "\n",
    "    # If applicable (e.g., Logistic Regression or Decision Tree), interpret coefficients/feature importances\n",
    "    if hasattr(best_model.named_steps['classifier'], 'coef_'):  # Logistic Regression\n",
    "        print(\"Model Coefficients:\")\n",
    "        print(best_model.named_steps['classifier'].coef_)\n",
    "    elif hasattr(best_model.named_steps['classifier'], 'feature_importances_'):  # Decision Tree\n",
    "        print(\"Feature Importances:\")\n",
    "        print(best_model.named_steps['classifier'].feature_importances_)\n",
    "\n",
    "# Example usage for KNN, Logistic Regression, and Decision Tree\n",
    "from sklearn.linear_model import LogisticRegression\n",
    "from sklearn.tree import DecisionTreeClassifier\n",
    "from sklearn.neighbors import KNeighborsClassifier\n",
    "\n",
    "# Define the parameter grids for each model\n",
    "knn_param_grid = {\n",
    "    'classifier__n_neighbors': np.arange(1, 31),\n",
    "    'classifier__weights': ['uniform', 'distance'],\n",
    "    'classifier__metric': ['euclidean', 'manhattan']\n",
    "}\n",
    "\n",
    "log_reg_param_grid = {\n",
    "    'classifier__C': np.logspace(-4, 4, 20),  # Regularization strength\n",
    "    'classifier__solver': ['liblinear', 'saga']\n",
    "}\n",
    "\n",
    "dt_param_grid = {\n",
    "    'classifier__max_depth': np.arange(1, 21),\n",
    "    'classifier__min_samples_split': [2, 5, 10],\n",
    "    'classifier__min_samples_leaf': [1, 2, 4]\n",
    "}\n",
    "\n",
    "# Call the function with different classifiers\n",
    "\n",
    "# For KNN\n",
    "evaluate_model(KNeighborsClassifier(), X, y, knn_param_grid)\n",
    "\n",
    "# For Logistic Regression\n",
    "evaluate_model(LogisticRegression(), X, y, log_reg_param_grid)\n",
    "\n",
    "# For Decision Tree\n",
    "evaluate_model(DecisionTreeClassifier(), X, y, dt_param_grid)\n"
   ]
  }
 ],
 "metadata": {
  "language_info": {
   "name": "raw"
  }
 },
 "nbformat": 4,
 "nbformat_minor": 2
}
