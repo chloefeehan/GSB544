{
 "cells": [
  {
   "cell_type": "raw",
   "metadata": {},
   "source": [
    "---\n",
    "title: \"Practice Activity: kNN and Decision Trees\"\n",
    "author: \"Chloe Feehan\"\n",
    "format: \n",
    "  html:\n",
    "    code-fold: true\n",
    "    embed-resources: true\n",
    "    toc: true\n",
    "theme: flatly\n",
    "---"
   ]
  },
  {
   "cell_type": "code",
   "execution_count": 46,
   "metadata": {
    "vscode": {
     "languageId": "python"
    }
   },
   "outputs": [],
   "source": [
    "import pandas as pd\n",
    "import numpy as np\n",
    "from sklearn.pipeline import Pipeline\n",
    "from sklearn.neighbors import KNeighborsRegressor\n",
    "from sklearn.tree import DecisionTreeRegressor\n",
    "from sklearn.compose import make_column_selector, ColumnTransformer\n",
    "from palmerpenguins import load_penguins\n",
    "from sklearn.preprocessing import StandardScaler, OneHotEncoder, PolynomialFeatures\n",
    "from sklearn.linear_model import LinearRegression\n",
    "from sklearn.model_selection import train_test_split\n",
    "from sklearn.metrics import mean_squared_error\n",
    "from plotnine import *"
   ]
  },
  {
   "cell_type": "markdown",
   "metadata": {},
   "source": [
    "# Palmer Penguins Modeling\n",
    "Import the Palmer Penguins dataset and print out the first few rows."
   ]
  },
  {
   "cell_type": "code",
   "execution_count": 24,
   "metadata": {
    "vscode": {
     "languageId": "python"
    }
   },
   "outputs": [
    {
     "data": {
      "text/html": [
       "<div>\n",
       "<style scoped>\n",
       "    .dataframe tbody tr th:only-of-type {\n",
       "        vertical-align: middle;\n",
       "    }\n",
       "\n",
       "    .dataframe tbody tr th {\n",
       "        vertical-align: top;\n",
       "    }\n",
       "\n",
       "    .dataframe thead th {\n",
       "        text-align: right;\n",
       "    }\n",
       "</style>\n",
       "<table border=\"1\" class=\"dataframe\">\n",
       "  <thead>\n",
       "    <tr style=\"text-align: right;\">\n",
       "      <th></th>\n",
       "      <th>species</th>\n",
       "      <th>island</th>\n",
       "      <th>bill_length_mm</th>\n",
       "      <th>bill_depth_mm</th>\n",
       "      <th>flipper_length_mm</th>\n",
       "      <th>body_mass_g</th>\n",
       "      <th>sex</th>\n",
       "      <th>year</th>\n",
       "    </tr>\n",
       "  </thead>\n",
       "  <tbody>\n",
       "    <tr>\n",
       "      <th>0</th>\n",
       "      <td>Adelie</td>\n",
       "      <td>Torgersen</td>\n",
       "      <td>39.1</td>\n",
       "      <td>18.7</td>\n",
       "      <td>181.0</td>\n",
       "      <td>3750.0</td>\n",
       "      <td>male</td>\n",
       "      <td>2007</td>\n",
       "    </tr>\n",
       "    <tr>\n",
       "      <th>1</th>\n",
       "      <td>Adelie</td>\n",
       "      <td>Torgersen</td>\n",
       "      <td>39.5</td>\n",
       "      <td>17.4</td>\n",
       "      <td>186.0</td>\n",
       "      <td>3800.0</td>\n",
       "      <td>female</td>\n",
       "      <td>2007</td>\n",
       "    </tr>\n",
       "    <tr>\n",
       "      <th>2</th>\n",
       "      <td>Adelie</td>\n",
       "      <td>Torgersen</td>\n",
       "      <td>40.3</td>\n",
       "      <td>18.0</td>\n",
       "      <td>195.0</td>\n",
       "      <td>3250.0</td>\n",
       "      <td>female</td>\n",
       "      <td>2007</td>\n",
       "    </tr>\n",
       "    <tr>\n",
       "      <th>4</th>\n",
       "      <td>Adelie</td>\n",
       "      <td>Torgersen</td>\n",
       "      <td>36.7</td>\n",
       "      <td>19.3</td>\n",
       "      <td>193.0</td>\n",
       "      <td>3450.0</td>\n",
       "      <td>female</td>\n",
       "      <td>2007</td>\n",
       "    </tr>\n",
       "    <tr>\n",
       "      <th>5</th>\n",
       "      <td>Adelie</td>\n",
       "      <td>Torgersen</td>\n",
       "      <td>39.3</td>\n",
       "      <td>20.6</td>\n",
       "      <td>190.0</td>\n",
       "      <td>3650.0</td>\n",
       "      <td>male</td>\n",
       "      <td>2007</td>\n",
       "    </tr>\n",
       "  </tbody>\n",
       "</table>\n",
       "</div>"
      ],
      "text/plain": [
       "  species     island  bill_length_mm  bill_depth_mm  flipper_length_mm  body_mass_g     sex  year\n",
       "0  Adelie  Torgersen            39.1           18.7              181.0       3750.0    male  2007\n",
       "1  Adelie  Torgersen            39.5           17.4              186.0       3800.0  female  2007\n",
       "2  Adelie  Torgersen            40.3           18.0              195.0       3250.0  female  2007\n",
       "4  Adelie  Torgersen            36.7           19.3              193.0       3450.0  female  2007\n",
       "5  Adelie  Torgersen            39.3           20.6              190.0       3650.0    male  2007"
      ]
     },
     "execution_count": null,
     "metadata": {},
     "output_type": "execute_result"
    }
   ],
   "source": [
    "penguins = load_penguins()\n",
    "penguins = penguins.dropna()\n",
    "penguins.head()"
   ]
  },
  {
   "cell_type": "markdown",
   "metadata": {},
   "source": [
    "Suppose we want to predict bill_depth_mm using the other variables in the dataset.\n",
    "\n",
    "Dummify all variables that require this."
   ]
  },
  {
   "cell_type": "code",
   "execution_count": 25,
   "metadata": {
    "vscode": {
     "languageId": "python"
    }
   },
   "outputs": [
    {
     "data": {
      "text/html": [
       "<div>\n",
       "<style scoped>\n",
       "    .dataframe tbody tr th:only-of-type {\n",
       "        vertical-align: middle;\n",
       "    }\n",
       "\n",
       "    .dataframe tbody tr th {\n",
       "        vertical-align: top;\n",
       "    }\n",
       "\n",
       "    .dataframe thead th {\n",
       "        text-align: right;\n",
       "    }\n",
       "</style>\n",
       "<table border=\"1\" class=\"dataframe\">\n",
       "  <thead>\n",
       "    <tr style=\"text-align: right;\">\n",
       "      <th></th>\n",
       "      <th>dummify__species_Adelie</th>\n",
       "      <th>dummify__species_Chinstrap</th>\n",
       "      <th>dummify__species_Gentoo</th>\n",
       "      <th>dummify__island_Biscoe</th>\n",
       "      <th>dummify__island_Dream</th>\n",
       "      <th>dummify__island_Torgersen</th>\n",
       "      <th>dummify__sex_female</th>\n",
       "      <th>dummify__sex_male</th>\n",
       "      <th>remainder__bill_length_mm</th>\n",
       "      <th>remainder__flipper_length_mm</th>\n",
       "      <th>remainder__body_mass_g</th>\n",
       "      <th>remainder__year</th>\n",
       "    </tr>\n",
       "  </thead>\n",
       "  <tbody>\n",
       "    <tr>\n",
       "      <th>0</th>\n",
       "      <td>1.0</td>\n",
       "      <td>0.0</td>\n",
       "      <td>0.0</td>\n",
       "      <td>0.0</td>\n",
       "      <td>0.0</td>\n",
       "      <td>1.0</td>\n",
       "      <td>0.0</td>\n",
       "      <td>1.0</td>\n",
       "      <td>39.1</td>\n",
       "      <td>181.0</td>\n",
       "      <td>3750.0</td>\n",
       "      <td>2007.0</td>\n",
       "    </tr>\n",
       "    <tr>\n",
       "      <th>1</th>\n",
       "      <td>1.0</td>\n",
       "      <td>0.0</td>\n",
       "      <td>0.0</td>\n",
       "      <td>0.0</td>\n",
       "      <td>0.0</td>\n",
       "      <td>1.0</td>\n",
       "      <td>1.0</td>\n",
       "      <td>0.0</td>\n",
       "      <td>39.5</td>\n",
       "      <td>186.0</td>\n",
       "      <td>3800.0</td>\n",
       "      <td>2007.0</td>\n",
       "    </tr>\n",
       "    <tr>\n",
       "      <th>2</th>\n",
       "      <td>1.0</td>\n",
       "      <td>0.0</td>\n",
       "      <td>0.0</td>\n",
       "      <td>0.0</td>\n",
       "      <td>0.0</td>\n",
       "      <td>1.0</td>\n",
       "      <td>1.0</td>\n",
       "      <td>0.0</td>\n",
       "      <td>40.3</td>\n",
       "      <td>195.0</td>\n",
       "      <td>3250.0</td>\n",
       "      <td>2007.0</td>\n",
       "    </tr>\n",
       "    <tr>\n",
       "      <th>3</th>\n",
       "      <td>1.0</td>\n",
       "      <td>0.0</td>\n",
       "      <td>0.0</td>\n",
       "      <td>0.0</td>\n",
       "      <td>0.0</td>\n",
       "      <td>1.0</td>\n",
       "      <td>1.0</td>\n",
       "      <td>0.0</td>\n",
       "      <td>36.7</td>\n",
       "      <td>193.0</td>\n",
       "      <td>3450.0</td>\n",
       "      <td>2007.0</td>\n",
       "    </tr>\n",
       "    <tr>\n",
       "      <th>4</th>\n",
       "      <td>1.0</td>\n",
       "      <td>0.0</td>\n",
       "      <td>0.0</td>\n",
       "      <td>0.0</td>\n",
       "      <td>0.0</td>\n",
       "      <td>1.0</td>\n",
       "      <td>0.0</td>\n",
       "      <td>1.0</td>\n",
       "      <td>39.3</td>\n",
       "      <td>190.0</td>\n",
       "      <td>3650.0</td>\n",
       "      <td>2007.0</td>\n",
       "    </tr>\n",
       "    <tr>\n",
       "      <th>...</th>\n",
       "      <td>...</td>\n",
       "      <td>...</td>\n",
       "      <td>...</td>\n",
       "      <td>...</td>\n",
       "      <td>...</td>\n",
       "      <td>...</td>\n",
       "      <td>...</td>\n",
       "      <td>...</td>\n",
       "      <td>...</td>\n",
       "      <td>...</td>\n",
       "      <td>...</td>\n",
       "      <td>...</td>\n",
       "    </tr>\n",
       "    <tr>\n",
       "      <th>328</th>\n",
       "      <td>0.0</td>\n",
       "      <td>1.0</td>\n",
       "      <td>0.0</td>\n",
       "      <td>0.0</td>\n",
       "      <td>1.0</td>\n",
       "      <td>0.0</td>\n",
       "      <td>0.0</td>\n",
       "      <td>1.0</td>\n",
       "      <td>55.8</td>\n",
       "      <td>207.0</td>\n",
       "      <td>4000.0</td>\n",
       "      <td>2009.0</td>\n",
       "    </tr>\n",
       "    <tr>\n",
       "      <th>329</th>\n",
       "      <td>0.0</td>\n",
       "      <td>1.0</td>\n",
       "      <td>0.0</td>\n",
       "      <td>0.0</td>\n",
       "      <td>1.0</td>\n",
       "      <td>0.0</td>\n",
       "      <td>1.0</td>\n",
       "      <td>0.0</td>\n",
       "      <td>43.5</td>\n",
       "      <td>202.0</td>\n",
       "      <td>3400.0</td>\n",
       "      <td>2009.0</td>\n",
       "    </tr>\n",
       "    <tr>\n",
       "      <th>330</th>\n",
       "      <td>0.0</td>\n",
       "      <td>1.0</td>\n",
       "      <td>0.0</td>\n",
       "      <td>0.0</td>\n",
       "      <td>1.0</td>\n",
       "      <td>0.0</td>\n",
       "      <td>0.0</td>\n",
       "      <td>1.0</td>\n",
       "      <td>49.6</td>\n",
       "      <td>193.0</td>\n",
       "      <td>3775.0</td>\n",
       "      <td>2009.0</td>\n",
       "    </tr>\n",
       "    <tr>\n",
       "      <th>331</th>\n",
       "      <td>0.0</td>\n",
       "      <td>1.0</td>\n",
       "      <td>0.0</td>\n",
       "      <td>0.0</td>\n",
       "      <td>1.0</td>\n",
       "      <td>0.0</td>\n",
       "      <td>0.0</td>\n",
       "      <td>1.0</td>\n",
       "      <td>50.8</td>\n",
       "      <td>210.0</td>\n",
       "      <td>4100.0</td>\n",
       "      <td>2009.0</td>\n",
       "    </tr>\n",
       "    <tr>\n",
       "      <th>332</th>\n",
       "      <td>0.0</td>\n",
       "      <td>1.0</td>\n",
       "      <td>0.0</td>\n",
       "      <td>0.0</td>\n",
       "      <td>1.0</td>\n",
       "      <td>0.0</td>\n",
       "      <td>1.0</td>\n",
       "      <td>0.0</td>\n",
       "      <td>50.2</td>\n",
       "      <td>198.0</td>\n",
       "      <td>3775.0</td>\n",
       "      <td>2009.0</td>\n",
       "    </tr>\n",
       "  </tbody>\n",
       "</table>\n",
       "<p>333 rows × 12 columns</p>\n",
       "</div>"
      ],
      "text/plain": [
       "     dummify__species_Adelie  dummify__species_Chinstrap  dummify__species_Gentoo  ...  remainder__flipper_length_mm  remainder__body_mass_g  remainder__year\n",
       "0                        1.0                         0.0                      0.0  ...                         181.0                  3750.0           2007.0\n",
       "1                        1.0                         0.0                      0.0  ...                         186.0                  3800.0           2007.0\n",
       "2                        1.0                         0.0                      0.0  ...                         195.0                  3250.0           2007.0\n",
       "3                        1.0                         0.0                      0.0  ...                         193.0                  3450.0           2007.0\n",
       "4                        1.0                         0.0                      0.0  ...                         190.0                  3650.0           2007.0\n",
       "..                       ...                         ...                      ...  ...                           ...                     ...              ...\n",
       "328                      0.0                         1.0                      0.0  ...                         207.0                  4000.0           2009.0\n",
       "329                      0.0                         1.0                      0.0  ...                         202.0                  3400.0           2009.0\n",
       "330                      0.0                         1.0                      0.0  ...                         193.0                  3775.0           2009.0\n",
       "331                      0.0                         1.0                      0.0  ...                         210.0                  4100.0           2009.0\n",
       "332                      0.0                         1.0                      0.0  ...                         198.0                  3775.0           2009.0\n",
       "\n",
       "[333 rows x 12 columns]"
      ]
     },
     "execution_count": null,
     "metadata": {},
     "output_type": "execute_result"
    }
   ],
   "source": [
    "ct = ColumnTransformer([(\"dummify\", OneHotEncoder(sparse_output = False, handle_unknown='ignore'),\n",
    "                                        make_column_selector(dtype_include=object))\n",
    "                            ],\n",
    "                                        remainder = \"passthrough\")\n",
    "\n",
    "penguins_pipeline = Pipeline([\n",
    "        (\"preprocessing\", ct)\n",
    "    ])\n",
    "\n",
    "X = penguins.drop([\"bill_depth_mm\"], axis = 1)\n",
    "y = penguins[\"bill_depth_mm\"]\n",
    "\n",
    "penguins_pipeline.fit(X)\n",
    "\n",
    "transformed_x = penguins_pipeline.named_steps[\"preprocessing\"].transform(X)\n",
    "transformed_df = pd.DataFrame(transformed_x, columns=penguins_pipeline.named_steps[\"preprocessing\"].get_feature_names_out())\n",
    "transformed_df\n"
   ]
  },
  {
   "cell_type": "markdown",
   "metadata": {},
   "source": [
    "Let's use the other variables to predict bill_depth_mm. Prepare your data and fit the following models on the entire dataset:\n",
    "\n",
    "* Your best multiple linear regression model from before\n",
    "* Two kNN models (for different values of K)\n",
    "* A decision tree model\n",
    "\n",
    "Create a plot like the right plot of Fig 1. in our Model Validation chapter with the training and test error plotted for each of your four models.\n",
    "\n",
    "Which of your models was best?"
   ]
  },
  {
   "cell_type": "markdown",
   "metadata": {},
   "source": [
    "### Linear model"
   ]
  },
  {
   "cell_type": "code",
   "execution_count": 45,
   "metadata": {
    "vscode": {
     "languageId": "python"
    }
   },
   "outputs": [],
   "source": [
    "\n",
    "X = penguins.drop([\"bill_depth_mm\"], axis = 1)\n",
    "y = penguins[\"bill_depth_mm\"]\n",
    "\n",
    "X_train, X_test, y_train, y_test = train_test_split(X, y, test_size=0.2, random_state=1)\n",
    "\n",
    "\n",
    "# fit linear model\n",
    "\n",
    "linear_pipeline = Pipeline([\n",
    "        (\"preprocessing\", ct),\n",
    "        (\"regression\", LinearRegression())\n",
    "    ])\n",
    "\n",
    "linear_fitted = linear_pipeline.fit(X_train, y_train)\n",
    "\n",
    "linear_pred_train = linear_fitted.predict(X_train)\n",
    "linear_pred_test = linear_fitted.predict(X_test)\n",
    "\n",
    "linear_mse_train = mean_squared_error(y_train, linear_pred_train)\n",
    "linear_mse_test = mean_squared_error(y_test, linear_pred_test)\n"
   ]
  },
  {
   "cell_type": "markdown",
   "metadata": {},
   "source": [
    "### kNN where k = 3"
   ]
  },
  {
   "cell_type": "code",
   "execution_count": 41,
   "metadata": {
    "vscode": {
     "languageId": "python"
    }
   },
   "outputs": [],
   "source": [
    "X = penguins.drop([\"bill_depth_mm\"], axis = 1)\n",
    "y = penguins[\"bill_depth_mm\"]\n",
    "\n",
    "X_train, X_test, y_train, y_test = train_test_split(X, y, test_size=0.2, random_state=1)\n",
    "\n",
    "# fit first kNN model where k = 3\n",
    "knn3_pipeline = Pipeline([\n",
    "        (\"preprocessing\", ct),\n",
    "        (\"knn3\", KNeighborsRegressor(n_neighbors= 3))\n",
    "    ])\n",
    "\n",
    "knn3_fitted = knn3_pipeline.fit(X_train, y_train)\n",
    "\n",
    "knn3_pred_train = knn3_fitted.predict(X_train)\n",
    "knn3_pred_test = knn3_fitted.predict(X_test)\n",
    "\n",
    "knn3_mse_train = mean_squared_error(y_train, knn3_pred_train)\n",
    "knn3_mse_test = mean_squared_error(y_test, knn3_pred_test)"
   ]
  },
  {
   "cell_type": "markdown",
   "metadata": {},
   "source": [
    "### kNN where k = 6"
   ]
  },
  {
   "cell_type": "code",
   "execution_count": 42,
   "metadata": {
    "vscode": {
     "languageId": "python"
    }
   },
   "outputs": [],
   "source": [
    "\n",
    "X = penguins.drop([\"bill_depth_mm\"], axis = 1)\n",
    "y = penguins[\"bill_depth_mm\"]\n",
    "\n",
    "X_train, X_test, y_train, y_test = train_test_split(X, y, test_size=0.2, random_state=1)\n",
    "\n",
    "# fit first kNN model where k = 6\n",
    "knn6_pipeline = Pipeline([\n",
    "        (\"preprocessing\", ct),\n",
    "        (\"knn6\", KNeighborsRegressor(n_neighbors= 6))\n",
    "    ])\n",
    "\n",
    "knn6_fitted = knn6_pipeline.fit(X_train, y_train)\n",
    "\n",
    "knn6_pred_train = knn6_fitted.predict(X_train)\n",
    "knn6_pred_test = knn6_fitted.predict(X_test)\n",
    "\n",
    "knn6_mse_train = mean_squared_error(y_train, knn6_pred_train)\n",
    "knn6_mse_test = mean_squared_error(y_test, knn6_pred_test)\n",
    "\n"
   ]
  },
  {
   "cell_type": "markdown",
   "metadata": {},
   "source": [
    "### Decision Tree"
   ]
  },
  {
   "cell_type": "code",
   "execution_count": 54,
   "metadata": {
    "vscode": {
     "languageId": "python"
    }
   },
   "outputs": [
    {
     "data": {
      "text/plain": [
       "np.float64(2.5973631840796028)"
      ]
     },
     "execution_count": null,
     "metadata": {},
     "output_type": "execute_result"
    }
   ],
   "source": [
    "# decision tree model\n",
    "\n",
    "X = penguins.drop([\"bill_depth_mm\"], axis = 1)\n",
    "y = penguins[\"bill_depth_mm\"]\n",
    "\n",
    "X_train, X_test, y_train, y_test = train_test_split(X, y, test_size=0.2, random_state=1)\n",
    "\n",
    "# fit first kNN model where k = 3\n",
    "tree_pipeline = Pipeline([\n",
    "        (\"preprocessing\", ct),\n",
    "        (\"decision_tree\", DecisionTreeRegressor(random_state=1))\n",
    "    ])\n",
    "\n",
    "tree_fitted = tree_pipeline.fit(X_train, y_train)\n",
    "\n",
    "tree_pred_train = tree_fitted.predict(X_train)\n",
    "tree_pred_test = tree_fitted.predict(X_test)\n",
    "\n",
    "tree_mse_train = mean_squared_error(y_train, tree_pred_train)\n",
    "tree_mse_test = mean_squared_error(y_test, tree_pred_test)\n"
   ]
  },
  {
   "cell_type": "markdown",
   "metadata": {},
   "source": [
    "### Plot"
   ]
  },
  {
   "cell_type": "code",
   "execution_count": 58,
   "metadata": {
    "vscode": {
     "languageId": "python"
    }
   },
   "outputs": [
    {
     "data": {
      "image/png": "[encoded data removed]"
     },
     "metadata": {},
     "output_type": "display_data"
    }
   ],
   "source": [
    "plot_df = pd.DataFrame({\n",
    "    \"Model\": [\"Linear\", \"kNN (k=3)\", \"kNN (k=6)\", \"Decision Tree\"],\n",
    "    \"Train\": [linear_mse_train, knn3_mse_train, knn6_mse_train, tree_mse_train],\n",
    "    \"Test\": [linear_mse_test, knn3_mse_test, knn6_mse_test, tree_mse_test]\n",
    "})\n",
    "\n",
    "plot_df_long = plot_df.melt(id_vars=\"Model\", value_vars=[\"Train\", \"Test\"],\n",
    "                            var_name=\"MSE Type\", value_name=\"MSE\")\n",
    "\n",
    "(ggplot(plot_df_long, aes(x=\"Model\", y=\"MSE\", color=\"MSE Type\", group=\"MSE Type\")) +\n",
    "    geom_line() +\n",
    "    geom_point() +\n",
    "    labs(title=\"Train and Test MSE by Model\", y=\"Mean Squared Error (MSE)\", x=\"Flexibility\") +\n",
    "    scale_x_discrete(limits=[\"Linear\", \"kNN (k=3)\", \"kNN (k=6)\", \"Decision Tree\"]))\n"
   ]
  },
  {
   "cell_type": "markdown",
   "metadata": {},
   "source": [
    "The linear model demonstrates the best performance as the training and the test MSE values are close to 0.5. The kNN model with k = 3 appears to be overfitting as it has a significantly smaller training MSE than test MSE. "
   ]
  }
 ],
 "metadata": {
  "language_info": {
   "name": "raw"
  }
 },
 "nbformat": 4,
 "nbformat_minor": 2
}
