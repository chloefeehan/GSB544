{
  "cells": [
    {
      "cell_type": "markdown",
      "metadata": {
        "id": "kPj76X_FP2uq"
      },
      "source": [
        "## Setup\n",
        "\n",
        "Run the code below to load the scrambled message:\n"
      ]
    },
    {
      "cell_type": "code",
      "execution_count": 86,
      "metadata": {
        "id": "YwkYMR2qP2ur"
      },
      "outputs": [],
      "source": [
        "import pandas as pd\n",
        "import re\n",
        "\n",
        "\n",
        "message = pd.read_csv(\"https://www.dropbox.com/s/lgpn3vmksk3ssdo/scrambled_message.txt?dl=1\")['Word']\n",
        "message = pd.DataFrame(message)"
      ]
    },
    {
      "cell_type": "code",
      "execution_count": 43,
      "metadata": {
        "colab": {
          "base_uri": "https://localhost:8080/"
        },
        "id": "rqykaCOxF1Z9",
        "outputId": "78651d97-c46b-4c24-b5e9-f67ae6a0ea1c"
      },
      "outputs": [
        {
          "data": {
            "text/plain": [
              "0                    Koila!\n",
              "1                     In   \n",
              "2                     kiew,\n",
              "3                         a\n",
              "4                 humble   \n",
              "               ...         \n",
              "122                     you\n",
              "123                 mabugh.\n",
              "124              ughhh?call\n",
              "125        meugh.ughhhh!   \n",
              "126                      K.\n",
              "Name: Word, Length: 127, dtype: object"
            ]
          },
          "execution_count": null,
          "metadata": {},
          "output_type": "execute_result"
        }
      ],
      "source": [
        "message"
      ]
    },
    {
      "cell_type": "markdown",
      "metadata": {
        "id": "cI8ZE3LAP2us"
      },
      "source": [
        "In this activity, a \"word\" refers to any set of characters with no white space, even though they are not truly an English word.  That is, even though many of elements of the scrambled message vector are nonsense, and some have punctuation, you can consider each element to be a \"word\".\n",
        "\n",
        "Beware!  The object named `message` is a **pandas Series** of strings.  If you want to use functions that expect a string, rather than a series, remember `.apply()` and `lambda` functions.\n",
        "\n"
      ]
    },
    {
      "cell_type": "markdown",
      "metadata": {
        "id": "dYISAD8uQLAy"
      },
      "source": [
        "\n",
        "## Warm-up exercises\n",
        "\n",
        "1. How many characters are in the scrambled message?\n",
        "2. How many of these characters are white space?\n",
        "3. How many words are in the scrambled message?\n",
        "4. Show all the punctuation marks in the scrambled message.\n",
        "5. Print out, in all capitals, the longest word in the scrambled message.\n",
        "6. Print out every piece of a word that starts with the letter \"m\" and ends with the letter \"z\" in the scrambled message."
      ]
    },
    {
      "cell_type": "code",
      "execution_count": 50,
      "metadata": {
        "id": "6vB1tbjiQNvE"
      },
      "outputs": [
        {
          "name": "stdout",
          "output_type": "stream",
          "text": [
            "892\n",
            "0\n",
            "kaudevillianugh?aoghajdbn\n",
            "892\n",
            "0\n",
            "kaudevillianugh?aoghajdbn\n"
          ]
        }
      ],
      "source": [
        "#question 1\n",
        "message = pd.DataFrame(message)\n",
        "total_char = message[\"Word\"].str.len().sum()\n",
        "print(total_char)\n",
        "\n",
        "#question 2\n",
        "only_char = message[\"Word\"].str.strip().str.len().sum()\n",
        "print(total_char - only_char)\n",
        "\n",
        "#question 3\n",
        "\n",
        "#question 4\n",
        "\n",
        "\n",
        "#question 5\n",
        "message[\"Word\"] = message[\"Word\"].str.strip()\n",
        "max_word = message.loc[message[\"Word\"].str.len().idxmax(), \"Word\"]\n",
        "print(max_word)\n",
        "\n",
        "\n",
        "#question 6\n",
        "matching_words = []\n",
        "\n",
        "# Iterate through each word in the 'Word' column\n",
        "for word in message[\"Word\"]:\n",
        "    # Use a regex pattern to find words that start with 'm' and end with 'z'\n",
        "    if re.match(r'^m.*z$', word, re.IGNORECASE):\n",
        "        matching_words.append(word)\n",
        "\n",
        "for word in matching_words:\n",
        "    print(word)\n",
        "\n"
      ]
    },
    {
      "cell_type": "markdown",
      "metadata": {
        "id": "l3iJnnCJQOh7"
      },
      "source": [
        "\n",
        "\n",
        "## Decode a message\n",
        "\n",
        "Complete the following steps to decode the message.  \n",
        "\n",
        "1. Remove any spaces before or after each word.\n",
        "2. Any time you see the word \"ugh\", with any number of h's, followed by a punctuation mark, delete this.\n",
        "3. No word should be longer than 16 characters. Drop all extra characters beyond 13 off the end of each word.\n",
        "4. Replace all instances of exactly 2 a's with exactly 2 e's.\n",
        "5. Replace all z's with t's.\n",
        "6. Every word that ends in b, change that to a y.  *Hint: look out for punctuation!*\n",
        "7. Every word that starts with k, change that to a v.  *Hint: look out for capitalization!*\n",
        "8. Use `.join()` to recombine all your words into a message.\n",
        "9. Find the movie this quote is from."
      ]
    },
    {
      "cell_type": "code",
      "execution_count": 92,
      "metadata": {
        "id": "RRfjUzxMQQ5j"
      },
      "outputs": [
        {
          "data": {
            "text/plain": [
              "'voila! In view, a humble vaudevilliana veteran, cast vicariously as both victim and villain by the vicissitudes of fate. This visage, no mere veneer of vanity, is a vestige of the vox populi now vacant, vanished. However, this valorous visitation of a bygone vexation stands vivified, and has vowed to vanquish these venal and virulent vermin, van guarding vice and vouchsafing the violently vicious and voracious violation of volition. The only verdict is vengeance; a vendetta, held as a votive not in vain, for the value and veracity of such shall one day vindicate the vigilant and the virtuous. verily this vichyssoise of verbiage veers most verbose, so let me simply add that its my very good honour to meet you and you may call me v.'"
            ]
          },
          "execution_count": null,
          "metadata": {},
          "output_type": "execute_result"
        }
      ],
      "source": [
        "# 1. remove spaces before/after each word\n",
        "message[\"Word\"] = message[\"Word\"].str.strip()\n",
        "\n",
        "# 2. delete any ugh followed by a punctuation mark\n",
        "message[\"Word\"] = message[\"Word\"].str.replace(r'ugh+[^\\w\\s]', \"\", regex = True, case = False)\n",
        "\n",
        "# 3. no word longer than 16 characters, drop all characers beyond 13\n",
        "message[\"Word\"] = message[\"Word\"].apply(lambda x: x[:13] if len(x) > 16 else x)\n",
        "\n",
        "# 4. Replace all instances of exactly 2 a's with exactly 2 e's\n",
        "message[\"Word\"] = message[\"Word\"].str.replace(\"aa\", \"ee\", case = False)\n",
        "\n",
        "# 5. Replace all z's with t's\n",
        "message[\"Word\"] = message[\"Word\"].str.replace(\"z\", \"t\", case = False)\n",
        "\n",
        "# 6. Every word that ends in b, change that to a y\n",
        "message[\"Word\"] = message[\"Word\"].str.replace(r'b[.,;:!?\\']?$', \"y\", regex = True)\n",
        "\n",
        "# 7. Every word that starts with k, change that to a v.\n",
        "message[\"Word\"] = message[\"Word\"].str.replace(r'\\b[kK]', \"v\", regex = True)\n",
        "\n",
        "# 8. Use `.join()` to recombine all your words into a message.\n",
        "\" \".join(message[\"Word\"])\n"
      ]
    }
  ],
  "metadata": {
    "colab": {
      "provenance": []
    },
    "kernelspec": {
      "display_name": "Python 3",
      "language": "python",
      "name": "python3"
    },
    "language_info": {
      "name": "python"
    }
  },
  "nbformat": 4,
  "nbformat_minor": 0
}
