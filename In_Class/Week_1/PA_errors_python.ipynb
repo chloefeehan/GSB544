{
  "cells": [
    {
      "cell_type": "raw",
      "metadata": {
        "id": "Wm7rfPnRrrqm"
      },
      "source": [
        "---\n",
        "title: 'Practice Activity: Basic Syntax'\n",
        "output: html\n",
        "---"
      ]
    },
    {
      "cell_type": "markdown",
      "metadata": {
        "id": "0mbR_4URrrqo"
      },
      "source": [
        "## Overview\n",
        "\n",
        "In this PA, you will will be creating and manipulating basic objects to uncover a top secret message.\n",
        "\n",
        "### Hint 1\n",
        "\n",
        "As you work through this PA, you will encounter some code that does not work as you want it to.  Don't despair!  Errors (when R is unable to run your code) and bugs (when the code doesn't do what you hoped) are a natural part of coding.  Even the best of the best deal with these problems regularly - learning to track down the issue is a skill that you can learn and practice.\n",
        "\n",
        "Google is your friend!  If an error is confusing, copy it into Google and see what other people are saying.  If you don't know how to do something, search for it.\n",
        "\n",
        "### Hint 2\n",
        "\n",
        "Just because there is no error message doesn't mean everything went smoothly.  You should be regularly printing out your objects, to see they contain the information and format that you expect.\n",
        "\n",
        "For example, if you have an object named `my_thing`, you might first want to simply look at the object by typing its name.\n",
        "\n",
        "However, you might also want to make sure it is the right **object type** and/or the right **object structure**.\n"
      ]
    },
    {
      "cell_type": "code",
      "execution_count": 271,
      "metadata": {
        "colab": {
          "base_uri": "https://localhost:8080/",
          "height": 162
        },
        "id": "D5pSzgxjrrqq",
        "outputId": "073448b9-c9aa-4aff-87f9-374fc19ce625"
      },
      "outputs": [
        {
          "ename": "NameError",
          "evalue": "name 'my_thing' is not defined",
          "output_type": "error",
          "traceback": [
            "\u001b[0;31m---------------------------------------------------------------------------\u001b[0m\n",
            "\u001b[0;31mNameError\u001b[0m                                 Traceback (most recent call last)\n",
            "Cell \u001b[0;32mIn[271], line 1\u001b[0m\n",
            "\u001b[0;32m----> 1\u001b[0m \u001b[38;5;28mtype\u001b[39m(\u001b[43mmy_thing\u001b[49m)\n",
            "\u001b[1;32m      2\u001b[0m \u001b[38;5;28mlen\u001b[39m(my_thing)\n",
            "\n",
            "\u001b[0;31mNameError\u001b[0m: name 'my_thing' is not defined"
          ]
        }
      ],
      "source": [
        "type(my_thing)\n",
        "len(my_thing)"
      ]
    },
    {
      "cell_type": "markdown",
      "metadata": {
        "id": "QpUJsmq0rrqr"
      },
      "source": [
        "## Part One: Setup\n",
        "\n",
        "Each of the following code chunks will cause an error and/or do the desired task incorrectly.  Find the mistake, and correct it to complete the intended action.\n",
        "\n",
        "\n",
        "\n",
        "\n",
        "1. Create lists containing the upper case letters, lower case letters, and some punctuation marks.\n"
      ]
    },
    {
      "cell_type": "code",
      "execution_count": 279,
      "metadata": {
        "colab": {
          "base_uri": "https://localhost:8080/",
          "height": 143
        },
        "id": "tk5bezBJrrqs",
        "outputId": "4ed6b62e-bd9b-41a0-831e-efc52b595226"
      },
      "outputs": [],
      "source": [
        "lower_case = [\"a\", \"b\", \"c\", \"d\", \"e\", \"f\", \"g\", \"h\", \"i\", \"j\", \"k\", \"l\", \"m\", \"n\", \"o\", \"p\", \"q\", \"r\", \"s\", \"t\", \"u\", \"v\", \"w\", \"x\", \"y\", \"z\"]\n",
        "\n",
        "upper_case = [\"A\", \"B\", \"C\", \"D\", \"E\", \"F\", \"G\", \"H\", \"I\", \"J\", \"K\", \"L\", \"M\", \"N\", \"O\", \"P\", \"Q\", \"R\", \"S\", \"T\", \"U\", \"V\", \"W\", \"X\", \"Y\", \"Z\"]\n",
        "\n",
        "punctuation = [\".\", \",\", \"!\", \"?\", \"'\", \"\\\"\", \"(\", \")\", \" \", \"-\", \";\", \":\"]"
      ]
    },
    {
      "cell_type": "markdown",
      "metadata": {
        "id": "ZejwK6urrrqs"
      },
      "source": [
        "2. Make one long list containing all the symbols.  Find the length of this list.\n"
      ]
    },
    {
      "cell_type": "code",
      "execution_count": 280,
      "metadata": {
        "id": "l8ZVLLXWrrqs"
      },
      "outputs": [
        {
          "data": {
            "text/plain": [
              "64"
            ]
          },
          "execution_count": null,
          "metadata": {},
          "output_type": "execute_result"
        }
      ],
      "source": [
        "all_symbols = lower_case + upper_case + punctuation\n",
        "len(all_symbols)"
      ]
    },
    {
      "cell_type": "markdown",
      "metadata": {
        "id": "HvgV76Dbrrqt"
      },
      "source": [
        "3. Repeat the previous steps, but instead of using *list* type objects, use **numpy arrays**.  Don't forget to **import** the numpy library!\n"
      ]
    },
    {
      "cell_type": "code",
      "execution_count": 281,
      "metadata": {
        "id": "x9YyIMP6rrqt"
      },
      "outputs": [],
      "source": [
        "import numpy as np\n",
        "\n",
        "lower_case = np.array([\"a\", \"b\", \"c\", \"d\", \"e\", \"f\", \"g\", \"h\", \"i\", \"j\", \"k\", \"l\", \"m\", \"n\", \"o\", \"p\", \"q\", \"r\", \"s\", \"t\", \"u\", \"v\", \"w\", \"x\", \"y\", \"z\"])\n",
        "\n",
        "upper_case = np.array([\"A\", \"B\", \"C\", \"D\", \"E\", \"F\", \"G\", \"H\", \"I\", \"J\", \"K\", \"L\", \"M\", \"N\", \"O\", \"P\", \"Q\", \"R\", \"S\", \"T\", \"U\", \"V\", \"W\", \"X\", \"Y\", \"Z\"])\n",
        "\n",
        "punctuation = np.array([\".\", \",\", \"!\", \"?\", \"'\", \"\\\"\", \"(\", \")\", \" \", \"-\", \";\", \":\"])\n",
        "\n",
        "## Use np.concatenate to combine into long array\n",
        "all_symbols = np.concatenate((lower_case, upper_case, punctuation))"
      ]
    },
    {
      "cell_type": "markdown",
      "metadata": {
        "id": "rpbAtPlXrrqt"
      },
      "source": [
        "4. Make a **pandas data frame**, with one column called \"Symbol\" containing the `all_symbols` array.\n"
      ]
    },
    {
      "cell_type": "code",
      "execution_count": 283,
      "metadata": {
        "id": "K103ZvNVrrqu"
      },
      "outputs": [],
      "source": [
        "import pandas as pd\n",
        "\n",
        "symbols_df = pd.DataFrame(all_symbols, columns = [\"Symbol\"])"
      ]
    },
    {
      "cell_type": "markdown",
      "metadata": {
        "id": "L-m2LLyHrrqu"
      },
      "source": [
        "## Part Two: Decoding the secret message.\n"
      ]
    },
    {
      "cell_type": "markdown",
      "metadata": {
        "id": "T3ui38Z9rrqu"
      },
      "source": [
        "### Hint\n",
        "\n",
        "Recall that basic math operations are **vectorized**.  This means you don't have to repeat the process for each item in a list; you can apply the math to the whole thing at once.\n",
        "\n",
        "### Instructions\n",
        "\n",
        "By altering this top secret set of numbers, you will be able to create a message.  Write your own code to complete the steps below.\n",
        "\n",
        "1. Add 14 to every number.\n",
        "2. Multiply every number by 18, then subtract 257.\n",
        "3. Exponentiate every number.  (That is, do e^[number].  You may have to Google how to do this!)\n",
        "4. Square every number.\n",
        "\n",
        "**Checkpoint:** Headquarters has informed you that at this stage of decoding, there should be 352 numbers in the secret message that are below 17.  Write code to check if this is true for your data.\n",
        "\n",
        "\n",
        "5. Turn your one-dimensional array of numbers into a two-dimensional array (matrix) with 5 columns.\n",
        "6. Separately from your top secret numbers, create an array of all the even numbers between 1 and 382. Name it \"evens\". That is, \"evens\" should contain 2, 4, 6, 8 ..., 382.\n",
        "7. Subtract the \"evens\" vector from the first column of your secret message matrix.\n",
        "8. Subtract 100 from all numbers in the 18-24th rows of the 3rd column.\n",
        "9. Multiply all numbers in the 4th and 5th column by 2.\n",
        "10. Turn your matrix back into a one dimensional array.\n",
        "\n",
        "\n",
        "**Checkpoint:** Headquarters has informed you that at this stage of decoding, all numbers in indices 500 and beyond are below 100.  Write code to check if your numbers fulfill this requirement.\n",
        "\n",
        "11. Take the square root of all numbers in indices 37 to 464.\n",
        "12. Round all numbers to the nearest whole number.\n",
        "13. Replace all instances of the number 39 with 20.\n",
        "\n",
        "**Checkpoint:** Headquarters has informed you that your final message should have 344 even numbers.  Write code to check if your numbers fulfill this requirement.\n",
        "\n",
        "## Part 3: The secret message!\n",
        "\n",
        "Run the following to discover the final message!  Google the first line of this message, if you do not recognize it, to see what it is.\n"
      ]
    },
    {
      "cell_type": "code",
      "execution_count": 274,
      "metadata": {},
      "outputs": [
        {
          "data": {
            "text/plain": [
              "np.int64(344)"
            ]
          },
          "execution_count": null,
          "metadata": {},
          "output_type": "execute_result"
        }
      ],
      "source": [
        "top_secret = pd.read_csv(\"https://www.dropbox.com/s/k72h1zewk4gtqep/PA_Secret_Code?dl=1\", header=None)\n",
        "\n",
        "top_secret = top_secret[0].to_numpy()\n",
        "\n",
        "# Add 14 to every number.\n",
        "#Multiply every number by 18, then subtract 257.\n",
        "top_secret_q1 = ((top_secret + 14)*18) - 257\n",
        "\n",
        "#Exponentiate every number.\n",
        "top_secret_q3 = np.exp(top_secret_q1)\n",
        "\n",
        "#Square every number.\n",
        "top_secret_q4 = (top_secret_q3) ** 2\n",
        "\n",
        "#checkpoint\n",
        "(top_secret_q4 < 17).sum()\n",
        "\n",
        "#Turn your one-dimensional array of numbers into a two-dimensional array (matrix) with 5 columns.\n",
        "top_secret_matrix = top_secret_q4.reshape(-1, 5, order = \"F\")\n",
        "\n",
        "#Separately from your top secret numbers, create an array of all the even numbers between 1 and 382. \n",
        "# Name it \"evens\". That is, \"evens\" should contain 2, 4, 6, 8 ..., 382.\n",
        "evens = np.arange(2, 384, 2)\n",
        "\n",
        "#Subtract the \"evens\" vector from the first column of your secret message matrix.\n",
        "top_secret_matrix[:, 0] = top_secret_matrix[:, 0] - evens\n",
        "\n",
        "#Subtract 100 from all numbers in the 18-24th rows of the 3rd column.\n",
        "top_secret_matrix[17:24, 2] = top_secret_matrix[17:24, 2] - 100\n",
        "\n",
        "#Multiply all numbers in the 4th and 5th column by 2.\n",
        "top_secret_matrix[:, 3:5]= top_secret_matrix[:, 3:5]*2\n",
        "\n",
        "#Turn your matrix back into a one dimensional array.\n",
        "top_secret_array = top_secret_matrix.reshape(-1, order = \"F\")\n",
        "\n",
        "#checkpoint\n",
        "below_100 = np.all(top_secret_array[500:] < 100)\n",
        "below_100\n",
        "\n",
        "#Take the square root of all numbers in indices 37 to 464.\n",
        "top_secret_array[37:465] = np.sqrt(top_secret_array[37:465])\n",
        "\n",
        "#Round all numbers to the nearest whole number.\n",
        "top_secret_array2 = np.round(top_secret_array)\n",
        "\n",
        "#Replace all instances of the number 39 with 20.\n",
        "top_secret_array2[top_secret_array2 == 39] = 20\n",
        "\n",
        "\n",
        "#checkpoint\n",
        "check = np.sum(top_secret_array2 % 2 == 0)\n",
        "top_secret_array2 = top_secret_array2 - 1\n",
        "check\n"
      ]
    },
    {
      "cell_type": "code",
      "execution_count": 276,
      "metadata": {},
      "outputs": [
        {
          "data": {
            "text/plain": [
              "array([56., 45., 22.,  0., 18., 60.,  1., 17.,  8., 11., 11.,  8.,  6.,\n",
              "       53., 60.,  0., 13.,  3., 60., 19.,  7.,  4., 60., 18., 11.,  8.,\n",
              "       19.,  7., 24., 60., 19., 14., 21.,  4., 18., 60., 60., 60., 29.,\n",
              "        8.,  3., 60.,  6., 24., 17.,  4., 60.,  0., 13.,  3., 60.,  6.,\n",
              "        8., 12.,  1., 11.,  4., 60.,  8., 13., 60., 19.,  7.,  4., 60.,\n",
              "       22.,  0.,  1.,  4., 63., 60., 26., 11., 11., 60., 12.,  8., 12.,\n",
              "       18., 24., 60., 22.,  4., 17.,  4., 60., 19.,  7.,  4., 60.,  1.,\n",
              "       14., 17., 14.,  6., 14., 21.,  4., 18., 53., 60., 60., 60., 26.,\n",
              "       13.,  3., 60., 19.,  7.,  4., 60., 12., 14., 12.,  4., 60., 17.,\n",
              "        0., 19.,  7., 18., 60., 14., 20., 19.,  6., 17.,  0.,  1.,  4.,\n",
              "       52., 60., 57., 27.,  4., 22.,  0., 17.,  4., 60., 19.,  7.,  4.,\n",
              "       60., 35.,  0.,  1.,  1.,  4., 17., 22., 14.,  2., 10., 53., 60.,\n",
              "       12., 24., 60., 18., 14., 13., 54., 60., 60., 60., 45.,  7.,  4.,\n",
              "       60.,  9.,  0., 22., 18., 60., 19.,  7.,  0., 19., 60.,  1.,  8.,\n",
              "       19.,  4., 53., 60., 19.,  7.,  4., 60.,  2., 11.,  0., 22., 18.,\n",
              "       60., 19.,  7.,  0., 19., 60.,  2.,  0., 19.,  2.,  7., 54., 60.,\n",
              "       27.,  4., 22.,  0., 17.,  4., 60., 19.,  7.,  4., 60., 35., 20.,\n",
              "        1.,  9., 20.,  1., 60.,  1.,  8., 17.,  3., 53., 60.,  0., 13.,\n",
              "        3., 60., 18.,  7., 20., 13., 60., 60., 60., 45.,  7.,  4., 60.,\n",
              "        5., 17., 20., 12.,  8., 14., 20., 18., 60., 27.,  0., 13.,  3.,\n",
              "        4., 17., 18., 13.,  0., 19.,  2.,  7., 54., 57., 60., 33.,  4.,\n",
              "       60., 19., 14., 14., 10., 60.,  7.,  8., 18., 60., 21., 14., 17.,\n",
              "       15.,  0., 11., 60., 18., 22., 14., 17.,  3., 60.,  8., 13., 60.,\n",
              "        7.,  0., 13.,  3., 62., 60., 60., 60., 37., 14., 13.,  6., 60.,\n",
              "       19.,  8., 12.,  4., 60., 19.,  7.,  4., 60., 12.,  0., 13., 23.,\n",
              "       14., 12.,  4., 60.,  5., 14.,  4., 60.,  7.,  4., 60., 18., 14.,\n",
              "       20.,  6.,  7., 19., 61., 60., 44., 14., 60., 17.,  4., 18., 19.,\n",
              "        4.,  3., 60.,  7.,  4., 60.,  1., 24., 60., 19.,  7.,  4., 60.,\n",
              "       45., 20., 12., 19., 20., 12., 60., 19., 17.,  4.,  4., 60., 60.,\n",
              "       60., 26., 13.,  3., 60., 18., 19., 14., 14.,  3., 60.,  0., 22.,\n",
              "        7.,  8., 11.,  4., 60.,  8., 13., 60., 19.,  7., 14., 20.,  6.,\n",
              "        7., 19., 52., 60., 26., 13.,  3., 53., 60.,  0., 18., 60.,  8.,\n",
              "       13., 60., 20.,  5.,  5.,  8., 18.,  7., 60., 19.,  7., 14., 20.,\n",
              "        6.,  7., 19., 60.,  7.,  4., 60., 18., 19., 14., 14.,  3., 53.,\n",
              "       60., 60., 60., 45.,  7.,  4., 60., 35.,  0.,  1.,  1.,  4., 17.,\n",
              "       22., 14.,  2., 10., 53., 60., 22.,  8., 19.,  7., 60.,  4., 24.,\n",
              "        4., 18., 60., 14.,  5., 60.,  5., 11.,  0., 12.,  4., 53., 60.,\n",
              "       28.,  0., 12.,  4., 60., 22.,  7.,  8.,  5.,  5., 11.,  8., 13.,\n",
              "        6., 60., 19.,  7., 17., 14., 20.,  6.,  7., 60., 19.,  7.,  4.,\n",
              "       60., 19., 20., 11.,  6.,  4., 24., 60., 22., 14., 14.,  3., 53.,\n",
              "       60., 60., 60., 26., 13.,  3., 60.,  1., 20., 17.,  1., 11.,  4.,\n",
              "        3., 60.,  0., 18., 60.,  8., 19., 60.,  2.,  0., 12.,  4., 54.,\n",
              "       60., 40., 13.,  4., 53., 60., 19., 22., 14., 54., 60., 40., 13.,\n",
              "        4., 53., 60., 19., 22., 14., 54., 60., 26., 13.,  3., 60., 19.,\n",
              "        7., 17., 14., 20.,  6.,  7., 60.,  0., 13.,  3., 60., 19.,  7.,\n",
              "       17., 14., 20.,  6.,  7., 60., 60., 60., 45.,  7.,  4., 60., 21.,\n",
              "       14., 17., 15.,  0., 11., 60.,  1., 11.,  0.,  3.,  4., 60., 22.,\n",
              "        4., 13., 19., 60., 18., 13.,  8.,  2., 10.,  4., 17., 61., 18.,\n",
              "       13.,  0.,  2., 10., 54., 60., 33.,  4., 60., 11.,  4.,  5., 19.,\n",
              "       60.,  8., 19., 60.,  3.,  4.,  0.,  3., 53., 60.,  0., 13.,  3.,\n",
              "       60., 22.,  8., 19.,  7., 60.,  8., 19., 18., 60.,  7.,  4.,  0.,\n",
              "        3., 60., 60., 60., 33.,  4., 60., 22.,  4., 13., 19., 60.,  6.,\n",
              "        0., 11., 20., 12., 15.,  7.,  8., 13.,  6., 60.,  1.,  0.,  2.,\n",
              "       10., 52., 60., 57., 26., 13.,  3., 60.,  7.,  0., 18., 19., 60.,\n",
              "       19.,  7., 14., 20., 60., 18., 11.,  0.,  8., 13., 60., 19.,  7.,\n",
              "        4., 60., 35.,  0.,  1.,  1.,  4., 17., 22., 14.,  2., 10., 55.,\n",
              "       60., 60., 60., 28., 14., 12.,  4., 60., 19., 14., 60., 12., 24.,\n",
              "       60.,  0., 17., 12., 18., 53., 60., 12., 24., 60.,  1.,  4.,  0.,\n",
              "       12.,  8., 18.,  7., 60.,  1., 14., 24., 54., 60., 40., 60.,  5.,\n",
              "       17.,  0.,  1.,  9., 14., 20., 18., 60.,  3.,  0., 24., 54., 60.,\n",
              "       28.,  0., 11., 11., 14., 14.,  7., 54., 60., 28.,  0., 11., 11.,\n",
              "        0., 24., 54., 57., 60., 60., 60., 33.,  4., 60.,  2.,  7., 14.,\n",
              "       17., 19., 11.,  4.,  3., 60.,  8., 13., 60.,  7.,  8., 18., 60.,\n",
              "        9., 14., 24., 52., 60., 56., 45., 22.,  0., 18., 60.,  1., 17.,\n",
              "        8., 11., 11.,  8.,  6., 53., 60.,  0., 13.,  3., 60., 19.,  7.,\n",
              "        4., 60., 18., 11.,  8., 19.,  7., 24., 60., 19., 14., 21.,  4.,\n",
              "       18., 60., 60., 60., 29.,  8.,  3., 60.,  6., 24., 17.,  4., 60.,\n",
              "        0., 13.,  3., 60.,  6.,  8., 12.,  1., 11.,  4., 60.,  8., 13.,\n",
              "       60., 19.,  7.,  4., 60., 22.,  0.,  1.,  4., 63., 60., 26., 11.,\n",
              "       11., 60., 12.,  8., 12., 18., 24., 60., 22.,  4., 17.,  4., 60.,\n",
              "       19.,  7.,  4., 60.,  1., 14., 17., 14.,  6., 14., 21.,  4., 18.,\n",
              "       53., 60., 60., 60., 26., 13.,  3., 60., 19.,  7.,  4., 60., 12.,\n",
              "       14., 12.,  4., 60., 17.,  0., 19.,  7., 18., 60., 14., 20., 19.,\n",
              "        6., 17.,  0.,  1.,  4., 52.])"
            ]
          },
          "execution_count": null,
          "metadata": {},
          "output_type": "execute_result"
        }
      ],
      "source": [
        "top_secret_array2"
      ]
    },
    {
      "cell_type": "code",
      "execution_count": 285,
      "metadata": {
        "id": "v_bB8VNvrrqu"
      },
      "outputs": [
        {
          "data": {
            "text/plain": [
              "'\\'Twas brillig, and the slithy toves   Did gyre and gimble in the wabe: All mimsy were the borogoves,   And the mome raths outgrabe. \"Beware the Jabberwock, my son!   The jaws that bite, the claws that catch! Beware the Jubjub bird, and shun   The frumious Bandersnatch!\" He took his vorpal sword in hand;   Long time the manxome foe he sought- So rested he by the Tumtum tree   And stood awhile in thought. And, as in uffish thought he stood,   The Jabberwock, with eyes of flame, Came whiffling through the tulgey wood,   And burbled as it came! One, two! One, two! And through and through   The vorpal blade went snicker-snack! He left it dead, and with its head   He went galumphing back. \"And hast thou slain the Jabberwock?   Come to my arms, my beamish boy! O frabjous day! Callooh! Callay!\"   He chortled in his joy. \\'Twas brillig, and the slithy toves   Did gyre and gimble in the wabe: All mimsy were the borogoves,   And the mome raths outgrabe.'"
            ]
          },
          "execution_count": null,
          "metadata": {},
          "output_type": "execute_result"
        }
      ],
      "source": [
        "''.join(map(str, symbols_df.loc[top_secret_array2]['Symbol']))"
      ]
    }
  ],
  "metadata": {
    "colab": {
      "provenance": []
    },
    "kernelspec": {
      "display_name": "Python 3 (ipykernel)",
      "language": "python",
      "name": "python3"
    },
    "language_info": {
      "name": "python",
      "version": "3.12.5"
    }
  },
  "nbformat": 4,
  "nbformat_minor": 0
}
