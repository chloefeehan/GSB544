{
 "cells": [
  {
   "cell_type": "markdown",
   "metadata": {},
   "source": [
    "## Week 2\n",
    "\n",
    "### Pivoting"
   ]
  },
  {
   "cell_type": "code",
   "execution_count": 4,
   "metadata": {},
   "outputs": [],
   "source": [
    "import pandas as pd\n",
    "\n",
    "population = pd.read_csv(\"pop.csv\")\n",
    "\n",
    "# pivot wide to long\n",
    "long_population = population.melt(id_vars=[\"country\"], var_name=\"year\", value_name=\"population\")\n",
    "\n",
    "\n",
    "#pivoting back long to wide\n",
    "wide_population = long_population.pivot(index = \"country\", columns = \"year\", values = \"population\")\n",
    "wide_population = wide_population.reset_index()\n"
   ]
  },
  {
   "cell_type": "markdown",
   "metadata": {},
   "source": [
    "### Joining"
   ]
  },
  {
   "cell_type": "code",
   "execution_count": 25,
   "metadata": {},
   "outputs": [
    {
     "data": {
      "text/plain": [
       "Name           0\n",
       "Sex            0\n",
       "Count_x    13415\n",
       "Count_y        0\n",
       "dtype: int64"
      ]
     },
     "execution_count": null,
     "metadata": {},
     "output_type": "execute_result"
    }
   ],
   "source": [
    "data_dir = \"http://dlsun.github.io/pods/data/names/\"\n",
    "names1995 = pd.read_csv(data_dir + \"yob1995.txt\",\n",
    "                        header=None,\n",
    "                        names=[\"Name\", \"Sex\", \"Count\"])\n",
    "names1995\n",
    "\n",
    "names2015 = pd.read_csv(data_dir + \"yob2015.txt\",\n",
    "                        header=None,\n",
    "                        names=[\"Name\", \"Sex\", \"Count\"])\n",
    "names2015\n",
    "\n",
    "# combine both datasets\n",
    "# if you wanted to combine more than 2 datasets, you can just list more\n",
    "pd.concat([names1995, names2015])\n",
    "\n",
    "# but it doesn't have year column so you don't know which values are from which\n",
    "# create year column to distinguish\n",
    "names1995[\"Year\"] = 1995\n",
    "names2015[\"Year\"] = 2015\n",
    "names = pd.concat([names1995, names2015], ignore_index=True)\n",
    "names\n",
    "\n",
    "# joining datasets based on left dataset (names1995) and based on common values (name and sex)\n",
    "names1995.merge(names2015, on=[\"Name\", \"Sex\"])\n",
    "\n",
    "#change suffixes to be more informative\n",
    "names1995.merge(names2015, on=[\"Name\", \"Sex\"], suffixes=(\"1995\", \"2015\"))\n",
    "\n",
    "## merge datasets by sex even though columns are named differently\n",
    "\n",
    "# Create new DataFrames where the column names are different\n",
    "names2015_ = names2015.rename({\"Sex\": \"Gender\"}, axis=1)\n",
    "\n",
    "# This is how you merge them.\n",
    "names1995.merge(\n",
    "    names2015_,\n",
    "    left_on=(\"Name\", \"Sex\"),\n",
    "    right_on=(\"Name\", \"Gender\")\n",
    ")\n",
    "\n",
    "\n",
    "jessie1995 = names1995[names1995[\"Name\"] == \"Jessie\"]\n",
    "jessie1995\n",
    "\n",
    "jessie2015 = names2015[names2015[\"Name\"] == \"Jessie\"]\n",
    "jessie2015\n",
    "\n",
    "# merged dataset is okay, but be careful with double-counting variables\n",
    "jessie1995.merge(jessie2015, on=[\"Name\"])\n",
    "\n",
    "\n",
    "data_dir = \"http://dlsun.github.io/pods/data/names/\"\n",
    "\n",
    "names1995 = pd.read_csv(data_dir + \"yob1995.txt\",\n",
    "                        header=None, names=[\"Name\", \"Sex\", \"Count\"])\n",
    "names2005 = pd.read_csv(data_dir + \"yob2005.txt\",\n",
    "                        header=None, names=[\"Name\", \"Sex\", \"Count\"])\n",
    "\n",
    "# no one had this name in 1995\n",
    "names1995[names1995.Name == \"Nevaeh\"]\n",
    "\n",
    "names2005[names2005.Name == \"Nevaeh\"]\n",
    "\n",
    "# when you merge datasets, it results with an empty one bc it's merging based on names that appeared in both\n",
    "# nevaeh didn't appear before 1995, so it's empty\n",
    "names = names1995.merge(names2005, on=[\"Name\", \"Sex\"])\n",
    "names[names.Name == \"Nevaeh\"]\n",
    "\n",
    "\n",
    "# inner join, specify join using how argument\n",
    "names_inner = names1995.merge(names2005, on=[\"Name\", \"Sex\"], how=\"inner\")\n",
    "names_inner\n",
    "\n",
    "# outer join\n",
    "names_outer = names1995.merge(names2005, on=[\"Name\", \"Sex\"], how=\"outer\")\n",
    "names_outer\n",
    "\n",
    "names_inner.isnull().sum()\n",
    "\n",
    "# left join\n",
    "names_left = names1995.merge(names2005, on=[\"Name\", \"Sex\"], how=\"left\")\n",
    "names_left\n",
    "\n",
    "names_left.isnull().sum()\n",
    "\n",
    "\n",
    "# right join\n",
    "names_right = names1995.merge(names2005, on=[\"Name\", \"Sex\"], how=\"right\")\n",
    "names_right\n",
    "\n",
    "names_right.isnull().sum()"
   ]
  },
  {
   "cell_type": "code",
   "execution_count": 27,
   "metadata": {},
   "outputs": [],
   "source": [
    "# practice\n",
    "# merge dataset with population dataset\n",
    "\n",
    "life_expectancy = pd.read_csv(\"lex.csv\")\n",
    "\n",
    "long_life = life_expectancy.melt(id_vars=[\"country\"], var_name=\"year\", value_name=\"life_exp\")\n",
    "\n",
    "# join population and life exp by country and year\n",
    "\n",
    "joined  = long_population.merge(long_life, on = [\"country\", \"year\"], how = \"inner\")\n",
    "\n"
   ]
  }
 ],
 "metadata": {
  "language_info": {
   "name": "python"
  }
 },
 "nbformat": 4,
 "nbformat_minor": 2
}
