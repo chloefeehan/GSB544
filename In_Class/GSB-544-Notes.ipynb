{
 "cells": [
  {
   "cell_type": "raw",
   "metadata": {
    "vscode": {
     "languageId": "raw"
    }
   },
   "source": [
    "title: \"GSB 544 Notes\"\n",
    "author: \"Chloe Feehan\"\n",
    "format: \n",
    "  html:\n",
    "    code-fold: true\n",
    "    embed-resources: true\n",
    "    toc: true\n",
    "theme: flatly\n",
    "---"
   ]
  },
  {
   "cell_type": "markdown",
   "metadata": {},
   "source": [
    "### 4 Tabular Data and Basic Data Observations\n",
    "\n",
    "A dataset is tidy if it adheres to following three characteristics:\n",
    "- Every column is a variable\n",
    "- Every row is an observation\n",
    "- Every cell is a single value\n",
    "\n",
    "The “Big Five” Verbs of Data Wrangling\n",
    "\n",
    "1. Select columns/variables of interest"
   ]
  },
  {
   "cell_type": "code",
   "execution_count": null,
   "metadata": {},
   "outputs": [],
   "source": [
    "import numpy as np\n",
    "import pandas as pd\n",
    "\n",
    "# Import the titanic dataset here\n",
    "\n",
    "data_dir = \"https://dlsun.github.io/pods/data/\"\n",
    "df_titanic = pd.read_csv(data_dir + \"titanic.csv\")"
   ]
  },
  {
   "cell_type": "code",
   "execution_count": null,
   "metadata": {},
   "outputs": [],
   "source": [
    "#three ways\n",
    "df_titanic.loc[:, \"age\"]\n",
    "\n",
    "df_titanic[\"age\"]\n",
    "\n",
    "df_titanic.age\n",
    "\n",
    "# select multiple columns\n",
    "\n",
    "# Method 1\n",
    "df_titanic.loc[:, [\"age\", \"fare\"]].head()\n",
    "\n",
    "# Method 2\n",
    "df_titanic[[\"age\", \"fare\"]].head()"
   ]
  },
  {
   "cell_type": "markdown",
   "metadata": {},
   "source": [
    "2. Filter rows/observations of interest"
   ]
  },
  {
   "cell_type": "markdown",
   "metadata": {},
   "source": []
  }
 ],
 "metadata": {
  "language_info": {
   "name": "python"
  }
 },
 "nbformat": 4,
 "nbformat_minor": 2
}
