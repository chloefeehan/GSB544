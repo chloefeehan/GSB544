{
 "cells": [
  {
   "cell_type": "raw",
   "metadata": {
    "vscode": {
     "languageId": "raw"
    }
   },
   "source": [
    "---\n",
    "title: \"PA 7.1\"\n",
    "author: \"Chloe Feehan\"\n",
    "format: \n",
    "  html:\n",
    "    code-fold: true\n",
    "    embed-resources: true\n",
    "    toc: true\n",
    "theme: flatly\n",
    "---"
   ]
  },
  {
   "cell_type": "code",
   "execution_count": 111,
   "metadata": {},
   "outputs": [],
   "source": [
    "import pandas as pd\n",
    "import numpy as np\n",
    "from sklearn.pipeline import Pipeline\n",
    "from sklearn.linear_model import LinearRegression\n",
    "from sklearn.metrics import r2_score\n",
    "from plotnine import *\n",
    "from sklearn.preprocessing import PolynomialFeatures, OneHotEncoder, StandardScaler\n",
    "from sklearn.model_selection import train_test_split, GridSearchCV, cross_val_score\n",
    "from sklearn.compose import ColumnTransformer, make_column_selector\n",
    "from sklearn.metrics import mean_squared_error, r2_score\n",
    "from tpot import TPOTRegressor\n",
    "from itertools import combinations"
   ]
  },
  {
   "cell_type": "code",
   "execution_count": 112,
   "metadata": {},
   "outputs": [],
   "source": [
    "ames = pd.read_csv(\"AmesHousing.csv\")"
   ]
  },
  {
   "cell_type": "markdown",
   "metadata": {},
   "source": [
    "# Question 1\n",
    "\n",
    "Consider four possible models for predicting house prices:\n",
    "\n",
    "1. Using only the size and number of rooms.\n",
    "2. Using size, number of rooms, and building type.\n",
    "3. Using size and building type, and their interaction.\n",
    "4. Using a 5-degree polynomial on size, a 5-degree polynomial on number of rooms, and also building type.\n",
    "Set up a pipeline for each of these four models.\n",
    "\n",
    "Then, get predictions on the test set for each of your pipelines, and compute the root mean squared error. Which model performed best?\n",
    "\n",
    "Note: You should only use the function train_test_split() one time in your code; that is, we should be predicting on the same test set for all three models."
   ]
  },
  {
   "cell_type": "code",
   "execution_count": 113,
   "metadata": {},
   "outputs": [],
   "source": [
    "X = ames[[\"Bldg Type\", \"Gr Liv Area\", \"TotRms AbvGrd\"]]\n",
    "y = ames[\"SalePrice\"]\n",
    "\n",
    "X_train, X_test, y_train, y_test = train_test_split(X, y, test_size = 0.2, random_state=1)"
   ]
  },
  {
   "cell_type": "markdown",
   "metadata": {},
   "source": [
    "## Model 1: Using only the size and number of rooms."
   ]
  },
  {
   "cell_type": "code",
   "execution_count": 114,
   "metadata": {},
   "outputs": [
    {
     "name": "stdout",
     "output_type": "stream",
     "text": [
      "Model 1: (size and number of rooms)\n",
      "Test RMSE: 51020.35\n",
      "Test R^2:  0.58\n",
      "Model 1: (size and number of rooms)\n",
      "Test RMSE: 51020.35\n",
      "Test R^2:  0.58\n"
     ]
    }
   ],
   "source": [
    "# create model to predict size and number of rooms\n",
    "\n",
    "lr = LinearRegression()\n",
    "\n",
    "ct = ColumnTransformer(\n",
    "  [\n",
    "    (\"standardize\", \n",
    "    StandardScaler(), [\"Gr Liv Area\", \"TotRms AbvGrd\"])\n",
    "  ],\n",
    "  remainder = \"drop\"\n",
    ")\n",
    "\n",
    "\n",
    "lr_pipeline1 = Pipeline(\n",
    "  [\n",
    "  (\"preprocessing\", ct),\n",
    "  (\"linear_regression\", lr)]\n",
    ")\n",
    "\n",
    "lr_fitted1 = lr_pipeline1.fit(X_train, y_train)\n",
    "\n",
    "y_pred_test1 = lr_pipeline1.predict(X_test)\n",
    "\n",
    "mse_test1 = mean_squared_error(y_test, y_pred_test1)\n",
    "rmse1 = np.sqrt(mse_test1)\n",
    "rsquared_test1 = r2_score(y_test, y_pred_test1)\n",
    "\n",
    "print(\"Model 1: (size and number of rooms)\")\n",
    "print(\"Test RMSE:\", rmse1.__round__(2))\n",
    "print(\"Test R^2: \", rsquared_test1.__round__(2))\n"
   ]
  },
  {
   "cell_type": "markdown",
   "metadata": {},
   "source": [
    "## Model 2: (size, number of rooms, building type)"
   ]
  },
  {
   "cell_type": "code",
   "execution_count": 115,
   "metadata": {},
   "outputs": [
    {
     "name": "stdout",
     "output_type": "stream",
     "text": [
      "Model 2: (size, number of rooms, building type)\n",
      "Test RMSE: 49737.74\n",
      "Test R^2:  0.6\n",
      "Model 2: (size, number of rooms, building type)\n",
      "Test RMSE: 49737.74\n",
      "Test R^2:  0.6\n"
     ]
    }
   ],
   "source": [
    "# create model Using size, number of rooms, and building type.\n",
    "\n",
    "lr = LinearRegression()\n",
    "\n",
    "ct = ColumnTransformer(\n",
    "  [\n",
    "    (\"dummify\", OneHotEncoder(sparse_output = False, drop = \"first\"), [\"Bldg Type\"]),\n",
    "    (\"standardize\", \n",
    "    StandardScaler(), [\"Gr Liv Area\", \"TotRms AbvGrd\"])\n",
    "  ],\n",
    "  remainder = \"drop\"\n",
    ")\n",
    "\n",
    "\n",
    "lr_pipeline2 = Pipeline(\n",
    "  [\n",
    "  (\"preprocessing\", ct),\n",
    "  (\"linear_regression\", lr)]\n",
    ")\n",
    "\n",
    "lr_fitted2 = lr_pipeline2.fit(X_train, y_train)\n",
    "\n",
    "y_pred_test2 = lr_pipeline2.predict(X_test)\n",
    "\n",
    "mse_test2 = mean_squared_error(y_test, y_pred_test2)\n",
    "rmse2 = np.sqrt(mse_test2)\n",
    "rsquared_test2 = r2_score(y_test, y_pred_test2)\n",
    "\n",
    "print(\"Model 2: (size, number of rooms, building type)\")\n",
    "print(\"Test RMSE:\", rmse2.__round__(2))\n",
    "print(\"Test R^2: \", rsquared_test2.__round__(2))\n"
   ]
  },
  {
   "cell_type": "markdown",
   "metadata": {},
   "source": [
    "## Model 3: Using size and building type, and their interaction."
   ]
  },
  {
   "cell_type": "code",
   "execution_count": 116,
   "metadata": {},
   "outputs": [
    {
     "name": "stdout",
     "output_type": "stream",
     "text": [
      "Model 3: (size, building type, and their interaction)\n",
      "Test RMSE: 49190.44\n",
      "Test R^2:  0.61\n",
      "Model 3: (size, building type, and their interaction)\n",
      "Test RMSE: 49190.44\n",
      "Test R^2:  0.61\n"
     ]
    }
   ],
   "source": [
    "# create model Using size and building type, and their interaction.\n",
    "\n",
    "lr = LinearRegression()\n",
    "\n",
    "ct = ColumnTransformer(\n",
    "  [\n",
    "    (\"dummify\", OneHotEncoder(sparse_output = False, drop = \"first\"), [\"Bldg Type\"]),\n",
    "    (\"standardize\", StandardScaler(), [\"Gr Liv Area\"])\n",
    "  ],\n",
    "  remainder = \"drop\"\n",
    ")\n",
    "\n",
    "lr_pipeline3 = Pipeline(\n",
    "  [\n",
    "  (\"preprocessing\", ct),\n",
    "  (\"interaction\", PolynomialFeatures(degree = 2, interaction_only = True, include_bias=False)),\n",
    "  (\"linear_regression\", lr)]\n",
    ")\n",
    "\n",
    "lr_fitted3 = lr_pipeline3.fit(X_train, y_train)\n",
    "\n",
    "y_pred_test3 = lr_pipeline3.predict(X_test)\n",
    "\n",
    "mse_test3 = mean_squared_error(y_test, y_pred_test3)\n",
    "rmse3 = np.sqrt(mse_test3)\n",
    "rsquared_test3 = r2_score(y_test, y_pred_test3)\n",
    "\n",
    "print(\"Model 3: (size, building type, and their interaction)\")\n",
    "print(\"Test RMSE:\", rmse3.__round__(2))\n",
    "print(\"Test R^2: \", rsquared_test3.__round__(2))\n"
   ]
  },
  {
   "cell_type": "markdown",
   "metadata": {},
   "source": [
    "## Model 4: Using a 5-degree polynomial on size, a 5-degree polynomial on number of rooms, and also building type."
   ]
  },
  {
   "cell_type": "code",
   "execution_count": 117,
   "metadata": {},
   "outputs": [
    {
     "name": "stdout",
     "output_type": "stream",
     "text": [
      "Model 4: (size, building type, and their interaction)\n",
      "Test RMSE: 62731.13\n",
      "Test R^2:  0.37\n",
      "Model 4: (size, building type, and their interaction)\n",
      "Test RMSE: 62731.13\n",
      "Test R^2:  0.37\n"
     ]
    }
   ],
   "source": [
    "# create model sing a 5-degree polynomial on size, \n",
    "# a 5-degree polynomial on number of rooms, and also building type.\n",
    "\n",
    "lr = LinearRegression()\n",
    "\n",
    "ct = ColumnTransformer(\n",
    "  [\n",
    "    (\"dummify\", OneHotEncoder(sparse_output = False, drop = \"first\"), [\"Bldg Type\"]),\n",
    "    (\"standardize\", StandardScaler(), [\"Gr Liv Area\", \"TotRms AbvGrd\"]),\n",
    "    \n",
    "  ],\n",
    "  remainder = \"drop\"\n",
    ")\n",
    "\n",
    "lr_pipeline4 = Pipeline(\n",
    "  [\n",
    "  (\"preprocessing\", ct),\n",
    "  (\"polynomial\", PolynomialFeatures(degree=5, include_bias=False)),\n",
    "  (\"linear_regression\", lr)]\n",
    ")\n",
    "\n",
    "lr_fitted4 = lr_pipeline4.fit(X_train, y_train)\n",
    "\n",
    "y_pred_test4 = lr_pipeline4.predict(X_test)\n",
    "\n",
    "mse_test4 = mean_squared_error(y_test, y_pred_test4)\n",
    "rmse4 = np.sqrt(mse_test4)\n",
    "rsquared_test4 = r2_score(y_test, y_pred_test4)\n",
    "\n",
    "print(\"Model 4: (size, building type, and their interaction)\")\n",
    "print(\"Test RMSE:\", rmse4.__round__(2))\n",
    "print(\"Test R^2: \", rsquared_test4.__round__(2))\n"
   ]
  },
  {
   "cell_type": "code",
   "execution_count": 118,
   "metadata": {},
   "outputs": [
    {
     "name": "stdout",
     "output_type": "stream",
     "text": [
      "Model 1 RMSE:  51020.35\n",
      "Model 2 RMSE:  49737.74\n",
      "Model 3 RMSE:  49190.44\n",
      "Model 4 RMSE:  62731.13\n",
      "Model 1 RMSE:  51020.35\n",
      "Model 2 RMSE:  49737.74\n",
      "Model 3 RMSE:  49190.44\n",
      "Model 4 RMSE:  62731.13\n"
     ]
    }
   ],
   "source": [
    "# print RMSE's \n",
    "\n",
    "print(\"Model 1 RMSE: \", rmse1.__round__(2))\n",
    "print(\"Model 2 RMSE: \", rmse2.__round__(2))\n",
    "print(\"Model 3 RMSE: \", rmse3.__round__(2))\n",
    "print(\"Model 4 RMSE: \", rmse4.__round__(2))"
   ]
  },
  {
   "cell_type": "markdown",
   "metadata": {},
   "source": [
    "Based on the RMSE values, we would choose Model 3 (Using size and building type, and their interaction) as it has the lowest RMSE value and therefore suggesting that the model’s predictions are closer to the actual values, meaning it has better predictive performance"
   ]
  },
  {
   "cell_type": "markdown",
   "metadata": {},
   "source": [
    "# Question 2\n",
    "Once again consider four modeling options for house price:\n",
    "\n",
    "1. Using only the size and number of rooms.\n",
    "2. Using size, number of rooms, and building type.\n",
    "3. Using size and building type, and their interaction.\n",
    "4. Using a 5-degree polynomial on size, a 5-degree polynomial on number of rooms, and also building type.\n",
    "Use cross_val_score with the pipelines you made earlier to find the cross-validated root mean squared error for each model.\n",
    "\n",
    "Which do you prefer? Does this agree with your conclusion from earlier?"
   ]
  },
  {
   "cell_type": "code",
   "execution_count": 119,
   "metadata": {},
   "outputs": [
    {
     "name": "stdout",
     "output_type": "stream",
     "text": [
      "Model 1 CV score:  56663.06248423473\n",
      "Model 2 CV score:  54753.3363274388\n",
      "Model 3 CV score:  54040.16033128493\n",
      "Model 4 CV score:  207601.3846530061\n",
      "Model 1 CV score:  56663.06248423473\n",
      "Model 2 CV score:  54753.3363274388\n",
      "Model 3 CV score:  54040.16033128493\n",
      "Model 4 CV score:  207601.3846530061\n"
     ]
    }
   ],
   "source": [
    "score1 = cross_val_score(lr_pipeline1, X_train, y_train, cv=5, scoring='neg_mean_squared_error')\n",
    "score1 = np.sqrt(-score1)\n",
    "cv_score1 = score1.mean()\n",
    "\n",
    "score2 = cross_val_score(lr_pipeline2, X_train, y_train, cv=5, scoring='neg_mean_squared_error')\n",
    "score2 = np.sqrt(-score2)\n",
    "cv_score2 = score2.mean()\n",
    "\n",
    "score3 = cross_val_score(lr_pipeline3, X_train, y_train, cv=5, scoring='neg_mean_squared_error')\n",
    "score3 = np.sqrt(-score3)\n",
    "cv_score3 = score3.mean()\n",
    "\n",
    "score4 = cross_val_score(lr_pipeline4, X_train, y_train, cv=5, scoring='neg_mean_squared_error')\n",
    "score4 = np.sqrt(-score4)\n",
    "cv_score4 = score4.mean()\n",
    "\n",
    "print(\"Model 1 CV score: \", cv_score1)\n",
    "print(\"Model 2 CV score: \", cv_score2)\n",
    "print(\"Model 3 CV score: \", cv_score3)\n",
    "print(\"Model 4 CV score: \", cv_score4)"
   ]
  },
  {
   "cell_type": "markdown",
   "metadata": {},
   "source": [
    "Looking at the Cross-validated scores, Model 3 is still the preferred model as it has the lowest value. This agrees with the conclusion from earlier."
   ]
  },
  {
   "cell_type": "markdown",
   "metadata": {},
   "source": [
    "# Question 3\n",
    "Consider one hundred modeling options for house price:\n",
    "\n",
    "* House size, trying degrees 1 through 10\n",
    "* Number of rooms, trying degrees 1 through 10\n",
    "* Building Type\n",
    "Hint: The dictionary of possible values that you make to give to GridSearchCV will have two elements instead of one.\n",
    "\n",
    "Q1: Which model performed the best?"
   ]
  },
  {
   "cell_type": "code",
   "execution_count": 120,
   "metadata": {},
   "outputs": [],
   "source": [
    "from sklearn.model_selection import GridSearchCV\n",
    "\n",
    "ct_poly = ColumnTransformer(\n",
    "  [\n",
    "    (\"dummify\", OneHotEncoder(sparse_output = False), [\"Bldg Type\"]),\n",
    "    (\"polynomial_size\", PolynomialFeatures(), [\"Gr Liv Area\"]),\n",
    "    (\"polynomial_room\", PolynomialFeatures(), [\"TotRms AbvGrd\"])\n",
    "  ],\n",
    "  remainder = \"drop\"\n",
    ")\n",
    "\n",
    "lr_pipeline_poly = Pipeline(\n",
    "  [(\"preprocessing\", ct_poly),\n",
    "  (\"linear_regression\", LinearRegression())]\n",
    ").set_output(transform=\"pandas\")\n",
    "\n",
    "degrees = {'preprocessing__polynomial_size__degree': np.arange(1, 11),\n",
    "           'preprocessing__polynomial_room__degree': np.arange(1, 11)}\n",
    "\n",
    "gscv = GridSearchCV(lr_pipeline_poly, degrees, cv = 5, scoring='neg_mean_squared_error')\n",
    "\n",
    "gscv_fitted = gscv.fit(X, y)\n",
    "\n",
    "neg_mse_scores = gscv_fitted.cv_results_['mean_test_score']\n",
    "rmse_scores = np.sqrt(-neg_mse_scores)\n",
    "\n",
    "results_df = pd.DataFrame(data = {\n",
    "    \"polynomial_size_degree\": np.tile(np.arange(1, 11), 10),\n",
    "    \"polynomial_room_degree\": np.repeat(np.arange(1, 11), 10),\n",
    "    \"mean_test_score\": rmse_scores\n",
    "})\n",
    "\n",
    "best_model = results_df.loc[results_df['mean_test_score'].idxmin()]\n",
    "best_model\n",
    "\n",
    "\n"
   ]
  },
  {
   "cell_type": "code",
   "execution_count": 110,
   "metadata": {},
   "outputs": [
    {
     "data": {
      "text/plain": [
       "polynomial_size_degree    3.000000\n",
       "polynomial_room_degree    1.000000\n",
       "mean_test_score           0.557641\n",
       "Name: 2, dtype: float64"
      ]
     },
     "execution_count": null,
     "metadata": {},
     "output_type": "execute_result"
    }
   ],
   "source": [
    "gscv = GridSearchCV(lr_pipeline_poly, degrees, cv = 5, scoring='r2')\n",
    "\n",
    "gscv_fitted = gscv.fit(X, y)\n",
    "\n",
    "\n",
    "results_df = pd.DataFrame(data = {\n",
    "    \"polynomial_size_degree\": np.tile(np.arange(1, 11), 10),\n",
    "    \"polynomial_room_degree\": np.repeat(np.arange(1, 11), 10),\n",
    "    \"mean_test_score\": gscv_fitted.cv_results_['mean_test_score']\n",
    "})\n",
    "\n",
    "best_model = results_df.loc[results_df['mean_test_score'].idxmax()]\n",
    "best_model"
   ]
  },
  {
   "cell_type": "markdown",
   "metadata": {},
   "source": [
    "The best model is a model with a degree 3 polynomial on size and 1 degree on room.\n",
    "It has an RMSE of 52896.32167 and an R^2 of 0.5576"
   ]
  },
  {
   "cell_type": "markdown",
   "metadata": {},
   "source": [
    "Q2: What downsides do you see of trying all possible model options? How might you go about choosing a smaller number of tuning values to try?\n",
    "\n",
    "The downside is that it is very computationally intensive and takes a lot of time and power. Using other statistical techniques can help optimize and improve efficiency."
   ]
  }
 ],
 "metadata": {
  "language_info": {
   "name": "python"
  }
 },
 "nbformat": 4,
 "nbformat_minor": 2
}
