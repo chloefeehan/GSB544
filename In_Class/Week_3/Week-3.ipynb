{
 "cells": [
  {
   "cell_type": "markdown",
   "metadata": {},
   "source": [
    "# Week 3\n",
    "\n",
    "\n",
    "### For loops"
   ]
  },
  {
   "cell_type": "code",
   "execution_count": null,
   "metadata": {},
   "outputs": [],
   "source": [
    "for i in range(100,97,-1):\n",
    "  print(str(i) + \" bottles of beer on the wall\")\n",
    "  print(str(i) + \" bottles of beer\")\n",
    "  print(\" take one down, pass it around,\")\n",
    "  print(str(i-1) + \" bottles of beer on the wall\")"
   ]
  }
 ],
 "metadata": {
  "language_info": {
   "name": "python"
  }
 },
 "nbformat": 4,
 "nbformat_minor": 2
}
