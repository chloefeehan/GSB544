{
 "cells": [
  {
   "cell_type": "markdown",
   "metadata": {},
   "source": [
    "# Week 3\n",
    "\n",
    "\n",
    "### For loops"
   ]
  },
  {
   "cell_type": "code",
   "execution_count": 16,
   "metadata": {},
   "outputs": [],
   "source": [
    "import pandas as pd\n",
    "import numpy as np"
   ]
  },
  {
   "cell_type": "code",
   "execution_count": null,
   "metadata": {},
   "outputs": [],
   "source": [
    "#start at 100, go to 97, and do -1 increment\n",
    "for i in range(100,97,-1):\n",
    "  print(str(i) + \" bottles of beer on the wall\")\n",
    "  print(str(i) + \" bottles of beer\")\n",
    "  print(\" take one down, pass it around,\")\n",
    "  print(str(i-1) + \" bottles of beer on the wall\")"
   ]
  },
  {
   "cell_type": "code",
   "execution_count": 8,
   "metadata": {},
   "outputs": [],
   "source": [
    "# write a function\n",
    "\n",
    "def sing_verse(num):\n",
    "  song = str(num) + \" bottles of beer on the wall \\n\" + str(num) + \" bottles of beer \\n\" + \" take one down, pass it around, \\n\" + str(num-1) + \" bottles of beer on the wall \\n\"\n",
    "  \n",
    "  return song"
   ]
  },
  {
   "cell_type": "code",
   "execution_count": 14,
   "metadata": {},
   "outputs": [
    {
     "name": "stdout",
     "output_type": "stream",
     "text": [
      "['100 bottles of beer on the wall \\n100 bottles of beer \\n take one down, pass it around, \\n99 bottles of beer on the wall \\n', '99 bottles of beer on the wall \\n99 bottles of beer \\n take one down, pass it around, \\n98 bottles of beer on the wall \\n', '98 bottles of beer on the wall \\n98 bottles of beer \\n take one down, pass it around, \\n97 bottles of beer on the wall \\n']\n",
      "['100 bottles of beer on the wall \\n100 bottles of beer \\n take one down, pass it around, \\n99 bottles of beer on the wall \\n', '99 bottles of beer on the wall \\n99 bottles of beer \\n take one down, pass it around, \\n98 bottles of beer on the wall \\n', '98 bottles of beer on the wall \\n98 bottles of beer \\n take one down, pass it around, \\n97 bottles of beer on the wall \\n']\n"
     ]
    }
   ],
   "source": [
    "song = []\n",
    "\n",
    "for i in range(100,97,-1):\n",
    "  song.append(sing_verse(i))\n",
    "  \n",
    "print(song)"
   ]
  },
  {
   "cell_type": "markdown",
   "metadata": {},
   "source": [
    "## 7.2.1 Vectorized Functions"
   ]
  },
  {
   "cell_type": "code",
   "execution_count": 17,
   "metadata": {},
   "outputs": [
    {
     "data": {
      "text/plain": [
       "[np.float64(1.0),\n",
       " np.float64(1.7320508075688772),\n",
       " np.float64(2.23606797749979),\n",
       " np.float64(2.6457513110645907)]"
      ]
     },
     "execution_count": null,
     "metadata": {},
     "output_type": "execute_result"
    }
   ],
   "source": [
    "a_num = 5\n",
    "a_vec = [1,3,5,7]\n",
    "\n",
    "np.sqrt(a_num)\n",
    "np.sqrt(a_vec)\n",
    "\n",
    "result = []\n",
    "for i in a_vec:\n",
    "  result = result + [np.sqrt(i)]\n",
    "  \n",
    "result\n"
   ]
  },
  {
   "cell_type": "markdown",
   "metadata": {},
   "source": [
    "## 7.2.2 Vectorizing and Booleans"
   ]
  },
  {
   "cell_type": "code",
   "execution_count": 19,
   "metadata": {},
   "outputs": [
    {
     "name": "stdout",
     "output_type": "stream",
     "text": [
      "-2\n",
      "1.0\n",
      "-3\n",
      "-9\n",
      "2.6457513110645907\n",
      "-2\n",
      "1.0\n",
      "-3\n",
      "-9\n",
      "2.6457513110645907\n"
     ]
    },
    {
     "data": {
      "text/plain": [
       "array([-2,  1, -3, -9,  2])"
      ]
     },
     "execution_count": null,
     "metadata": {},
     "output_type": "execute_result"
    }
   ],
   "source": [
    "a_vec = np.array([-2, 1, -3, -9, 7])\n",
    "\n",
    "for val in a_vec:\n",
    "  if val > 0:\n",
    "    val = np.sqrt(val)\n",
    "  print(val)\n",
    "\n",
    "\n",
    "is_pos = a_vec > 0\n",
    "\n",
    "a_vec[is_pos] = np.sqrt(a_vec[is_pos])\n",
    "\n",
    "a_vec"
   ]
  },
  {
   "cell_type": "markdown",
   "metadata": {},
   "source": [
    "Write two functions:\n",
    "\n",
    "sqrt_pos_unvec() takes in a single value as an argument, and returns the square root if the value is positive. Then, write a for loop that uses this function to construct a new vector where the positive values are square rooted.\n",
    "\n",
    "sqrt_pos_vec() takes in a vector of values, and returns a vector with the positive values square rooted. Do not use a for loop inside your function."
   ]
  },
  {
   "cell_type": "code",
   "execution_count": 35,
   "metadata": {},
   "outputs": [
    {
     "name": "stdout",
     "output_type": "stream",
     "text": [
      "[]\n",
      "[]\n"
     ]
    }
   ],
   "source": [
    "def sqrt_pos_unvec(val):\n",
    "    if val > 0:\n",
    "        return np.sqrt(val)\n",
    "    else:\n",
    "        return val\n",
    "\n",
    "new_vec = []\n",
    "for i in new_vec:\n",
    "    new_vec.append(sqrt_pos_unvec(val))\n",
    "\n",
    "print(new_vec)"
   ]
  },
  {
   "cell_type": "code",
   "execution_count": 32,
   "metadata": {},
   "outputs": [
    {
     "name": "stdout",
     "output_type": "stream",
     "text": [
      "[]\n",
      "[]\n"
     ]
    }
   ],
   "source": [
    "def sqrt_pos_vec(x):\n",
    "    is_pos = x > 0\n",
    "    x[is.pos] = np.sqrt(x[is_pos])\n",
    "\n",
    "    return x\n",
    "\n",
    "print(a_vec)"
   ]
  },
  {
   "cell_type": "markdown",
   "metadata": {},
   "source": [
    "# 7.3.1 map()"
   ]
  },
  {
   "cell_type": "code",
   "execution_count": 36,
   "metadata": {},
   "outputs": [
    {
     "name": "stdout",
     "output_type": "stream",
     "text": [
      "100 bottles of beer on the wall \n",
      "100 bottles of beer \n",
      " take one down, pass it around, \n",
      "99 bottles of beer on the wall \n",
      "99 bottles of beer on the wall \n",
      "99 bottles of beer \n",
      " take one down, pass it around, \n",
      "98 bottles of beer on the wall \n",
      "98 bottles of beer on the wall \n",
      "98 bottles of beer \n",
      " take one down, pass it around, \n",
      "97 bottles of beer on the wall \n",
      "\n",
      "100 bottles of beer on the wall \n",
      "100 bottles of beer \n",
      " take one down, pass it around, \n",
      "99 bottles of beer on the wall \n",
      "99 bottles of beer on the wall \n",
      "99 bottles of beer \n",
      " take one down, pass it around, \n",
      "98 bottles of beer on the wall \n",
      "98 bottles of beer on the wall \n",
      "98 bottles of beer \n",
      " take one down, pass it around, \n",
      "97 bottles of beer on the wall \n",
      "\n"
     ]
    }
   ],
   "source": [
    "song = map(sing_verse, range(100, 97, -1))\n",
    "song = list(song)\n",
    "print(\"\".join(song))"
   ]
  },
  {
   "cell_type": "markdown",
   "metadata": {},
   "source": [
    "### 7.3.1.1 Double Mapping"
   ]
  },
  {
   "cell_type": "code",
   "execution_count": 38,
   "metadata": {},
   "outputs": [],
   "source": [
    "def sing_verse_2(num, drink):\n",
    "  song = str(num) + \" bottles of \" + drink + \" on the wall \\n\"\n",
    "  song = song + str(num) + \" bottles of \" + drink + \"\\n\" \n",
    "  song = song + \" take one down, pass it around, \\n\"\n",
    "  song = song + str(num-1) + \" bottles of \" + drink + \" on the wall \\n\"\n",
    "  \n",
    "  return song"
   ]
  },
  {
   "cell_type": "code",
   "execution_count": 41,
   "metadata": {},
   "outputs": [
    {
     "name": "stdout",
     "output_type": "stream",
     "text": [
      "100 bottles of beer on the wall \n",
      "100 bottles of beer\n",
      " take one down, pass it around, \n",
      "99 bottles of beer on the wall \n",
      "99 bottles of milk on the wall \n",
      "99 bottles of milk\n",
      " take one down, pass it around, \n",
      "98 bottles of milk on the wall \n",
      "98 bottles of lemonade on the wall \n",
      "98 bottles of lemonade\n",
      " take one down, pass it around, \n",
      "97 bottles of lemonade on the wall \n",
      "\n",
      "100 bottles of beer on the wall \n",
      "100 bottles of beer\n",
      " take one down, pass it around, \n",
      "99 bottles of beer on the wall \n",
      "99 bottles of milk on the wall \n",
      "99 bottles of milk\n",
      " take one down, pass it around, \n",
      "98 bottles of milk on the wall \n",
      "98 bottles of lemonade on the wall \n",
      "98 bottles of lemonade\n",
      " take one down, pass it around, \n",
      "97 bottles of lemonade on the wall \n",
      "\n"
     ]
    }
   ],
   "source": [
    "# use map() to switch the number and the drink at each iteration\n",
    "nums = range(100, 97, -1)\n",
    "drinks = [\"beer\", \"milk\", \"lemonade\"]\n",
    "song = map(sing_verse_2, nums, drinks)\n",
    "print(\"\".join(list(song)))"
   ]
  },
  {
   "cell_type": "code",
   "execution_count": null,
   "metadata": {},
   "outputs": [],
   "source": [
    "def sing_verse_3"
   ]
  },
  {
   "cell_type": "markdown",
   "metadata": {},
   "source": [
    "# Lambda Function"
   ]
  },
  {
   "cell_type": "code",
   "execution_count": 42,
   "metadata": {},
   "outputs": [
    {
     "name": "stdout",
     "output_type": "stream",
     "text": [
      "100 bottles of lemonade on the wall \n",
      "100 bottles of lemonade\n",
      " take one down, pass it around, \n",
      "99 bottles of lemonade on the wall \n",
      "99 bottles of lemonade on the wall \n",
      "99 bottles of lemonade\n",
      " take one down, pass it around, \n",
      "98 bottles of lemonade on the wall \n",
      "98 bottles of lemonade on the wall \n",
      "98 bottles of lemonade\n",
      " take one down, pass it around, \n",
      "97 bottles of lemonade on the wall \n",
      "\n",
      "100 bottles of lemonade on the wall \n",
      "100 bottles of lemonade\n",
      " take one down, pass it around, \n",
      "99 bottles of lemonade on the wall \n",
      "99 bottles of lemonade on the wall \n",
      "99 bottles of lemonade\n",
      " take one down, pass it around, \n",
      "98 bottles of lemonade on the wall \n",
      "98 bottles of lemonade on the wall \n",
      "98 bottles of lemonade\n",
      " take one down, pass it around, \n",
      "97 bottles of lemonade on the wall \n",
      "\n"
     ]
    }
   ],
   "source": [
    "def sing_verse_lemonade(num):\n",
    "  return sing_verse_2(num, \"lemonade\")\n",
    "\n",
    "song = map(sing_verse_lemonade, nums)\n",
    "print(\"\".join(list(song)))\n",
    "\n",
    "# Instead \n",
    "song = map(lambda i: sing_verse_2(i, \"lemonade\"), nums)\n",
    "print(\"\".join(list(song)))"
   ]
  },
  {
   "cell_type": "markdown",
   "metadata": {},
   "source": [
    "# 7.5: Iterating on Datasets\n"
   ]
  },
  {
   "cell_type": "code",
   "execution_count": 43,
   "metadata": {},
   "outputs": [
    {
     "data": {
      "text/plain": [
       "0    100\n",
       "1     52\n",
       "2      5\n",
       "dtype: int64"
      ]
     },
     "execution_count": null,
     "metadata": {},
     "output_type": "execute_result"
    }
   ],
   "source": [
    "dat = pd.DataFrame({\"x\": [99, 50, 2], \"y\": [1, 2, 3]})\n",
    "\n",
    "# apply is for repeating calculation over columns\n",
    "dat.apply(np.sqrt)\n",
    "\n",
    "dat.apply(np.sum, axis=1)"
   ]
  },
  {
   "cell_type": "code",
   "execution_count": 44,
   "metadata": {},
   "outputs": [
    {
     "ename": "NameError",
     "evalue": "name 'sing_verse_3' is not defined",
     "output_type": "error",
     "traceback": [
      "\u001b[0;31m---------------------------------------------------------------------------\u001b[0m\n",
      "\u001b[0;31mNameError\u001b[0m                                 Traceback (most recent call last)\n",
      "Cell \u001b[0;32mIn[44], line 6\u001b[0m\n",
      "\u001b[1;32m      3\u001b[0m dat\n",
      "\u001b[1;32m      5\u001b[0m \u001b[38;5;66;03m#apply sing_verse_3 over all these combinations\u001b[39;00m\n",
      "\u001b[0;32m----> 6\u001b[0m \u001b[43mdat\u001b[49m\u001b[38;5;241;43m.\u001b[39;49m\u001b[43mapply\u001b[49m\u001b[43m(\u001b[49m\u001b[38;5;28;43;01mlambda\u001b[39;49;00m\u001b[43m \u001b[49m\u001b[43mx\u001b[49m\u001b[43m:\u001b[49m\u001b[43m \u001b[49m\u001b[43msing_verse_3\u001b[49m\u001b[43m(\u001b[49m\u001b[43mx\u001b[49m\u001b[43m[\u001b[49m\u001b[38;5;124;43m'\u001b[39;49m\u001b[38;5;124;43mnum\u001b[39;49m\u001b[38;5;124;43m'\u001b[39;49m\u001b[43m]\u001b[49m\u001b[43m,\u001b[49m\u001b[43m \u001b[49m\u001b[43mx\u001b[49m\u001b[43m[\u001b[49m\u001b[38;5;124;43m'\u001b[39;49m\u001b[38;5;124;43mdrink\u001b[39;49m\u001b[38;5;124;43m'\u001b[39;49m\u001b[43m]\u001b[49m\u001b[43m,\u001b[49m\u001b[43m \u001b[49m\u001b[43mx\u001b[49m\u001b[43m[\u001b[49m\u001b[38;5;124;43m'\u001b[39;49m\u001b[38;5;124;43mcontainer\u001b[39;49m\u001b[38;5;124;43m'\u001b[39;49m\u001b[43m]\u001b[49m\u001b[43m)\u001b[49m\u001b[43m,\u001b[49m\u001b[43m \u001b[49m\u001b[43maxis\u001b[49m\u001b[38;5;241;43m=\u001b[39;49m\u001b[38;5;241;43m1\u001b[39;49m\u001b[43m)\u001b[49m\n",
      "\n",
      "File \u001b[0;32m~/.conda/envs/pythonProject/lib/python3.10/site-packages/pandas/core/frame.py:10374\u001b[0m, in \u001b[0;36mDataFrame.apply\u001b[0;34m(self, func, axis, raw, result_type, args, by_row, engine, engine_kwargs, **kwargs)\u001b[0m\n",
      "\u001b[1;32m  10360\u001b[0m \u001b[38;5;28;01mfrom\u001b[39;00m \u001b[38;5;21;01mpandas\u001b[39;00m\u001b[38;5;21;01m.\u001b[39;00m\u001b[38;5;21;01mcore\u001b[39;00m\u001b[38;5;21;01m.\u001b[39;00m\u001b[38;5;21;01mapply\u001b[39;00m \u001b[38;5;28;01mimport\u001b[39;00m frame_apply\n",
      "\u001b[1;32m  10362\u001b[0m op \u001b[38;5;241m=\u001b[39m frame_apply(\n",
      "\u001b[1;32m  10363\u001b[0m     \u001b[38;5;28mself\u001b[39m,\n",
      "\u001b[1;32m  10364\u001b[0m     func\u001b[38;5;241m=\u001b[39mfunc,\n",
      "\u001b[0;32m   (...)\u001b[0m\n",
      "\u001b[1;32m  10372\u001b[0m     kwargs\u001b[38;5;241m=\u001b[39mkwargs,\n",
      "\u001b[1;32m  10373\u001b[0m )\n",
      "\u001b[0;32m> 10374\u001b[0m \u001b[38;5;28;01mreturn\u001b[39;00m \u001b[43mop\u001b[49m\u001b[38;5;241;43m.\u001b[39;49m\u001b[43mapply\u001b[49m\u001b[43m(\u001b[49m\u001b[43m)\u001b[49m\u001b[38;5;241m.\u001b[39m__finalize__(\u001b[38;5;28mself\u001b[39m, method\u001b[38;5;241m=\u001b[39m\u001b[38;5;124m\"\u001b[39m\u001b[38;5;124mapply\u001b[39m\u001b[38;5;124m\"\u001b[39m)\n",
      "\n",
      "File \u001b[0;32m~/.conda/envs/pythonProject/lib/python3.10/site-packages/pandas/core/apply.py:916\u001b[0m, in \u001b[0;36mFrameApply.apply\u001b[0;34m(self)\u001b[0m\n",
      "\u001b[1;32m    913\u001b[0m \u001b[38;5;28;01melif\u001b[39;00m \u001b[38;5;28mself\u001b[39m\u001b[38;5;241m.\u001b[39mraw:\n",
      "\u001b[1;32m    914\u001b[0m     \u001b[38;5;28;01mreturn\u001b[39;00m \u001b[38;5;28mself\u001b[39m\u001b[38;5;241m.\u001b[39mapply_raw(engine\u001b[38;5;241m=\u001b[39m\u001b[38;5;28mself\u001b[39m\u001b[38;5;241m.\u001b[39mengine, engine_kwargs\u001b[38;5;241m=\u001b[39m\u001b[38;5;28mself\u001b[39m\u001b[38;5;241m.\u001b[39mengine_kwargs)\n",
      "\u001b[0;32m--> 916\u001b[0m \u001b[38;5;28;01mreturn\u001b[39;00m \u001b[38;5;28;43mself\u001b[39;49m\u001b[38;5;241;43m.\u001b[39;49m\u001b[43mapply_standard\u001b[49m\u001b[43m(\u001b[49m\u001b[43m)\u001b[49m\n",
      "\n",
      "File \u001b[0;32m~/.conda/envs/pythonProject/lib/python3.10/site-packages/pandas/core/apply.py:1063\u001b[0m, in \u001b[0;36mFrameApply.apply_standard\u001b[0;34m(self)\u001b[0m\n",
      "\u001b[1;32m   1061\u001b[0m \u001b[38;5;28;01mdef\u001b[39;00m \u001b[38;5;21mapply_standard\u001b[39m(\u001b[38;5;28mself\u001b[39m):\n",
      "\u001b[1;32m   1062\u001b[0m     \u001b[38;5;28;01mif\u001b[39;00m \u001b[38;5;28mself\u001b[39m\u001b[38;5;241m.\u001b[39mengine \u001b[38;5;241m==\u001b[39m \u001b[38;5;124m\"\u001b[39m\u001b[38;5;124mpython\u001b[39m\u001b[38;5;124m\"\u001b[39m:\n",
      "\u001b[0;32m-> 1063\u001b[0m         results, res_index \u001b[38;5;241m=\u001b[39m \u001b[38;5;28;43mself\u001b[39;49m\u001b[38;5;241;43m.\u001b[39;49m\u001b[43mapply_series_generator\u001b[49m\u001b[43m(\u001b[49m\u001b[43m)\u001b[49m\n",
      "\u001b[1;32m   1064\u001b[0m     \u001b[38;5;28;01melse\u001b[39;00m:\n",
      "\u001b[1;32m   1065\u001b[0m         results, res_index \u001b[38;5;241m=\u001b[39m \u001b[38;5;28mself\u001b[39m\u001b[38;5;241m.\u001b[39mapply_series_numba()\n",
      "\n",
      "File \u001b[0;32m~/.conda/envs/pythonProject/lib/python3.10/site-packages/pandas/core/apply.py:1081\u001b[0m, in \u001b[0;36mFrameApply.apply_series_generator\u001b[0;34m(self)\u001b[0m\n",
      "\u001b[1;32m   1078\u001b[0m \u001b[38;5;28;01mwith\u001b[39;00m option_context(\u001b[38;5;124m\"\u001b[39m\u001b[38;5;124mmode.chained_assignment\u001b[39m\u001b[38;5;124m\"\u001b[39m, \u001b[38;5;28;01mNone\u001b[39;00m):\n",
      "\u001b[1;32m   1079\u001b[0m     \u001b[38;5;28;01mfor\u001b[39;00m i, v \u001b[38;5;129;01min\u001b[39;00m \u001b[38;5;28menumerate\u001b[39m(series_gen):\n",
      "\u001b[1;32m   1080\u001b[0m         \u001b[38;5;66;03m# ignore SettingWithCopy here in case the user mutates\u001b[39;00m\n",
      "\u001b[0;32m-> 1081\u001b[0m         results[i] \u001b[38;5;241m=\u001b[39m \u001b[38;5;28;43mself\u001b[39;49m\u001b[38;5;241;43m.\u001b[39;49m\u001b[43mfunc\u001b[49m\u001b[43m(\u001b[49m\u001b[43mv\u001b[49m\u001b[43m,\u001b[49m\u001b[43m \u001b[49m\u001b[38;5;241;43m*\u001b[39;49m\u001b[38;5;28;43mself\u001b[39;49m\u001b[38;5;241;43m.\u001b[39;49m\u001b[43margs\u001b[49m\u001b[43m,\u001b[49m\u001b[43m \u001b[49m\u001b[38;5;241;43m*\u001b[39;49m\u001b[38;5;241;43m*\u001b[39;49m\u001b[38;5;28;43mself\u001b[39;49m\u001b[38;5;241;43m.\u001b[39;49m\u001b[43mkwargs\u001b[49m\u001b[43m)\u001b[49m\n",
      "\u001b[1;32m   1082\u001b[0m         \u001b[38;5;28;01mif\u001b[39;00m \u001b[38;5;28misinstance\u001b[39m(results[i], ABCSeries):\n",
      "\u001b[1;32m   1083\u001b[0m             \u001b[38;5;66;03m# If we have a view on v, we need to make a copy because\u001b[39;00m\n",
      "\u001b[1;32m   1084\u001b[0m             \u001b[38;5;66;03m#  series_generator will swap out the underlying data\u001b[39;00m\n",
      "\u001b[1;32m   1085\u001b[0m             results[i] \u001b[38;5;241m=\u001b[39m results[i]\u001b[38;5;241m.\u001b[39mcopy(deep\u001b[38;5;241m=\u001b[39m\u001b[38;5;28;01mFalse\u001b[39;00m)\n",
      "\n",
      "Cell \u001b[0;32mIn[44], line 6\u001b[0m, in \u001b[0;36m<lambda>\u001b[0;34m(x)\u001b[0m\n",
      "\u001b[1;32m      3\u001b[0m dat\n",
      "\u001b[1;32m      5\u001b[0m \u001b[38;5;66;03m#apply sing_verse_3 over all these combinations\u001b[39;00m\n",
      "\u001b[0;32m----> 6\u001b[0m dat\u001b[38;5;241m.\u001b[39mapply(\u001b[38;5;28;01mlambda\u001b[39;00m x: \u001b[43msing_verse_3\u001b[49m(x[\u001b[38;5;124m'\u001b[39m\u001b[38;5;124mnum\u001b[39m\u001b[38;5;124m'\u001b[39m], x[\u001b[38;5;124m'\u001b[39m\u001b[38;5;124mdrink\u001b[39m\u001b[38;5;124m'\u001b[39m], x[\u001b[38;5;124m'\u001b[39m\u001b[38;5;124mcontainer\u001b[39m\u001b[38;5;124m'\u001b[39m]), axis\u001b[38;5;241m=\u001b[39m\u001b[38;5;241m1\u001b[39m)\n",
      "\n",
      "\u001b[0;31mNameError\u001b[0m: name 'sing_verse_3' is not defined"
     ]
    }
   ],
   "source": [
    "dat = pd.DataFrame({\"num\": [99, 50, 2], \"drink\": [\"beer\", \"soda\", \"Capri Sun\"], \"container\": [\"bottles\", \"cans\", \"pouches\"]})\n",
    "\n",
    "dat\n",
    "\n",
    "#apply sing_verse_3 over all these combinations\n",
    "dat.apply(lambda x: sing_verse_3(x['num'], x['drink'], x['container']), axis=1)"
   ]
  }
 ],
 "metadata": {
  "language_info": {
   "name": "python"
  }
 },
 "nbformat": 4,
 "nbformat_minor": 2
}
